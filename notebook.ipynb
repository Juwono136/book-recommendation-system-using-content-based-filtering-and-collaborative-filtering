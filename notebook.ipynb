{
 "cells": [
  {
   "cell_type": "markdown",
   "metadata": {},
   "source": [
    "# Data Understanding"
   ]
  },
  {
   "cell_type": "markdown",
   "metadata": {},
   "source": [
    "**Berikut adalah beberapa tahapan untuk memahami data:**\n",
    "- Data Loading\n",
    "- Univariate Exploratory Data Analysis\n",
    "- Data Preprocessing"
   ]
  },
  {
   "cell_type": "markdown",
   "metadata": {},
   "source": [
    "## Data Loading"
   ]
  },
  {
   "cell_type": "markdown",
   "metadata": {},
   "source": [
    "Pada bagian ini, dataset akan dibaca secara langsung dari folder dataset yang sudah di download melalui [Book Recommendation Dataset](https://www.kaggle.com/datasets/arashnic/book-recommendation-dataset/data). Seperti yang telah dijelaskan sebelumnya, terdapat 3 file dataset di dalam folder yaitu Books, Ratings, dan Users yang akan digunakan untuk proses pengembangan model."
   ]
  },
  {
   "cell_type": "markdown",
   "metadata": {},
   "source": [
    "### Import libraries"
   ]
  },
  {
   "cell_type": "code",
   "execution_count": 75,
   "metadata": {},
   "outputs": [],
   "source": [
    "import pandas as pd\n",
    "import numpy as np\n",
    "import matplotlib.pyplot as plt\n",
    "import tensorflow as tf\n",
    "from tensorflow import keras\n",
    "from tensorflow.keras import layers\n",
    "from tabulate import tabulate"
   ]
  },
  {
   "cell_type": "markdown",
   "metadata": {},
   "source": [
    "### Load the dataset"
   ]
  },
  {
   "cell_type": "markdown",
   "metadata": {},
   "source": [
    "Baca dataset dengan menggunakan fungsi pandas.read_csv. Implementasikan kode berikut."
   ]
  },
  {
   "cell_type": "code",
   "execution_count": 2,
   "metadata": {},
   "outputs": [
    {
     "name": "stderr",
     "output_type": "stream",
     "text": [
      "C:\\Users\\unoto\\AppData\\Local\\Temp\\ipykernel_9312\\1353837609.py:1: DtypeWarning: Columns (3) have mixed types. Specify dtype option on import or set low_memory=False.\n",
      "  books = pd.read_csv(\"book-dataset/books.csv\")\n"
     ]
    }
   ],
   "source": [
    "books = pd.read_csv(\"book-dataset/books.csv\")\n",
    "ratings = pd.read_csv(\"book-dataset/ratings.csv\")\n",
    "users = pd.read_csv(\"book-dataset/users.csv\")"
   ]
  },
  {
   "cell_type": "code",
   "execution_count": 3,
   "metadata": {},
   "outputs": [
    {
     "data": {
      "text/html": [
       "<div>\n",
       "<style scoped>\n",
       "    .dataframe tbody tr th:only-of-type {\n",
       "        vertical-align: middle;\n",
       "    }\n",
       "\n",
       "    .dataframe tbody tr th {\n",
       "        vertical-align: top;\n",
       "    }\n",
       "\n",
       "    .dataframe thead th {\n",
       "        text-align: right;\n",
       "    }\n",
       "</style>\n",
       "<table border=\"1\" class=\"dataframe\">\n",
       "  <thead>\n",
       "    <tr style=\"text-align: right;\">\n",
       "      <th></th>\n",
       "      <th>ISBN</th>\n",
       "      <th>Book-Title</th>\n",
       "      <th>Book-Author</th>\n",
       "      <th>Year-Of-Publication</th>\n",
       "      <th>Publisher</th>\n",
       "      <th>Image-URL-S</th>\n",
       "      <th>Image-URL-M</th>\n",
       "      <th>Image-URL-L</th>\n",
       "    </tr>\n",
       "  </thead>\n",
       "  <tbody>\n",
       "    <tr>\n",
       "      <th>0</th>\n",
       "      <td>0195153448</td>\n",
       "      <td>Classical Mythology</td>\n",
       "      <td>Mark P. O. Morford</td>\n",
       "      <td>2002</td>\n",
       "      <td>Oxford University Press</td>\n",
       "      <td>http://images.amazon.com/images/P/0195153448.0...</td>\n",
       "      <td>http://images.amazon.com/images/P/0195153448.0...</td>\n",
       "      <td>http://images.amazon.com/images/P/0195153448.0...</td>\n",
       "    </tr>\n",
       "    <tr>\n",
       "      <th>1</th>\n",
       "      <td>0002005018</td>\n",
       "      <td>Clara Callan</td>\n",
       "      <td>Richard Bruce Wright</td>\n",
       "      <td>2001</td>\n",
       "      <td>HarperFlamingo Canada</td>\n",
       "      <td>http://images.amazon.com/images/P/0002005018.0...</td>\n",
       "      <td>http://images.amazon.com/images/P/0002005018.0...</td>\n",
       "      <td>http://images.amazon.com/images/P/0002005018.0...</td>\n",
       "    </tr>\n",
       "    <tr>\n",
       "      <th>2</th>\n",
       "      <td>0060973129</td>\n",
       "      <td>Decision in Normandy</td>\n",
       "      <td>Carlo D'Este</td>\n",
       "      <td>1991</td>\n",
       "      <td>HarperPerennial</td>\n",
       "      <td>http://images.amazon.com/images/P/0060973129.0...</td>\n",
       "      <td>http://images.amazon.com/images/P/0060973129.0...</td>\n",
       "      <td>http://images.amazon.com/images/P/0060973129.0...</td>\n",
       "    </tr>\n",
       "    <tr>\n",
       "      <th>3</th>\n",
       "      <td>0374157065</td>\n",
       "      <td>Flu: The Story of the Great Influenza Pandemic...</td>\n",
       "      <td>Gina Bari Kolata</td>\n",
       "      <td>1999</td>\n",
       "      <td>Farrar Straus Giroux</td>\n",
       "      <td>http://images.amazon.com/images/P/0374157065.0...</td>\n",
       "      <td>http://images.amazon.com/images/P/0374157065.0...</td>\n",
       "      <td>http://images.amazon.com/images/P/0374157065.0...</td>\n",
       "    </tr>\n",
       "    <tr>\n",
       "      <th>4</th>\n",
       "      <td>0393045218</td>\n",
       "      <td>The Mummies of Urumchi</td>\n",
       "      <td>E. J. W. Barber</td>\n",
       "      <td>1999</td>\n",
       "      <td>W. W. Norton &amp;amp; Company</td>\n",
       "      <td>http://images.amazon.com/images/P/0393045218.0...</td>\n",
       "      <td>http://images.amazon.com/images/P/0393045218.0...</td>\n",
       "      <td>http://images.amazon.com/images/P/0393045218.0...</td>\n",
       "    </tr>\n",
       "  </tbody>\n",
       "</table>\n",
       "</div>"
      ],
      "text/plain": [
       "         ISBN                                         Book-Title  \\\n",
       "0  0195153448                                Classical Mythology   \n",
       "1  0002005018                                       Clara Callan   \n",
       "2  0060973129                               Decision in Normandy   \n",
       "3  0374157065  Flu: The Story of the Great Influenza Pandemic...   \n",
       "4  0393045218                             The Mummies of Urumchi   \n",
       "\n",
       "            Book-Author Year-Of-Publication                   Publisher  \\\n",
       "0    Mark P. O. Morford                2002     Oxford University Press   \n",
       "1  Richard Bruce Wright                2001       HarperFlamingo Canada   \n",
       "2          Carlo D'Este                1991             HarperPerennial   \n",
       "3      Gina Bari Kolata                1999        Farrar Straus Giroux   \n",
       "4       E. J. W. Barber                1999  W. W. Norton &amp; Company   \n",
       "\n",
       "                                         Image-URL-S  \\\n",
       "0  http://images.amazon.com/images/P/0195153448.0...   \n",
       "1  http://images.amazon.com/images/P/0002005018.0...   \n",
       "2  http://images.amazon.com/images/P/0060973129.0...   \n",
       "3  http://images.amazon.com/images/P/0374157065.0...   \n",
       "4  http://images.amazon.com/images/P/0393045218.0...   \n",
       "\n",
       "                                         Image-URL-M  \\\n",
       "0  http://images.amazon.com/images/P/0195153448.0...   \n",
       "1  http://images.amazon.com/images/P/0002005018.0...   \n",
       "2  http://images.amazon.com/images/P/0060973129.0...   \n",
       "3  http://images.amazon.com/images/P/0374157065.0...   \n",
       "4  http://images.amazon.com/images/P/0393045218.0...   \n",
       "\n",
       "                                         Image-URL-L  \n",
       "0  http://images.amazon.com/images/P/0195153448.0...  \n",
       "1  http://images.amazon.com/images/P/0002005018.0...  \n",
       "2  http://images.amazon.com/images/P/0060973129.0...  \n",
       "3  http://images.amazon.com/images/P/0374157065.0...  \n",
       "4  http://images.amazon.com/images/P/0393045218.0...  "
      ]
     },
     "execution_count": 3,
     "metadata": {},
     "output_type": "execute_result"
    }
   ],
   "source": [
    "# dataset books\n",
    "books.head()"
   ]
  },
  {
   "cell_type": "code",
   "execution_count": 4,
   "metadata": {},
   "outputs": [],
   "source": [
    "# Konversi dataframe ke dalam format markdown\n",
    "# print(tabulate(books.head(), tablefmt=\"pipe\", headers=\"keys\"))"
   ]
  },
  {
   "cell_type": "code",
   "execution_count": 5,
   "metadata": {},
   "outputs": [
    {
     "data": {
      "text/html": [
       "<div>\n",
       "<style scoped>\n",
       "    .dataframe tbody tr th:only-of-type {\n",
       "        vertical-align: middle;\n",
       "    }\n",
       "\n",
       "    .dataframe tbody tr th {\n",
       "        vertical-align: top;\n",
       "    }\n",
       "\n",
       "    .dataframe thead th {\n",
       "        text-align: right;\n",
       "    }\n",
       "</style>\n",
       "<table border=\"1\" class=\"dataframe\">\n",
       "  <thead>\n",
       "    <tr style=\"text-align: right;\">\n",
       "      <th></th>\n",
       "      <th>User-ID</th>\n",
       "      <th>ISBN</th>\n",
       "      <th>Book-Rating</th>\n",
       "    </tr>\n",
       "  </thead>\n",
       "  <tbody>\n",
       "    <tr>\n",
       "      <th>0</th>\n",
       "      <td>276725</td>\n",
       "      <td>034545104X</td>\n",
       "      <td>0</td>\n",
       "    </tr>\n",
       "    <tr>\n",
       "      <th>1</th>\n",
       "      <td>276726</td>\n",
       "      <td>0155061224</td>\n",
       "      <td>5</td>\n",
       "    </tr>\n",
       "    <tr>\n",
       "      <th>2</th>\n",
       "      <td>276727</td>\n",
       "      <td>0446520802</td>\n",
       "      <td>0</td>\n",
       "    </tr>\n",
       "    <tr>\n",
       "      <th>3</th>\n",
       "      <td>276729</td>\n",
       "      <td>052165615X</td>\n",
       "      <td>3</td>\n",
       "    </tr>\n",
       "    <tr>\n",
       "      <th>4</th>\n",
       "      <td>276729</td>\n",
       "      <td>0521795028</td>\n",
       "      <td>6</td>\n",
       "    </tr>\n",
       "  </tbody>\n",
       "</table>\n",
       "</div>"
      ],
      "text/plain": [
       "   User-ID        ISBN  Book-Rating\n",
       "0   276725  034545104X            0\n",
       "1   276726  0155061224            5\n",
       "2   276727  0446520802            0\n",
       "3   276729  052165615X            3\n",
       "4   276729  0521795028            6"
      ]
     },
     "execution_count": 5,
     "metadata": {},
     "output_type": "execute_result"
    }
   ],
   "source": [
    "# dataset ratings\n",
    "ratings.head()"
   ]
  },
  {
   "cell_type": "code",
   "execution_count": 6,
   "metadata": {},
   "outputs": [
    {
     "data": {
      "text/html": [
       "<div>\n",
       "<style scoped>\n",
       "    .dataframe tbody tr th:only-of-type {\n",
       "        vertical-align: middle;\n",
       "    }\n",
       "\n",
       "    .dataframe tbody tr th {\n",
       "        vertical-align: top;\n",
       "    }\n",
       "\n",
       "    .dataframe thead th {\n",
       "        text-align: right;\n",
       "    }\n",
       "</style>\n",
       "<table border=\"1\" class=\"dataframe\">\n",
       "  <thead>\n",
       "    <tr style=\"text-align: right;\">\n",
       "      <th></th>\n",
       "      <th>User-ID</th>\n",
       "      <th>Location</th>\n",
       "      <th>Age</th>\n",
       "    </tr>\n",
       "  </thead>\n",
       "  <tbody>\n",
       "    <tr>\n",
       "      <th>0</th>\n",
       "      <td>1</td>\n",
       "      <td>nyc, new york, usa</td>\n",
       "      <td>NaN</td>\n",
       "    </tr>\n",
       "    <tr>\n",
       "      <th>1</th>\n",
       "      <td>2</td>\n",
       "      <td>stockton, california, usa</td>\n",
       "      <td>18.0</td>\n",
       "    </tr>\n",
       "    <tr>\n",
       "      <th>2</th>\n",
       "      <td>3</td>\n",
       "      <td>moscow, yukon territory, russia</td>\n",
       "      <td>NaN</td>\n",
       "    </tr>\n",
       "    <tr>\n",
       "      <th>3</th>\n",
       "      <td>4</td>\n",
       "      <td>porto, v.n.gaia, portugal</td>\n",
       "      <td>17.0</td>\n",
       "    </tr>\n",
       "    <tr>\n",
       "      <th>4</th>\n",
       "      <td>5</td>\n",
       "      <td>farnborough, hants, united kingdom</td>\n",
       "      <td>NaN</td>\n",
       "    </tr>\n",
       "  </tbody>\n",
       "</table>\n",
       "</div>"
      ],
      "text/plain": [
       "   User-ID                            Location   Age\n",
       "0        1                  nyc, new york, usa   NaN\n",
       "1        2           stockton, california, usa  18.0\n",
       "2        3     moscow, yukon territory, russia   NaN\n",
       "3        4           porto, v.n.gaia, portugal  17.0\n",
       "4        5  farnborough, hants, united kingdom   NaN"
      ]
     },
     "execution_count": 6,
     "metadata": {},
     "output_type": "execute_result"
    }
   ],
   "source": [
    "# dataset users\n",
    "users.head()"
   ]
  },
  {
   "cell_type": "code",
   "execution_count": 7,
   "metadata": {},
   "outputs": [
    {
     "name": "stdout",
     "output_type": "stream",
     "text": [
      "Jumlah data buku: 271360\n",
      "Jumlah data rating buku dari pembaca: 340556\n",
      "jumlah data pengguna: 278858\n"
     ]
    }
   ],
   "source": [
    "print('Jumlah data buku:', len(books.ISBN.unique()))\n",
    "print('Jumlah data rating buku dari pembaca:', len(ratings.ISBN.unique()))\n",
    "print('jumlah data pengguna:', len(users['User-ID'].unique()))"
   ]
  },
  {
   "cell_type": "markdown",
   "metadata": {},
   "source": [
    "Berdasarkan output diatas, diperoleh informasi sebagai berikut:\n",
    "- Variabel books memiliki 271.360 jenis buku dan terdiri dari 8 kolom yaitu:\n",
    "    - ISBN : merupakan nomor identitas unik buku.\n",
    "    - Book-Title : merupakan judul buku.\n",
    "    - Book-Author : merupakan nama penulis buku.\n",
    "    - Year-Of-Publication : merupakan tahun publikasi buku.\n",
    "    - Publisher : merupakan nama penerbit buku.\n",
    "    - Image-URL-S : merupakan link URL gambar untuk ukuran small (kecil).\n",
    "    - Image-URL-M : merupakan link URL gambar untuk ukuran medium (sedang).\n",
    "    - Image-URL-L : merupakan link URL gambar untuk ukuran large (besar).\n",
    "- Variabel ratings memiliki 340.556 penilaian terhadap buku dan terdiri dari 3 kolom yaitu:\n",
    "    - User-ID : merupakan kode unik untuk nama pengguna anonim yang memberikan penilaian.\n",
    "    - ISBN : merupakan nomor identitas buku.\n",
    "    - Book-Rating : merupakan penilaian yang diberikan kepada buku.\n",
    "- Variabel users memiliki 278.858 nama pengguna anonim dan terdiri dari 3 kolom yaitu:\n",
    "    - User-ID : merupakan kode unik untuk nama pengguna anonim.\n",
    "    - Location : merupakan lokasi tempat tinggal pengguna.\n",
    "    - Age : merupakan usia pengguna."
   ]
  },
  {
   "cell_type": "markdown",
   "metadata": {},
   "source": [
    "## Univariate Exploratory Data Analysis"
   ]
  },
  {
   "cell_type": "markdown",
   "metadata": {},
   "source": [
    "Pada tahap ini, akan dilakukan analisis dan eksplorasi pada setiap variabel untuk memahami distribusi dan karakteristik individu dari variabel tersebut. Pemahaman ini nantinya akan membantu dalam menentukan pendekatan atau algoritma yang cocok diterapkan pada data. Variabel - variabel pada Book Recommendation Dataset adalah sebagai berikut:\n",
    "- books : merupakan data yang berisi informasi buku.\n",
    "- ratings : merupakan rating atau peringkat yang diberikan ke buku oleh pengguna atau pembaca\n",
    "- users : merupakan informasi pengguna termasuk informasi demografisnya."
   ]
  },
  {
   "cell_type": "markdown",
   "metadata": {},
   "source": [
    "### Books Variabel"
   ]
  },
  {
   "cell_type": "markdown",
   "metadata": {},
   "source": [
    "Pertama, periksa terlebih dahulu isi dari dataset dari variabel books dan cek informasi dari dataset books menggunakan fungsi info()."
   ]
  },
  {
   "cell_type": "code",
   "execution_count": 8,
   "metadata": {},
   "outputs": [
    {
     "name": "stdout",
     "output_type": "stream",
     "text": [
      "<class 'pandas.core.frame.DataFrame'>\n",
      "RangeIndex: 271360 entries, 0 to 271359\n",
      "Data columns (total 8 columns):\n",
      " #   Column               Non-Null Count   Dtype \n",
      "---  ------               --------------   ----- \n",
      " 0   ISBN                 271360 non-null  object\n",
      " 1   Book-Title           271360 non-null  object\n",
      " 2   Book-Author          271359 non-null  object\n",
      " 3   Year-Of-Publication  271360 non-null  object\n",
      " 4   Publisher            271358 non-null  object\n",
      " 5   Image-URL-S          271360 non-null  object\n",
      " 6   Image-URL-M          271360 non-null  object\n",
      " 7   Image-URL-L          271357 non-null  object\n",
      "dtypes: object(8)\n",
      "memory usage: 16.6+ MB\n"
     ]
    }
   ],
   "source": [
    "# cek informasi dataset\n",
    "books.info()"
   ]
  },
  {
   "cell_type": "markdown",
   "metadata": {},
   "source": [
    "Berdasarkan output, diketahui bahwa file books.csv memiliki 271.360 entri dan terdiri dari 8 kolom yaitu ISBN, Book-Title, Book-Author, Year-Of-Publication, Publisher, Image-URL-S, Image-URL-M, dan Image-URL-L. Diketahui juga bahwa kolom 'Year-Of-Publication' bertipe data object sedangkan tahun publikasi pada umumnya memiliki tipe data integer. Oleh karena itu akan dilakukan perbaikan tipe data terlebih dahulu."
   ]
  },
  {
   "cell_type": "markdown",
   "metadata": {},
   "source": [
    "Perhatikan, ketika menjalankan kode berikut:\n",
    "```\n",
    "books['Year-Of-Publication'].astype('int')\n",
    "```\n",
    "\n",
    "Terdapat error berupa `ValueError: invalid literal for int() with base 10: 'DK Publishing Inc'`, artinya terdapat value pada 'Year-Of-Publication' ada yang bernilai 'DK Publishing Inc'. Sepertinya ini terdapat kesalahan input, sehingga nanti akan dihapus nilai berupa teks tersebut sebelum mengubahnya ke dalam tipe data integer. Berdasarkan penelusuran, terdapat 2 nilai teks yaitu 'DK Publishing Inc' dan 'Gallimard'."
   ]
  },
  {
   "cell_type": "code",
   "execution_count": 9,
   "metadata": {},
   "outputs": [
    {
     "data": {
      "text/html": [
       "<div>\n",
       "<style scoped>\n",
       "    .dataframe tbody tr th:only-of-type {\n",
       "        vertical-align: middle;\n",
       "    }\n",
       "\n",
       "    .dataframe tbody tr th {\n",
       "        vertical-align: top;\n",
       "    }\n",
       "\n",
       "    .dataframe thead th {\n",
       "        text-align: right;\n",
       "    }\n",
       "</style>\n",
       "<table border=\"1\" class=\"dataframe\">\n",
       "  <thead>\n",
       "    <tr style=\"text-align: right;\">\n",
       "      <th></th>\n",
       "      <th>ISBN</th>\n",
       "      <th>Book-Title</th>\n",
       "      <th>Book-Author</th>\n",
       "      <th>Year-Of-Publication</th>\n",
       "      <th>Publisher</th>\n",
       "      <th>Image-URL-S</th>\n",
       "      <th>Image-URL-M</th>\n",
       "      <th>Image-URL-L</th>\n",
       "    </tr>\n",
       "  </thead>\n",
       "  <tbody>\n",
       "    <tr>\n",
       "      <th>209538</th>\n",
       "      <td>078946697X</td>\n",
       "      <td>DK Readers: Creating the X-Men, How It All Beg...</td>\n",
       "      <td>2000</td>\n",
       "      <td>DK Publishing Inc</td>\n",
       "      <td>http://images.amazon.com/images/P/078946697X.0...</td>\n",
       "      <td>http://images.amazon.com/images/P/078946697X.0...</td>\n",
       "      <td>http://images.amazon.com/images/P/078946697X.0...</td>\n",
       "      <td>NaN</td>\n",
       "    </tr>\n",
       "    <tr>\n",
       "      <th>220731</th>\n",
       "      <td>2070426769</td>\n",
       "      <td>Peuple du ciel, suivi de 'Les Bergers\\\";Jean-M...</td>\n",
       "      <td>2003</td>\n",
       "      <td>Gallimard</td>\n",
       "      <td>http://images.amazon.com/images/P/2070426769.0...</td>\n",
       "      <td>http://images.amazon.com/images/P/2070426769.0...</td>\n",
       "      <td>http://images.amazon.com/images/P/2070426769.0...</td>\n",
       "      <td>NaN</td>\n",
       "    </tr>\n",
       "    <tr>\n",
       "      <th>221678</th>\n",
       "      <td>0789466953</td>\n",
       "      <td>DK Readers: Creating the X-Men, How Comic Book...</td>\n",
       "      <td>2000</td>\n",
       "      <td>DK Publishing Inc</td>\n",
       "      <td>http://images.amazon.com/images/P/0789466953.0...</td>\n",
       "      <td>http://images.amazon.com/images/P/0789466953.0...</td>\n",
       "      <td>http://images.amazon.com/images/P/0789466953.0...</td>\n",
       "      <td>NaN</td>\n",
       "    </tr>\n",
       "  </tbody>\n",
       "</table>\n",
       "</div>"
      ],
      "text/plain": [
       "              ISBN                                         Book-Title  \\\n",
       "209538  078946697X  DK Readers: Creating the X-Men, How It All Beg...   \n",
       "220731  2070426769  Peuple du ciel, suivi de 'Les Bergers\\\";Jean-M...   \n",
       "221678  0789466953  DK Readers: Creating the X-Men, How Comic Book...   \n",
       "\n",
       "       Book-Author Year-Of-Publication  \\\n",
       "209538        2000   DK Publishing Inc   \n",
       "220731        2003           Gallimard   \n",
       "221678        2000   DK Publishing Inc   \n",
       "\n",
       "                                                Publisher  \\\n",
       "209538  http://images.amazon.com/images/P/078946697X.0...   \n",
       "220731  http://images.amazon.com/images/P/2070426769.0...   \n",
       "221678  http://images.amazon.com/images/P/0789466953.0...   \n",
       "\n",
       "                                              Image-URL-S  \\\n",
       "209538  http://images.amazon.com/images/P/078946697X.0...   \n",
       "220731  http://images.amazon.com/images/P/2070426769.0...   \n",
       "221678  http://images.amazon.com/images/P/0789466953.0...   \n",
       "\n",
       "                                              Image-URL-M Image-URL-L  \n",
       "209538  http://images.amazon.com/images/P/078946697X.0...         NaN  \n",
       "220731  http://images.amazon.com/images/P/2070426769.0...         NaN  \n",
       "221678  http://images.amazon.com/images/P/0789466953.0...         NaN  "
      ]
     },
     "execution_count": 9,
     "metadata": {},
     "output_type": "execute_result"
    }
   ],
   "source": [
    "books[(books['Year-Of-Publication'] == 'DK Publishing Inc') | (books['Year-Of-Publication'] == 'Gallimard')]"
   ]
  },
  {
   "cell_type": "markdown",
   "metadata": {},
   "source": [
    "Menghapus value pada 'Year-Of-Publication' yang bernilai teks tersebut."
   ]
  },
  {
   "cell_type": "code",
   "execution_count": 10,
   "metadata": {},
   "outputs": [
    {
     "data": {
      "text/html": [
       "<div>\n",
       "<style scoped>\n",
       "    .dataframe tbody tr th:only-of-type {\n",
       "        vertical-align: middle;\n",
       "    }\n",
       "\n",
       "    .dataframe tbody tr th {\n",
       "        vertical-align: top;\n",
       "    }\n",
       "\n",
       "    .dataframe thead th {\n",
       "        text-align: right;\n",
       "    }\n",
       "</style>\n",
       "<table border=\"1\" class=\"dataframe\">\n",
       "  <thead>\n",
       "    <tr style=\"text-align: right;\">\n",
       "      <th></th>\n",
       "      <th>ISBN</th>\n",
       "      <th>Book-Title</th>\n",
       "      <th>Book-Author</th>\n",
       "      <th>Year-Of-Publication</th>\n",
       "      <th>Publisher</th>\n",
       "      <th>Image-URL-S</th>\n",
       "      <th>Image-URL-M</th>\n",
       "      <th>Image-URL-L</th>\n",
       "    </tr>\n",
       "  </thead>\n",
       "  <tbody>\n",
       "  </tbody>\n",
       "</table>\n",
       "</div>"
      ],
      "text/plain": [
       "Empty DataFrame\n",
       "Columns: [ISBN, Book-Title, Book-Author, Year-Of-Publication, Publisher, Image-URL-S, Image-URL-M, Image-URL-L]\n",
       "Index: []"
      ]
     },
     "execution_count": 10,
     "metadata": {},
     "output_type": "execute_result"
    }
   ],
   "source": [
    "temp = (books['Year-Of-Publication'] == 'DK Publishing Inc') | (books['Year-Of-Publication'] == 'Gallimard')\n",
    "books = books.drop(books[temp].index)\n",
    "books[(books['Year-Of-Publication'] == 'DK Publishing Inc') | (books['Year-Of-Publication'] == 'Gallimard')]"
   ]
  },
  {
   "cell_type": "markdown",
   "metadata": {},
   "source": [
    "Mengubah tipe data pada 'Year-Of-Publication'."
   ]
  },
  {
   "cell_type": "code",
   "execution_count": 11,
   "metadata": {},
   "outputs": [
    {
     "name": "stdout",
     "output_type": "stream",
     "text": [
      "ISBN                   object\n",
      "Book-Title             object\n",
      "Book-Author            object\n",
      "Year-Of-Publication     int32\n",
      "Publisher              object\n",
      "Image-URL-S            object\n",
      "Image-URL-M            object\n",
      "Image-URL-L            object\n",
      "dtype: object\n"
     ]
    }
   ],
   "source": [
    "books['Year-Of-Publication'] = books['Year-Of-Publication'].astype(int)\n",
    "print(books.dtypes)"
   ]
  },
  {
   "cell_type": "markdown",
   "metadata": {},
   "source": [
    "Sekarang, tipe data pada 'Year-Of-Publication' sudah bertipe integer. Selanjutnya, adalah menghapus variabel yang tidak diperlukan pada proses pengembangan model. Karena nantinya pada sistem rekomendasi berbasis konten (content-based filtering) akan dibuat rekomendasi berdasarkan judul buku yang sama dengan nama penulis buku yang pernah dibaca oleh pengguna. Maka informasi seperti ukuran gambar tidak diperlukan, sehingga fitur/kolom 'Image-URL-S', 'Image-URL-M', dan 'Image-URL-L' bisa dihapus."
   ]
  },
  {
   "cell_type": "code",
   "execution_count": 12,
   "metadata": {},
   "outputs": [
    {
     "data": {
      "text/html": [
       "<div>\n",
       "<style scoped>\n",
       "    .dataframe tbody tr th:only-of-type {\n",
       "        vertical-align: middle;\n",
       "    }\n",
       "\n",
       "    .dataframe tbody tr th {\n",
       "        vertical-align: top;\n",
       "    }\n",
       "\n",
       "    .dataframe thead th {\n",
       "        text-align: right;\n",
       "    }\n",
       "</style>\n",
       "<table border=\"1\" class=\"dataframe\">\n",
       "  <thead>\n",
       "    <tr style=\"text-align: right;\">\n",
       "      <th></th>\n",
       "      <th>ISBN</th>\n",
       "      <th>Book-Title</th>\n",
       "      <th>Book-Author</th>\n",
       "      <th>Year-Of-Publication</th>\n",
       "      <th>Publisher</th>\n",
       "    </tr>\n",
       "  </thead>\n",
       "  <tbody>\n",
       "    <tr>\n",
       "      <th>0</th>\n",
       "      <td>0195153448</td>\n",
       "      <td>Classical Mythology</td>\n",
       "      <td>Mark P. O. Morford</td>\n",
       "      <td>2002</td>\n",
       "      <td>Oxford University Press</td>\n",
       "    </tr>\n",
       "    <tr>\n",
       "      <th>1</th>\n",
       "      <td>0002005018</td>\n",
       "      <td>Clara Callan</td>\n",
       "      <td>Richard Bruce Wright</td>\n",
       "      <td>2001</td>\n",
       "      <td>HarperFlamingo Canada</td>\n",
       "    </tr>\n",
       "    <tr>\n",
       "      <th>2</th>\n",
       "      <td>0060973129</td>\n",
       "      <td>Decision in Normandy</td>\n",
       "      <td>Carlo D'Este</td>\n",
       "      <td>1991</td>\n",
       "      <td>HarperPerennial</td>\n",
       "    </tr>\n",
       "    <tr>\n",
       "      <th>3</th>\n",
       "      <td>0374157065</td>\n",
       "      <td>Flu: The Story of the Great Influenza Pandemic...</td>\n",
       "      <td>Gina Bari Kolata</td>\n",
       "      <td>1999</td>\n",
       "      <td>Farrar Straus Giroux</td>\n",
       "    </tr>\n",
       "    <tr>\n",
       "      <th>4</th>\n",
       "      <td>0393045218</td>\n",
       "      <td>The Mummies of Urumchi</td>\n",
       "      <td>E. J. W. Barber</td>\n",
       "      <td>1999</td>\n",
       "      <td>W. W. Norton &amp;amp; Company</td>\n",
       "    </tr>\n",
       "  </tbody>\n",
       "</table>\n",
       "</div>"
      ],
      "text/plain": [
       "         ISBN                                         Book-Title  \\\n",
       "0  0195153448                                Classical Mythology   \n",
       "1  0002005018                                       Clara Callan   \n",
       "2  0060973129                               Decision in Normandy   \n",
       "3  0374157065  Flu: The Story of the Great Influenza Pandemic...   \n",
       "4  0393045218                             The Mummies of Urumchi   \n",
       "\n",
       "            Book-Author  Year-Of-Publication                   Publisher  \n",
       "0    Mark P. O. Morford                 2002     Oxford University Press  \n",
       "1  Richard Bruce Wright                 2001       HarperFlamingo Canada  \n",
       "2          Carlo D'Este                 1991             HarperPerennial  \n",
       "3      Gina Bari Kolata                 1999        Farrar Straus Giroux  \n",
       "4       E. J. W. Barber                 1999  W. W. Norton &amp; Company  "
      ]
     },
     "execution_count": 12,
     "metadata": {},
     "output_type": "execute_result"
    }
   ],
   "source": [
    "# Menghapus kolom Image-URL semua ukuran\n",
    "books.drop(labels=['Image-URL-S', 'Image-URL-M', 'Image-URL-L'], axis=1, inplace=True)\n",
    "\n",
    "books.head()"
   ]
  },
  {
   "cell_type": "markdown",
   "metadata": {},
   "source": [
    "Setelah di hapus kolom Image-URL sekarang dataset hanya tersisa 5 kolom/variabel saja. Untuk melihat berapa banyak entri dari masing - masing variabel jalankan kode berikut."
   ]
  },
  {
   "cell_type": "code",
   "execution_count": 13,
   "metadata": {},
   "outputs": [
    {
     "name": "stdout",
     "output_type": "stream",
     "text": [
      "Jumlah nomor ISBN Buku: 271357\n",
      "Jumlah judul buku: 242132\n",
      "Jumlah penulis buku: 102022\n",
      "Jumlah Tahun Publikasi: 116\n",
      "Jumlah nama penerbit: 16805\n"
     ]
    }
   ],
   "source": [
    "print(\"Jumlah nomor ISBN Buku:\", len(books['ISBN'].unique()))\n",
    "print(\"Jumlah judul buku:\", len(books['Book-Title'].unique()))\n",
    "print('Jumlah penulis buku:', len(books['Book-Author'].unique()))\n",
    "print('Jumlah Tahun Publikasi:', len(books['Year-Of-Publication'].unique()))\n",
    "print('Jumlah nama penerbit:', len(books['Publisher'].unique()))"
   ]
  },
  {
   "cell_type": "markdown",
   "metadata": {},
   "source": [
    "Berdasarkan output diatas diketahui jumlah dari masing - masing variabel. Perhatikan bahwa jumlah judul buku pada dataset yaitu 242.135 sedangkan jumlah nomor ISBN buku adalah 271.357, artinya ada beberapa buku yang tidak memiliki nomor ISBN, karena satu ISBN hanya boleh dimiliki oleh satu buku saja. Untuk Kasus ini nantinya dataset akan di filter agar setiap buku dipastikan memiliki satu nomor ISBN."
   ]
  },
  {
   "cell_type": "markdown",
   "metadata": {},
   "source": [
    "Selanjutnya, Dilakukan distribusi data untuk melihat 10 nama penulis teratas berdasarkan jumlah buku."
   ]
  },
  {
   "cell_type": "code",
   "execution_count": 14,
   "metadata": {},
   "outputs": [
    {
     "data": {
      "image/png": "[encoded data removed]",
      "text/plain": [
       "<Figure size 864x432 with 1 Axes>"
      ]
     },
     "metadata": {
      "needs_background": "light"
     },
     "output_type": "display_data"
    }
   ],
   "source": [
    "# Grouping'Book-Author' dan hitung jumlah buku yang ditulis oleh masing-masing penulis\n",
    "author_counts = books.groupby('Book-Author')['Book-Title'].count()\n",
    "\n",
    "# Urutkan penulis dalam urutan menurun\n",
    "sorted_authors = author_counts.sort_values(ascending=False)\n",
    "\n",
    "# Pilih 10 penulis teratas\n",
    "top_10_authors = sorted_authors.head(10)\n",
    "\n",
    "# Plot 10 penulis teratas dan buku yang ditulis oleh penulis kemudian dihitung menggunakan plot batang\n",
    "plt.figure(figsize=(12, 6))\n",
    "top_10_authors.plot(kind='bar')\n",
    "plt.xlabel('Nama Penulis')\n",
    "plt.ylabel('Jumlah Buku')\n",
    "plt.title('10 Penulis Teratas Berdasarkan Jumlah Buku')\n",
    "plt.xticks(rotation=45)\n",
    "plt.tight_layout()\n",
    "plt.show()"
   ]
  },
  {
   "cell_type": "markdown",
   "metadata": {},
   "source": [
    "Berdasarkan informasi diatas, diketahui bahwa penulis dengan nama Agatha Christie menulis paling banyak buku yaitu sebanyak lebih dari 600 buku. Dari informasi ini juga diketahui jika di dalam dataset terdapat beberapa nama penulis yang menulis buku lebih dari satu judul buku."
   ]
  },
  {
   "cell_type": "markdown",
   "metadata": {},
   "source": [
    "### Ratings Variabel"
   ]
  },
  {
   "cell_type": "markdown",
   "metadata": {},
   "source": [
    "Selanjutnya, dilakukan eksplorasi pada variabel ratings, yaitu penilaian terhadap buku dari pembaca atau pengguna. Dataset rating ini nantinya akan digunakan untuk proses pengembangan model dengan collaborative filtering. Gunakan fungsi info() untuk melihat informasi dari variabel tersebut."
   ]
  },
  {
   "cell_type": "code",
   "execution_count": 15,
   "metadata": {},
   "outputs": [
    {
     "data": {
      "text/html": [
       "<div>\n",
       "<style scoped>\n",
       "    .dataframe tbody tr th:only-of-type {\n",
       "        vertical-align: middle;\n",
       "    }\n",
       "\n",
       "    .dataframe tbody tr th {\n",
       "        vertical-align: top;\n",
       "    }\n",
       "\n",
       "    .dataframe thead th {\n",
       "        text-align: right;\n",
       "    }\n",
       "</style>\n",
       "<table border=\"1\" class=\"dataframe\">\n",
       "  <thead>\n",
       "    <tr style=\"text-align: right;\">\n",
       "      <th></th>\n",
       "      <th>User-ID</th>\n",
       "      <th>ISBN</th>\n",
       "      <th>Book-Rating</th>\n",
       "    </tr>\n",
       "  </thead>\n",
       "  <tbody>\n",
       "    <tr>\n",
       "      <th>0</th>\n",
       "      <td>276725</td>\n",
       "      <td>034545104X</td>\n",
       "      <td>0</td>\n",
       "    </tr>\n",
       "    <tr>\n",
       "      <th>1</th>\n",
       "      <td>276726</td>\n",
       "      <td>0155061224</td>\n",
       "      <td>5</td>\n",
       "    </tr>\n",
       "    <tr>\n",
       "      <th>2</th>\n",
       "      <td>276727</td>\n",
       "      <td>0446520802</td>\n",
       "      <td>0</td>\n",
       "    </tr>\n",
       "    <tr>\n",
       "      <th>3</th>\n",
       "      <td>276729</td>\n",
       "      <td>052165615X</td>\n",
       "      <td>3</td>\n",
       "    </tr>\n",
       "    <tr>\n",
       "      <th>4</th>\n",
       "      <td>276729</td>\n",
       "      <td>0521795028</td>\n",
       "      <td>6</td>\n",
       "    </tr>\n",
       "  </tbody>\n",
       "</table>\n",
       "</div>"
      ],
      "text/plain": [
       "   User-ID        ISBN  Book-Rating\n",
       "0   276725  034545104X            0\n",
       "1   276726  0155061224            5\n",
       "2   276727  0446520802            0\n",
       "3   276729  052165615X            3\n",
       "4   276729  0521795028            6"
      ]
     },
     "execution_count": 15,
     "metadata": {},
     "output_type": "execute_result"
    }
   ],
   "source": [
    "ratings.head()"
   ]
  },
  {
   "cell_type": "code",
   "execution_count": 16,
   "metadata": {},
   "outputs": [
    {
     "name": "stdout",
     "output_type": "stream",
     "text": [
      "<class 'pandas.core.frame.DataFrame'>\n",
      "RangeIndex: 1149780 entries, 0 to 1149779\n",
      "Data columns (total 3 columns):\n",
      " #   Column       Non-Null Count    Dtype \n",
      "---  ------       --------------    ----- \n",
      " 0   User-ID      1149780 non-null  int64 \n",
      " 1   ISBN         1149780 non-null  object\n",
      " 2   Book-Rating  1149780 non-null  int64 \n",
      "dtypes: int64(2), object(1)\n",
      "memory usage: 26.3+ MB\n"
     ]
    }
   ],
   "source": [
    "ratings.info()"
   ]
  },
  {
   "cell_type": "markdown",
   "metadata": {},
   "source": [
    "Berdasarkan output diatas, diketahui terdapat sebanyak 1.149.780 entri dan 3 kolom yaitu User-ID yang merupakan kode unik pengguna anonim yang memberikan peringkat, ISBN yang merupakan identitas berupa nomor unik buku, dan Book-Rating yang merupakan rating buku yang diberikan oleh pembaca atau pengguna. Untuk melihat jumlah entri dari masing - masing variabel, jalankan kode berikut."
   ]
  },
  {
   "cell_type": "code",
   "execution_count": 17,
   "metadata": {},
   "outputs": [
    {
     "name": "stdout",
     "output_type": "stream",
     "text": [
      "Jumlah User-ID: 105283\n",
      "Jumlah buku berdasarkan ISBN: 340556\n",
      "Jumlah rating buku:\n"
     ]
    },
    {
     "data": {
      "text/html": [
       "<div>\n",
       "<style scoped>\n",
       "    .dataframe tbody tr th:only-of-type {\n",
       "        vertical-align: middle;\n",
       "    }\n",
       "\n",
       "    .dataframe tbody tr th {\n",
       "        vertical-align: top;\n",
       "    }\n",
       "\n",
       "    .dataframe thead th {\n",
       "        text-align: right;\n",
       "    }\n",
       "</style>\n",
       "<table border=\"1\" class=\"dataframe\">\n",
       "  <thead>\n",
       "    <tr style=\"text-align: right;\">\n",
       "      <th></th>\n",
       "      <th>Book-Rating</th>\n",
       "      <th>Jumlah</th>\n",
       "    </tr>\n",
       "  </thead>\n",
       "  <tbody>\n",
       "    <tr>\n",
       "      <th>0</th>\n",
       "      <td>0</td>\n",
       "      <td>716109</td>\n",
       "    </tr>\n",
       "    <tr>\n",
       "      <th>1</th>\n",
       "      <td>1</td>\n",
       "      <td>1770</td>\n",
       "    </tr>\n",
       "    <tr>\n",
       "      <th>2</th>\n",
       "      <td>2</td>\n",
       "      <td>2759</td>\n",
       "    </tr>\n",
       "    <tr>\n",
       "      <th>3</th>\n",
       "      <td>3</td>\n",
       "      <td>5996</td>\n",
       "    </tr>\n",
       "    <tr>\n",
       "      <th>4</th>\n",
       "      <td>4</td>\n",
       "      <td>8904</td>\n",
       "    </tr>\n",
       "    <tr>\n",
       "      <th>5</th>\n",
       "      <td>5</td>\n",
       "      <td>50974</td>\n",
       "    </tr>\n",
       "    <tr>\n",
       "      <th>6</th>\n",
       "      <td>6</td>\n",
       "      <td>36924</td>\n",
       "    </tr>\n",
       "    <tr>\n",
       "      <th>7</th>\n",
       "      <td>7</td>\n",
       "      <td>76457</td>\n",
       "    </tr>\n",
       "    <tr>\n",
       "      <th>8</th>\n",
       "      <td>8</td>\n",
       "      <td>103736</td>\n",
       "    </tr>\n",
       "    <tr>\n",
       "      <th>9</th>\n",
       "      <td>9</td>\n",
       "      <td>67541</td>\n",
       "    </tr>\n",
       "    <tr>\n",
       "      <th>10</th>\n",
       "      <td>10</td>\n",
       "      <td>78610</td>\n",
       "    </tr>\n",
       "  </tbody>\n",
       "</table>\n",
       "</div>"
      ],
      "text/plain": [
       "    Book-Rating  Jumlah\n",
       "0             0  716109\n",
       "1             1    1770\n",
       "2             2    2759\n",
       "3             3    5996\n",
       "4             4    8904\n",
       "5             5   50974\n",
       "6             6   36924\n",
       "7             7   76457\n",
       "8             8  103736\n",
       "9             9   67541\n",
       "10           10   78610"
      ]
     },
     "execution_count": 17,
     "metadata": {},
     "output_type": "execute_result"
    }
   ],
   "source": [
    "print('Jumlah User-ID:', len(ratings['User-ID'].unique()))\n",
    "print('Jumlah buku berdasarkan ISBN:', len(ratings['ISBN'].unique()))\n",
    "\n",
    "print('Jumlah rating buku:')\n",
    "sorted_ratings = ratings['Book-Rating'].value_counts().sort_index()\n",
    "pd.DataFrame({'Book-Rating': sorted_ratings.index, 'Jumlah': sorted_ratings.values})"
   ]
  },
  {
   "cell_type": "markdown",
   "metadata": {},
   "source": [
    "Berdasarkan output diatas, diketahui jika terdapat 105.283 pengguna yang memberikan rating buku, jumlah buku berdasarkan ISBN yang diberikan rating adalah 340.556 buku, dan rating yang diberikan oleh masing - masing buku memiliki niliai berkisar antara 0 sampai 10, dimana 0 adalah rating paling rendah sedangkan 10 adalah rating paling tertinggi."
   ]
  },
  {
   "cell_type": "markdown",
   "metadata": {},
   "source": [
    "Seperti terlihat pada informasi sebelumnya, dataset ratings memiliki 1.149.780 baris data, dan itu merupakan jumlah yang sangat banyak. Nantinya, dataset rating ini yang akan digunakan dalam proses pengembangan model dengan collaborative filtering. Oleh karena itu, untuk menghemat alokasi memori pada saat pelatihan model nantinya, dataset rating ini tidak akan digunakan semua. Dataset rating hanya mengambil data pertama hingga data ke 5000 saja (exclude data ke 5000). Dataset ini akan digunakan untuk pengembangan model dengan collaborative filtering karena membutuhkan data rating terhadap pengguna untuk memberikan rekomendasi judul buku kepada pengguna lainnya. Untuk memudahkan supaya tidak tertukar dengan fitur lain yang serupa, variabel diubah namanya menjadi df_rating."
   ]
  },
  {
   "cell_type": "code",
   "execution_count": 18,
   "metadata": {},
   "outputs": [
    {
     "data": {
      "text/html": [
       "<div>\n",
       "<style scoped>\n",
       "    .dataframe tbody tr th:only-of-type {\n",
       "        vertical-align: middle;\n",
       "    }\n",
       "\n",
       "    .dataframe tbody tr th {\n",
       "        vertical-align: top;\n",
       "    }\n",
       "\n",
       "    .dataframe thead th {\n",
       "        text-align: right;\n",
       "    }\n",
       "</style>\n",
       "<table border=\"1\" class=\"dataframe\">\n",
       "  <thead>\n",
       "    <tr style=\"text-align: right;\">\n",
       "      <th></th>\n",
       "      <th>User-ID</th>\n",
       "      <th>ISBN</th>\n",
       "      <th>Book-Rating</th>\n",
       "    </tr>\n",
       "  </thead>\n",
       "  <tbody>\n",
       "    <tr>\n",
       "      <th>0</th>\n",
       "      <td>276725</td>\n",
       "      <td>034545104X</td>\n",
       "      <td>0</td>\n",
       "    </tr>\n",
       "    <tr>\n",
       "      <th>1</th>\n",
       "      <td>276726</td>\n",
       "      <td>0155061224</td>\n",
       "      <td>5</td>\n",
       "    </tr>\n",
       "    <tr>\n",
       "      <th>2</th>\n",
       "      <td>276727</td>\n",
       "      <td>0446520802</td>\n",
       "      <td>0</td>\n",
       "    </tr>\n",
       "    <tr>\n",
       "      <th>3</th>\n",
       "      <td>276729</td>\n",
       "      <td>052165615X</td>\n",
       "      <td>3</td>\n",
       "    </tr>\n",
       "    <tr>\n",
       "      <th>4</th>\n",
       "      <td>276729</td>\n",
       "      <td>0521795028</td>\n",
       "      <td>6</td>\n",
       "    </tr>\n",
       "    <tr>\n",
       "      <th>...</th>\n",
       "      <td>...</td>\n",
       "      <td>...</td>\n",
       "      <td>...</td>\n",
       "    </tr>\n",
       "    <tr>\n",
       "      <th>4995</th>\n",
       "      <td>278418</td>\n",
       "      <td>0345309154</td>\n",
       "      <td>0</td>\n",
       "    </tr>\n",
       "    <tr>\n",
       "      <th>4996</th>\n",
       "      <td>278418</td>\n",
       "      <td>034530988X</td>\n",
       "      <td>0</td>\n",
       "    </tr>\n",
       "    <tr>\n",
       "      <th>4997</th>\n",
       "      <td>278418</td>\n",
       "      <td>0345313860</td>\n",
       "      <td>0</td>\n",
       "    </tr>\n",
       "    <tr>\n",
       "      <th>4998</th>\n",
       "      <td>278418</td>\n",
       "      <td>0345314255</td>\n",
       "      <td>0</td>\n",
       "    </tr>\n",
       "    <tr>\n",
       "      <th>4999</th>\n",
       "      <td>278418</td>\n",
       "      <td>034531784X</td>\n",
       "      <td>0</td>\n",
       "    </tr>\n",
       "  </tbody>\n",
       "</table>\n",
       "<p>5000 rows × 3 columns</p>\n",
       "</div>"
      ],
      "text/plain": [
       "      User-ID        ISBN  Book-Rating\n",
       "0      276725  034545104X            0\n",
       "1      276726  0155061224            5\n",
       "2      276727  0446520802            0\n",
       "3      276729  052165615X            3\n",
       "4      276729  0521795028            6\n",
       "...       ...         ...          ...\n",
       "4995   278418  0345309154            0\n",
       "4996   278418  034530988X            0\n",
       "4997   278418  0345313860            0\n",
       "4998   278418  0345314255            0\n",
       "4999   278418  034531784X            0\n",
       "\n",
       "[5000 rows x 3 columns]"
      ]
     },
     "execution_count": 18,
     "metadata": {},
     "output_type": "execute_result"
    }
   ],
   "source": [
    "df_rating = ratings[:5000]\n",
    "df_rating"
   ]
  },
  {
   "cell_type": "markdown",
   "metadata": {},
   "source": [
    "### Users Variabel"
   ]
  },
  {
   "cell_type": "markdown",
   "metadata": {},
   "source": [
    "Variabel terakhir yang akan dilakukan eksplorasi adalah variabel users. Variabel ini berisi informasi tentang pengguna anonim beserta demografinya. Gunakan fungsi info() untuk melihat informasi variabel."
   ]
  },
  {
   "cell_type": "code",
   "execution_count": 19,
   "metadata": {},
   "outputs": [
    {
     "data": {
      "text/html": [
       "<div>\n",
       "<style scoped>\n",
       "    .dataframe tbody tr th:only-of-type {\n",
       "        vertical-align: middle;\n",
       "    }\n",
       "\n",
       "    .dataframe tbody tr th {\n",
       "        vertical-align: top;\n",
       "    }\n",
       "\n",
       "    .dataframe thead th {\n",
       "        text-align: right;\n",
       "    }\n",
       "</style>\n",
       "<table border=\"1\" class=\"dataframe\">\n",
       "  <thead>\n",
       "    <tr style=\"text-align: right;\">\n",
       "      <th></th>\n",
       "      <th>User-ID</th>\n",
       "      <th>Location</th>\n",
       "      <th>Age</th>\n",
       "    </tr>\n",
       "  </thead>\n",
       "  <tbody>\n",
       "    <tr>\n",
       "      <th>0</th>\n",
       "      <td>1</td>\n",
       "      <td>nyc, new york, usa</td>\n",
       "      <td>NaN</td>\n",
       "    </tr>\n",
       "    <tr>\n",
       "      <th>1</th>\n",
       "      <td>2</td>\n",
       "      <td>stockton, california, usa</td>\n",
       "      <td>18.0</td>\n",
       "    </tr>\n",
       "    <tr>\n",
       "      <th>2</th>\n",
       "      <td>3</td>\n",
       "      <td>moscow, yukon territory, russia</td>\n",
       "      <td>NaN</td>\n",
       "    </tr>\n",
       "    <tr>\n",
       "      <th>3</th>\n",
       "      <td>4</td>\n",
       "      <td>porto, v.n.gaia, portugal</td>\n",
       "      <td>17.0</td>\n",
       "    </tr>\n",
       "    <tr>\n",
       "      <th>4</th>\n",
       "      <td>5</td>\n",
       "      <td>farnborough, hants, united kingdom</td>\n",
       "      <td>NaN</td>\n",
       "    </tr>\n",
       "  </tbody>\n",
       "</table>\n",
       "</div>"
      ],
      "text/plain": [
       "   User-ID                            Location   Age\n",
       "0        1                  nyc, new york, usa   NaN\n",
       "1        2           stockton, california, usa  18.0\n",
       "2        3     moscow, yukon territory, russia   NaN\n",
       "3        4           porto, v.n.gaia, portugal  17.0\n",
       "4        5  farnborough, hants, united kingdom   NaN"
      ]
     },
     "execution_count": 19,
     "metadata": {},
     "output_type": "execute_result"
    }
   ],
   "source": [
    "users.head()"
   ]
  },
  {
   "cell_type": "code",
   "execution_count": 20,
   "metadata": {},
   "outputs": [
    {
     "name": "stdout",
     "output_type": "stream",
     "text": [
      "<class 'pandas.core.frame.DataFrame'>\n",
      "RangeIndex: 278858 entries, 0 to 278857\n",
      "Data columns (total 3 columns):\n",
      " #   Column    Non-Null Count   Dtype  \n",
      "---  ------    --------------   -----  \n",
      " 0   User-ID   278858 non-null  int64  \n",
      " 1   Location  278858 non-null  object \n",
      " 2   Age       168096 non-null  float64\n",
      "dtypes: float64(1), int64(1), object(1)\n",
      "memory usage: 6.4+ MB\n"
     ]
    }
   ],
   "source": [
    "users.info()"
   ]
  },
  {
   "cell_type": "markdown",
   "metadata": {},
   "source": [
    "Berdasarkan informasi diatas, diketahui terdapat 278.858 entri dan terdapat 3 variabel yaitu User-ID yang merupakan kode unik dari pengguna anonim, Location yang merupakan lokasi pengguna, dan Age yang merupakan usia pengguna. Diketahui juga terdapat beberapa pengguna yang usianya tidak diketahui. Data user berguna jika ingin membuat sistem rekomendasi berdasarkan demografi atau kondisi sosial pengguna. Namun, untuk studi kasus kali ini, tidak akan digunakan data users pada model. Pada pengembangan model, data yang digunakan adalah data books dan ratings."
   ]
  },
  {
   "cell_type": "markdown",
   "metadata": {},
   "source": [
    "## Data Preprocessing"
   ]
  },
  {
   "cell_type": "markdown",
   "metadata": {},
   "source": [
    "Seperti yang sudah diketahui berdasarkan tahapan data understanding bahwa folder Book Recommendation Dataset terdiri dari 3 file terpisah yaitu books, ratings, dan users. Pada tahap ini, akan dilakukan proses penggabungan file menjadi satu kesatuan file agar sesuai dengan pengembangan model yang ingin dibuat."
   ]
  },
  {
   "cell_type": "markdown",
   "metadata": {},
   "source": [
    "### Menggabungkan file dan Mengetahui Jumlah Rating"
   ]
  },
  {
   "cell_type": "markdown",
   "metadata": {},
   "source": [
    "Pada tahap ini dilakukan penggabungan file books dan ratings untuk mengetahui jumlah seluruh rating dari berbagai file tersebut. Implementasikan kode berikut."
   ]
  },
  {
   "cell_type": "code",
   "execution_count": 21,
   "metadata": {},
   "outputs": [
    {
     "data": {
      "text/html": [
       "<div>\n",
       "<style scoped>\n",
       "    .dataframe tbody tr th:only-of-type {\n",
       "        vertical-align: middle;\n",
       "    }\n",
       "\n",
       "    .dataframe tbody tr th {\n",
       "        vertical-align: top;\n",
       "    }\n",
       "\n",
       "    .dataframe thead th {\n",
       "        text-align: right;\n",
       "    }\n",
       "</style>\n",
       "<table border=\"1\" class=\"dataframe\">\n",
       "  <thead>\n",
       "    <tr style=\"text-align: right;\">\n",
       "      <th></th>\n",
       "      <th>User-ID</th>\n",
       "      <th>ISBN</th>\n",
       "      <th>Book-Rating</th>\n",
       "      <th>Book-Title</th>\n",
       "      <th>Book-Author</th>\n",
       "      <th>Year-Of-Publication</th>\n",
       "      <th>Publisher</th>\n",
       "    </tr>\n",
       "  </thead>\n",
       "  <tbody>\n",
       "    <tr>\n",
       "      <th>0</th>\n",
       "      <td>276725</td>\n",
       "      <td>034545104X</td>\n",
       "      <td>0</td>\n",
       "      <td>Flesh Tones: A Novel</td>\n",
       "      <td>M. J. Rose</td>\n",
       "      <td>2002.0</td>\n",
       "      <td>Ballantine Books</td>\n",
       "    </tr>\n",
       "    <tr>\n",
       "      <th>1</th>\n",
       "      <td>276726</td>\n",
       "      <td>0155061224</td>\n",
       "      <td>5</td>\n",
       "      <td>Rites of Passage</td>\n",
       "      <td>Judith Rae</td>\n",
       "      <td>2001.0</td>\n",
       "      <td>Heinle</td>\n",
       "    </tr>\n",
       "    <tr>\n",
       "      <th>2</th>\n",
       "      <td>276727</td>\n",
       "      <td>0446520802</td>\n",
       "      <td>0</td>\n",
       "      <td>The Notebook</td>\n",
       "      <td>Nicholas Sparks</td>\n",
       "      <td>1996.0</td>\n",
       "      <td>Warner Books</td>\n",
       "    </tr>\n",
       "    <tr>\n",
       "      <th>3</th>\n",
       "      <td>276729</td>\n",
       "      <td>052165615X</td>\n",
       "      <td>3</td>\n",
       "      <td>Help!: Level 1</td>\n",
       "      <td>Philip Prowse</td>\n",
       "      <td>1999.0</td>\n",
       "      <td>Cambridge University Press</td>\n",
       "    </tr>\n",
       "    <tr>\n",
       "      <th>4</th>\n",
       "      <td>276729</td>\n",
       "      <td>0521795028</td>\n",
       "      <td>6</td>\n",
       "      <td>The Amsterdam Connection : Level 4 (Cambridge ...</td>\n",
       "      <td>Sue Leather</td>\n",
       "      <td>2001.0</td>\n",
       "      <td>Cambridge University Press</td>\n",
       "    </tr>\n",
       "    <tr>\n",
       "      <th>...</th>\n",
       "      <td>...</td>\n",
       "      <td>...</td>\n",
       "      <td>...</td>\n",
       "      <td>...</td>\n",
       "      <td>...</td>\n",
       "      <td>...</td>\n",
       "      <td>...</td>\n",
       "    </tr>\n",
       "    <tr>\n",
       "      <th>1149775</th>\n",
       "      <td>276704</td>\n",
       "      <td>1563526298</td>\n",
       "      <td>9</td>\n",
       "      <td>Get Clark Smart : The Ultimate Guide for the S...</td>\n",
       "      <td>Clark Howard</td>\n",
       "      <td>2000.0</td>\n",
       "      <td>Longstreet Press</td>\n",
       "    </tr>\n",
       "    <tr>\n",
       "      <th>1149776</th>\n",
       "      <td>276706</td>\n",
       "      <td>0679447156</td>\n",
       "      <td>0</td>\n",
       "      <td>Eight Weeks to Optimum Health: A Proven Progra...</td>\n",
       "      <td>Andrew Weil</td>\n",
       "      <td>1997.0</td>\n",
       "      <td>Alfred A. Knopf</td>\n",
       "    </tr>\n",
       "    <tr>\n",
       "      <th>1149777</th>\n",
       "      <td>276709</td>\n",
       "      <td>0515107662</td>\n",
       "      <td>10</td>\n",
       "      <td>The Sherbrooke Bride (Bride Trilogy (Paperback))</td>\n",
       "      <td>Catherine Coulter</td>\n",
       "      <td>1996.0</td>\n",
       "      <td>Jove Books</td>\n",
       "    </tr>\n",
       "    <tr>\n",
       "      <th>1149778</th>\n",
       "      <td>276721</td>\n",
       "      <td>0590442449</td>\n",
       "      <td>10</td>\n",
       "      <td>Fourth Grade Rats</td>\n",
       "      <td>Jerry Spinelli</td>\n",
       "      <td>1996.0</td>\n",
       "      <td>Scholastic</td>\n",
       "    </tr>\n",
       "    <tr>\n",
       "      <th>1149779</th>\n",
       "      <td>276723</td>\n",
       "      <td>05162443314</td>\n",
       "      <td>8</td>\n",
       "      <td>NaN</td>\n",
       "      <td>NaN</td>\n",
       "      <td>NaN</td>\n",
       "      <td>NaN</td>\n",
       "    </tr>\n",
       "  </tbody>\n",
       "</table>\n",
       "<p>1149780 rows × 7 columns</p>\n",
       "</div>"
      ],
      "text/plain": [
       "         User-ID         ISBN  Book-Rating  \\\n",
       "0         276725   034545104X            0   \n",
       "1         276726   0155061224            5   \n",
       "2         276727   0446520802            0   \n",
       "3         276729   052165615X            3   \n",
       "4         276729   0521795028            6   \n",
       "...          ...          ...          ...   \n",
       "1149775   276704   1563526298            9   \n",
       "1149776   276706   0679447156            0   \n",
       "1149777   276709   0515107662           10   \n",
       "1149778   276721   0590442449           10   \n",
       "1149779   276723  05162443314            8   \n",
       "\n",
       "                                                Book-Title        Book-Author  \\\n",
       "0                                     Flesh Tones: A Novel         M. J. Rose   \n",
       "1                                         Rites of Passage         Judith Rae   \n",
       "2                                             The Notebook    Nicholas Sparks   \n",
       "3                                           Help!: Level 1      Philip Prowse   \n",
       "4        The Amsterdam Connection : Level 4 (Cambridge ...        Sue Leather   \n",
       "...                                                    ...                ...   \n",
       "1149775  Get Clark Smart : The Ultimate Guide for the S...       Clark Howard   \n",
       "1149776  Eight Weeks to Optimum Health: A Proven Progra...        Andrew Weil   \n",
       "1149777   The Sherbrooke Bride (Bride Trilogy (Paperback))  Catherine Coulter   \n",
       "1149778                                  Fourth Grade Rats     Jerry Spinelli   \n",
       "1149779                                                NaN                NaN   \n",
       "\n",
       "         Year-Of-Publication                   Publisher  \n",
       "0                     2002.0            Ballantine Books  \n",
       "1                     2001.0                      Heinle  \n",
       "2                     1996.0                Warner Books  \n",
       "3                     1999.0  Cambridge University Press  \n",
       "4                     2001.0  Cambridge University Press  \n",
       "...                      ...                         ...  \n",
       "1149775               2000.0            Longstreet Press  \n",
       "1149776               1997.0             Alfred A. Knopf  \n",
       "1149777               1996.0                  Jove Books  \n",
       "1149778               1996.0                  Scholastic  \n",
       "1149779                  NaN                         NaN  \n",
       "\n",
       "[1149780 rows x 7 columns]"
      ]
     },
     "execution_count": 21,
     "metadata": {},
     "output_type": "execute_result"
    }
   ],
   "source": [
    "# Menggabungkan dataframe ratings dengan books berdasarkan nilai ISBN\n",
    "books = pd.merge(ratings, books, on='ISBN', how='left')\n",
    "books"
   ]
  },
  {
   "cell_type": "markdown",
   "metadata": {},
   "source": [
    "Variabel setelah dilakukan penggabungan menjadi 7 variabel dengan 1.149.780 baris data. Output diatas hanya menampilkan beberapa baris awal dan baris akhir data. Dataset inilah yang akan digunakan untuk membuat sistem rekomendasi. Selanjutnya, dilakukan perhitungan jumlah rating berdasarkan ISBN melalui kode berikut."
   ]
  },
  {
   "cell_type": "code",
   "execution_count": 22,
   "metadata": {},
   "outputs": [
    {
     "data": {
      "text/html": [
       "<div>\n",
       "<style scoped>\n",
       "    .dataframe tbody tr th:only-of-type {\n",
       "        vertical-align: middle;\n",
       "    }\n",
       "\n",
       "    .dataframe tbody tr th {\n",
       "        vertical-align: top;\n",
       "    }\n",
       "\n",
       "    .dataframe thead th {\n",
       "        text-align: right;\n",
       "    }\n",
       "</style>\n",
       "<table border=\"1\" class=\"dataframe\">\n",
       "  <thead>\n",
       "    <tr style=\"text-align: right;\">\n",
       "      <th></th>\n",
       "      <th>User-ID</th>\n",
       "      <th>Book-Rating</th>\n",
       "      <th>Year-Of-Publication</th>\n",
       "    </tr>\n",
       "    <tr>\n",
       "      <th>ISBN</th>\n",
       "      <th></th>\n",
       "      <th></th>\n",
       "      <th></th>\n",
       "    </tr>\n",
       "  </thead>\n",
       "  <tbody>\n",
       "    <tr>\n",
       "      <th>0330299891</th>\n",
       "      <td>271009</td>\n",
       "      <td>6</td>\n",
       "      <td>0.0</td>\n",
       "    </tr>\n",
       "    <tr>\n",
       "      <th>0375404120</th>\n",
       "      <td>356057</td>\n",
       "      <td>3</td>\n",
       "      <td>0.0</td>\n",
       "    </tr>\n",
       "    <tr>\n",
       "      <th>0586045007</th>\n",
       "      <td>89192</td>\n",
       "      <td>0</td>\n",
       "      <td>0.0</td>\n",
       "    </tr>\n",
       "    <tr>\n",
       "      <th>9022906116</th>\n",
       "      <td>100868</td>\n",
       "      <td>7</td>\n",
       "      <td>0.0</td>\n",
       "    </tr>\n",
       "    <tr>\n",
       "      <th>9032803328</th>\n",
       "      <td>89192</td>\n",
       "      <td>0</td>\n",
       "      <td>0.0</td>\n",
       "    </tr>\n",
       "    <tr>\n",
       "      <th>...</th>\n",
       "      <td>...</td>\n",
       "      <td>...</td>\n",
       "      <td>...</td>\n",
       "    </tr>\n",
       "    <tr>\n",
       "      <th>cn113107</th>\n",
       "      <td>107301</td>\n",
       "      <td>0</td>\n",
       "      <td>0.0</td>\n",
       "    </tr>\n",
       "    <tr>\n",
       "      <th>ooo7156103</th>\n",
       "      <td>266146</td>\n",
       "      <td>7</td>\n",
       "      <td>0.0</td>\n",
       "    </tr>\n",
       "    <tr>\n",
       "      <th>§423350229</th>\n",
       "      <td>85250</td>\n",
       "      <td>0</td>\n",
       "      <td>0.0</td>\n",
       "    </tr>\n",
       "    <tr>\n",
       "      <th>´3499128624</th>\n",
       "      <td>86103</td>\n",
       "      <td>8</td>\n",
       "      <td>0.0</td>\n",
       "    </tr>\n",
       "    <tr>\n",
       "      <th>Ô½crosoft</th>\n",
       "      <td>187517</td>\n",
       "      <td>7</td>\n",
       "      <td>0.0</td>\n",
       "    </tr>\n",
       "  </tbody>\n",
       "</table>\n",
       "<p>340556 rows × 3 columns</p>\n",
       "</div>"
      ],
      "text/plain": [
       "             User-ID  Book-Rating  Year-Of-Publication\n",
       "ISBN                                                  \n",
       " 0330299891   271009            6                  0.0\n",
       " 0375404120   356057            3                  0.0\n",
       " 0586045007    89192            0                  0.0\n",
       " 9022906116   100868            7                  0.0\n",
       " 9032803328    89192            0                  0.0\n",
       "...              ...          ...                  ...\n",
       "cn113107      107301            0                  0.0\n",
       "ooo7156103    266146            7                  0.0\n",
       "§423350229     85250            0                  0.0\n",
       "´3499128624    86103            8                  0.0\n",
       "Ô½crosoft     187517            7                  0.0\n",
       "\n",
       "[340556 rows x 3 columns]"
      ]
     },
     "execution_count": 22,
     "metadata": {},
     "output_type": "execute_result"
    }
   ],
   "source": [
    "books.groupby('ISBN').sum()"
   ]
  },
  {
   "cell_type": "markdown",
   "metadata": {},
   "source": [
    "# Data Preparation"
   ]
  },
  {
   "cell_type": "markdown",
   "metadata": {},
   "source": [
    "## Data Preparation Untuk Model Pengembangan dengan Content Based Filtering"
   ]
  },
  {
   "cell_type": "markdown",
   "metadata": {},
   "source": [
    "Pada tahap ini di akan dilakukan beberapa teknik untuk mempersiapkan data seperti:\n",
    "- Menghilangkan missing value.\n",
    "- Menyamakan jenis buku berdasarkan ISBN.\n",
    "\n",
    "Pada sistem rekomendasi berbasis konten (content-based filtering) yang akan dikembangkan, satu nomor ISBN mewakili satu judul buku, yang artinya nomor ISBN pada setiap buku bersifat unik. Sehingga perlu dipersiapkan terlebih dahulu datanya agar siap untuk digunakan pada proses pelatihan model."
   ]
  },
  {
   "cell_type": "markdown",
   "metadata": {},
   "source": [
    "### Mengatasi Missing Value"
   ]
  },
  {
   "cell_type": "markdown",
   "metadata": {},
   "source": [
    "Setelah proses penggabungan file, langkah selanjutnya adalah dilakukan proses pengecekan apakah ada missing value atau tidak. Jalankan kode berikut. "
   ]
  },
  {
   "cell_type": "code",
   "execution_count": 23,
   "metadata": {},
   "outputs": [
    {
     "data": {
      "text/plain": [
       "User-ID                     0\n",
       "ISBN                        0\n",
       "Book-Rating                 0\n",
       "Book-Title             118648\n",
       "Book-Author            118649\n",
       "Year-Of-Publication    118648\n",
       "Publisher              118650\n",
       "dtype: int64"
      ]
     },
     "execution_count": 23,
     "metadata": {},
     "output_type": "execute_result"
    }
   ],
   "source": [
    "# Cek missing value dengan fungsi isnull()\n",
    "books.isnull().sum()"
   ]
  },
  {
   "cell_type": "markdown",
   "metadata": {},
   "source": [
    "Terdapat banyak missing value pada sebagian besar fitur. Hanya fitur User-ID, ISBN, dan Book-Rating saja yang memiliki 0 missing value. Jumlah mising value terbesar ada di fitur 'Publisher' yaitu sebesar 118.650. 118.650 dari total dataset yaitu 1.149.780 merupakan jumlah yang tidak terlalu signifikan atau masih tergolong kecil. Oleh karena itu, untuk kasus ini akan dilakukan proses drop atau penghapusan pada missing value ini dan buatkan dalam bentuk variabel baru bernama all_books_clean."
   ]
  },
  {
   "cell_type": "code",
   "execution_count": 24,
   "metadata": {},
   "outputs": [
    {
     "data": {
      "text/html": [
       "<div>\n",
       "<style scoped>\n",
       "    .dataframe tbody tr th:only-of-type {\n",
       "        vertical-align: middle;\n",
       "    }\n",
       "\n",
       "    .dataframe tbody tr th {\n",
       "        vertical-align: top;\n",
       "    }\n",
       "\n",
       "    .dataframe thead th {\n",
       "        text-align: right;\n",
       "    }\n",
       "</style>\n",
       "<table border=\"1\" class=\"dataframe\">\n",
       "  <thead>\n",
       "    <tr style=\"text-align: right;\">\n",
       "      <th></th>\n",
       "      <th>User-ID</th>\n",
       "      <th>ISBN</th>\n",
       "      <th>Book-Rating</th>\n",
       "      <th>Book-Title</th>\n",
       "      <th>Book-Author</th>\n",
       "      <th>Year-Of-Publication</th>\n",
       "      <th>Publisher</th>\n",
       "    </tr>\n",
       "  </thead>\n",
       "  <tbody>\n",
       "    <tr>\n",
       "      <th>0</th>\n",
       "      <td>276725</td>\n",
       "      <td>034545104X</td>\n",
       "      <td>0</td>\n",
       "      <td>Flesh Tones: A Novel</td>\n",
       "      <td>M. J. Rose</td>\n",
       "      <td>2002.0</td>\n",
       "      <td>Ballantine Books</td>\n",
       "    </tr>\n",
       "    <tr>\n",
       "      <th>1</th>\n",
       "      <td>276726</td>\n",
       "      <td>0155061224</td>\n",
       "      <td>5</td>\n",
       "      <td>Rites of Passage</td>\n",
       "      <td>Judith Rae</td>\n",
       "      <td>2001.0</td>\n",
       "      <td>Heinle</td>\n",
       "    </tr>\n",
       "    <tr>\n",
       "      <th>2</th>\n",
       "      <td>276727</td>\n",
       "      <td>0446520802</td>\n",
       "      <td>0</td>\n",
       "      <td>The Notebook</td>\n",
       "      <td>Nicholas Sparks</td>\n",
       "      <td>1996.0</td>\n",
       "      <td>Warner Books</td>\n",
       "    </tr>\n",
       "    <tr>\n",
       "      <th>3</th>\n",
       "      <td>276729</td>\n",
       "      <td>052165615X</td>\n",
       "      <td>3</td>\n",
       "      <td>Help!: Level 1</td>\n",
       "      <td>Philip Prowse</td>\n",
       "      <td>1999.0</td>\n",
       "      <td>Cambridge University Press</td>\n",
       "    </tr>\n",
       "    <tr>\n",
       "      <th>4</th>\n",
       "      <td>276729</td>\n",
       "      <td>0521795028</td>\n",
       "      <td>6</td>\n",
       "      <td>The Amsterdam Connection : Level 4 (Cambridge ...</td>\n",
       "      <td>Sue Leather</td>\n",
       "      <td>2001.0</td>\n",
       "      <td>Cambridge University Press</td>\n",
       "    </tr>\n",
       "    <tr>\n",
       "      <th>...</th>\n",
       "      <td>...</td>\n",
       "      <td>...</td>\n",
       "      <td>...</td>\n",
       "      <td>...</td>\n",
       "      <td>...</td>\n",
       "      <td>...</td>\n",
       "      <td>...</td>\n",
       "    </tr>\n",
       "    <tr>\n",
       "      <th>1149774</th>\n",
       "      <td>276704</td>\n",
       "      <td>0876044011</td>\n",
       "      <td>0</td>\n",
       "      <td>Edgar Cayce on the Akashic Records: The Book o...</td>\n",
       "      <td>Kevin J. Todeschi</td>\n",
       "      <td>1998.0</td>\n",
       "      <td>A.R.E. Press (Association of Research &amp;amp; Enlig</td>\n",
       "    </tr>\n",
       "    <tr>\n",
       "      <th>1149775</th>\n",
       "      <td>276704</td>\n",
       "      <td>1563526298</td>\n",
       "      <td>9</td>\n",
       "      <td>Get Clark Smart : The Ultimate Guide for the S...</td>\n",
       "      <td>Clark Howard</td>\n",
       "      <td>2000.0</td>\n",
       "      <td>Longstreet Press</td>\n",
       "    </tr>\n",
       "    <tr>\n",
       "      <th>1149776</th>\n",
       "      <td>276706</td>\n",
       "      <td>0679447156</td>\n",
       "      <td>0</td>\n",
       "      <td>Eight Weeks to Optimum Health: A Proven Progra...</td>\n",
       "      <td>Andrew Weil</td>\n",
       "      <td>1997.0</td>\n",
       "      <td>Alfred A. Knopf</td>\n",
       "    </tr>\n",
       "    <tr>\n",
       "      <th>1149777</th>\n",
       "      <td>276709</td>\n",
       "      <td>0515107662</td>\n",
       "      <td>10</td>\n",
       "      <td>The Sherbrooke Bride (Bride Trilogy (Paperback))</td>\n",
       "      <td>Catherine Coulter</td>\n",
       "      <td>1996.0</td>\n",
       "      <td>Jove Books</td>\n",
       "    </tr>\n",
       "    <tr>\n",
       "      <th>1149778</th>\n",
       "      <td>276721</td>\n",
       "      <td>0590442449</td>\n",
       "      <td>10</td>\n",
       "      <td>Fourth Grade Rats</td>\n",
       "      <td>Jerry Spinelli</td>\n",
       "      <td>1996.0</td>\n",
       "      <td>Scholastic</td>\n",
       "    </tr>\n",
       "  </tbody>\n",
       "</table>\n",
       "<p>1031129 rows × 7 columns</p>\n",
       "</div>"
      ],
      "text/plain": [
       "         User-ID        ISBN  Book-Rating  \\\n",
       "0         276725  034545104X            0   \n",
       "1         276726  0155061224            5   \n",
       "2         276727  0446520802            0   \n",
       "3         276729  052165615X            3   \n",
       "4         276729  0521795028            6   \n",
       "...          ...         ...          ...   \n",
       "1149774   276704  0876044011            0   \n",
       "1149775   276704  1563526298            9   \n",
       "1149776   276706  0679447156            0   \n",
       "1149777   276709  0515107662           10   \n",
       "1149778   276721  0590442449           10   \n",
       "\n",
       "                                                Book-Title        Book-Author  \\\n",
       "0                                     Flesh Tones: A Novel         M. J. Rose   \n",
       "1                                         Rites of Passage         Judith Rae   \n",
       "2                                             The Notebook    Nicholas Sparks   \n",
       "3                                           Help!: Level 1      Philip Prowse   \n",
       "4        The Amsterdam Connection : Level 4 (Cambridge ...        Sue Leather   \n",
       "...                                                    ...                ...   \n",
       "1149774  Edgar Cayce on the Akashic Records: The Book o...  Kevin J. Todeschi   \n",
       "1149775  Get Clark Smart : The Ultimate Guide for the S...       Clark Howard   \n",
       "1149776  Eight Weeks to Optimum Health: A Proven Progra...        Andrew Weil   \n",
       "1149777   The Sherbrooke Bride (Bride Trilogy (Paperback))  Catherine Coulter   \n",
       "1149778                                  Fourth Grade Rats     Jerry Spinelli   \n",
       "\n",
       "         Year-Of-Publication  \\\n",
       "0                     2002.0   \n",
       "1                     2001.0   \n",
       "2                     1996.0   \n",
       "3                     1999.0   \n",
       "4                     2001.0   \n",
       "...                      ...   \n",
       "1149774               1998.0   \n",
       "1149775               2000.0   \n",
       "1149776               1997.0   \n",
       "1149777               1996.0   \n",
       "1149778               1996.0   \n",
       "\n",
       "                                                 Publisher  \n",
       "0                                         Ballantine Books  \n",
       "1                                                   Heinle  \n",
       "2                                             Warner Books  \n",
       "3                               Cambridge University Press  \n",
       "4                               Cambridge University Press  \n",
       "...                                                    ...  \n",
       "1149774  A.R.E. Press (Association of Research &amp; Enlig  \n",
       "1149775                                   Longstreet Press  \n",
       "1149776                                    Alfred A. Knopf  \n",
       "1149777                                         Jove Books  \n",
       "1149778                                         Scholastic  \n",
       "\n",
       "[1031129 rows x 7 columns]"
      ]
     },
     "execution_count": 24,
     "metadata": {},
     "output_type": "execute_result"
    }
   ],
   "source": [
    "all_books_clean = books.dropna()\n",
    "all_books_clean"
   ]
  },
  {
   "cell_type": "markdown",
   "metadata": {},
   "source": [
    "Sekarang, dataset terdiri dari 1.031.129 baris. Untuk memastikan tidak ada missing value lagi dalam data, jalankan kode berikut."
   ]
  },
  {
   "cell_type": "code",
   "execution_count": 25,
   "metadata": {},
   "outputs": [
    {
     "data": {
      "text/plain": [
       "User-ID                0\n",
       "ISBN                   0\n",
       "Book-Rating            0\n",
       "Book-Title             0\n",
       "Book-Author            0\n",
       "Year-Of-Publication    0\n",
       "Publisher              0\n",
       "dtype: int64"
      ]
     },
     "execution_count": 25,
     "metadata": {},
     "output_type": "execute_result"
    }
   ],
   "source": [
    "all_books_clean.isnull().sum()"
   ]
  },
  {
   "cell_type": "markdown",
   "metadata": {},
   "source": [
    "Sekarang, dataset sudah bersih dan bisa lanjut ke tahap berikutnya."
   ]
  },
  {
   "cell_type": "markdown",
   "metadata": {},
   "source": [
    "### Menyamakan jenis buku berdasarkan ISBN"
   ]
  },
  {
   "cell_type": "markdown",
   "metadata": {},
   "source": [
    "Sebelum masuk tahap pemodelan, diperlukan proses menyamakan judul buku berdasarkan ISBN-nya. Jika terdapat nomor ISBN yang sama pada lebih dari satu judul buku dapat menyebabkan bias pada data. Oleh karena itu harus dipastikan bahwa hanya terdapat satu nomor ISBN pada satu judul buku saja."
   ]
  },
  {
   "cell_type": "markdown",
   "metadata": {},
   "source": [
    "Pertama, dilakukan proses pengecekan ulang data setelah proses cleaning pada tahap sebelumnya. Buat variabel baru bernama fix_books untuk menyimpan dataframe."
   ]
  },
  {
   "cell_type": "code",
   "execution_count": 26,
   "metadata": {},
   "outputs": [
    {
     "data": {
      "text/html": [
       "<div>\n",
       "<style scoped>\n",
       "    .dataframe tbody tr th:only-of-type {\n",
       "        vertical-align: middle;\n",
       "    }\n",
       "\n",
       "    .dataframe tbody tr th {\n",
       "        vertical-align: top;\n",
       "    }\n",
       "\n",
       "    .dataframe thead th {\n",
       "        text-align: right;\n",
       "    }\n",
       "</style>\n",
       "<table border=\"1\" class=\"dataframe\">\n",
       "  <thead>\n",
       "    <tr style=\"text-align: right;\">\n",
       "      <th></th>\n",
       "      <th>User-ID</th>\n",
       "      <th>ISBN</th>\n",
       "      <th>Book-Rating</th>\n",
       "      <th>Book-Title</th>\n",
       "      <th>Book-Author</th>\n",
       "      <th>Year-Of-Publication</th>\n",
       "      <th>Publisher</th>\n",
       "    </tr>\n",
       "  </thead>\n",
       "  <tbody>\n",
       "    <tr>\n",
       "      <th>703628</th>\n",
       "      <td>171118</td>\n",
       "      <td>0000913154</td>\n",
       "      <td>8</td>\n",
       "      <td>The Way Things Work: An Illustrated Encycloped...</td>\n",
       "      <td>C. van Amerongen (translator)</td>\n",
       "      <td>1967.0</td>\n",
       "      <td>Simon &amp;amp; Schuster</td>\n",
       "    </tr>\n",
       "    <tr>\n",
       "      <th>866078</th>\n",
       "      <td>209516</td>\n",
       "      <td>0001010565</td>\n",
       "      <td>0</td>\n",
       "      <td>Mog's Christmas</td>\n",
       "      <td>Judith Kerr</td>\n",
       "      <td>1992.0</td>\n",
       "      <td>Collins</td>\n",
       "    </tr>\n",
       "    <tr>\n",
       "      <th>357256</th>\n",
       "      <td>86123</td>\n",
       "      <td>0001010565</td>\n",
       "      <td>0</td>\n",
       "      <td>Mog's Christmas</td>\n",
       "      <td>Judith Kerr</td>\n",
       "      <td>1992.0</td>\n",
       "      <td>Collins</td>\n",
       "    </tr>\n",
       "    <tr>\n",
       "      <th>103677</th>\n",
       "      <td>23902</td>\n",
       "      <td>0001046438</td>\n",
       "      <td>9</td>\n",
       "      <td>Liar</td>\n",
       "      <td>Stephen Fry</td>\n",
       "      <td>0.0</td>\n",
       "      <td>Harpercollins Uk</td>\n",
       "    </tr>\n",
       "    <tr>\n",
       "      <th>807953</th>\n",
       "      <td>196149</td>\n",
       "      <td>0001046713</td>\n",
       "      <td>0</td>\n",
       "      <td>Twopence to Cross the Mersey</td>\n",
       "      <td>Helen Forrester</td>\n",
       "      <td>1992.0</td>\n",
       "      <td>HarperCollins Publishers</td>\n",
       "    </tr>\n",
       "    <tr>\n",
       "      <th>...</th>\n",
       "      <td>...</td>\n",
       "      <td>...</td>\n",
       "      <td>...</td>\n",
       "      <td>...</td>\n",
       "      <td>...</td>\n",
       "      <td>...</td>\n",
       "      <td>...</td>\n",
       "    </tr>\n",
       "    <tr>\n",
       "      <th>1100731</th>\n",
       "      <td>264317</td>\n",
       "      <td>B000234N76</td>\n",
       "      <td>0</td>\n",
       "      <td>Falling Angels</td>\n",
       "      <td>Tracy Chevalier</td>\n",
       "      <td>2001.0</td>\n",
       "      <td>E P Dutton</td>\n",
       "    </tr>\n",
       "    <tr>\n",
       "      <th>423108</th>\n",
       "      <td>100906</td>\n",
       "      <td>B000234NC6</td>\n",
       "      <td>0</td>\n",
       "      <td>It Must've Been Something I Ate: The Return of...</td>\n",
       "      <td>Jeffrey Steingarten</td>\n",
       "      <td>2002.0</td>\n",
       "      <td>Knopf</td>\n",
       "    </tr>\n",
       "    <tr>\n",
       "      <th>419279</th>\n",
       "      <td>100088</td>\n",
       "      <td>B00029DGGO</td>\n",
       "      <td>0</td>\n",
       "      <td>Good Wife Strikes Back, The</td>\n",
       "      <td>Elizabeth Buchan</td>\n",
       "      <td>0.0</td>\n",
       "      <td>Viking Adult</td>\n",
       "    </tr>\n",
       "    <tr>\n",
       "      <th>743545</th>\n",
       "      <td>179791</td>\n",
       "      <td>B0002JV9PY</td>\n",
       "      <td>0</td>\n",
       "      <td>The Blockade Runners</td>\n",
       "      <td>Jules Verne</td>\n",
       "      <td>0.0</td>\n",
       "      <td>Digireads.com</td>\n",
       "    </tr>\n",
       "    <tr>\n",
       "      <th>743546</th>\n",
       "      <td>179791</td>\n",
       "      <td>B0002K6K8O</td>\n",
       "      <td>0</td>\n",
       "      <td>The Underground City</td>\n",
       "      <td>Jules Verne</td>\n",
       "      <td>0.0</td>\n",
       "      <td>Digireads.com</td>\n",
       "    </tr>\n",
       "  </tbody>\n",
       "</table>\n",
       "<p>1031129 rows × 7 columns</p>\n",
       "</div>"
      ],
      "text/plain": [
       "         User-ID        ISBN  Book-Rating  \\\n",
       "703628    171118  0000913154            8   \n",
       "866078    209516  0001010565            0   \n",
       "357256     86123  0001010565            0   \n",
       "103677     23902  0001046438            9   \n",
       "807953    196149  0001046713            0   \n",
       "...          ...         ...          ...   \n",
       "1100731   264317  B000234N76            0   \n",
       "423108    100906  B000234NC6            0   \n",
       "419279    100088  B00029DGGO            0   \n",
       "743545    179791  B0002JV9PY            0   \n",
       "743546    179791  B0002K6K8O            0   \n",
       "\n",
       "                                                Book-Title  \\\n",
       "703628   The Way Things Work: An Illustrated Encycloped...   \n",
       "866078                                     Mog's Christmas   \n",
       "357256                                     Mog's Christmas   \n",
       "103677                                                Liar   \n",
       "807953                        Twopence to Cross the Mersey   \n",
       "...                                                    ...   \n",
       "1100731                                     Falling Angels   \n",
       "423108   It Must've Been Something I Ate: The Return of...   \n",
       "419279                         Good Wife Strikes Back, The   \n",
       "743545                                The Blockade Runners   \n",
       "743546                                The Underground City   \n",
       "\n",
       "                           Book-Author  Year-Of-Publication  \\\n",
       "703628   C. van Amerongen (translator)               1967.0   \n",
       "866078                     Judith Kerr               1992.0   \n",
       "357256                     Judith Kerr               1992.0   \n",
       "103677                     Stephen Fry                  0.0   \n",
       "807953                 Helen Forrester               1992.0   \n",
       "...                                ...                  ...   \n",
       "1100731                Tracy Chevalier               2001.0   \n",
       "423108             Jeffrey Steingarten               2002.0   \n",
       "419279                Elizabeth Buchan                  0.0   \n",
       "743545                     Jules Verne                  0.0   \n",
       "743546                     Jules Verne                  0.0   \n",
       "\n",
       "                        Publisher  \n",
       "703628       Simon &amp; Schuster  \n",
       "866078                    Collins  \n",
       "357256                    Collins  \n",
       "103677           Harpercollins Uk  \n",
       "807953   HarperCollins Publishers  \n",
       "...                           ...  \n",
       "1100731                E P Dutton  \n",
       "423108                      Knopf  \n",
       "419279               Viking Adult  \n",
       "743545              Digireads.com  \n",
       "743546              Digireads.com  \n",
       "\n",
       "[1031129 rows x 7 columns]"
      ]
     },
     "execution_count": 26,
     "metadata": {},
     "output_type": "execute_result"
    }
   ],
   "source": [
    "# Mengurutkan buku berdasarkan ISBN kemudian memasukkannya ke dalam variabel fix_books\n",
    "fix_books = all_books_clean.sort_values('ISBN', ascending=True)\n",
    "fix_books"
   ]
  },
  {
   "cell_type": "markdown",
   "metadata": {},
   "source": [
    "Terdapat 1.031.129 baris data. Untuk mengecek berapa jumlah nomor ISBN yang mencangkup data tersebut, jalankan kode berikut."
   ]
  },
  {
   "cell_type": "code",
   "execution_count": 27,
   "metadata": {},
   "outputs": [
    {
     "data": {
      "text/plain": [
       "270145"
      ]
     },
     "execution_count": 27,
     "metadata": {},
     "output_type": "execute_result"
    }
   ],
   "source": [
    "# Mengecek berapa jumlah fix_books\n",
    "len(fix_books['ISBN'].unique())"
   ]
  },
  {
   "cell_type": "markdown",
   "metadata": {},
   "source": [
    "Selanjutnya, cek jumlah judul buku dengan kode berikut."
   ]
  },
  {
   "cell_type": "code",
   "execution_count": 28,
   "metadata": {},
   "outputs": [
    {
     "data": {
      "text/plain": [
       "241066"
      ]
     },
     "execution_count": 28,
     "metadata": {},
     "output_type": "execute_result"
    }
   ],
   "source": [
    "len(fix_books['Book-Title'].unique())"
   ]
  },
  {
   "cell_type": "markdown",
   "metadata": {},
   "source": [
    "Berdasarkan informasi diatas, diketahui bahwa jumlah nomor ISBN dengan jumlah judul buku tidak sama, artinya terdapat nomor ISBN yang sama pada lebih dari satu judul buku. Hal tersebut harus diatasi dengan mengubah datasetnya menjadi data unik sehingga nantinya siap dimasukkan ke dalam proses pemodelan. Oleh karena itu, diperlukan proses membuang data duplikat pada kolom 'ISBN' dan simpan ke dalam variabel baru bernama 'preparation. implementasikan kode berikut."
   ]
  },
  {
   "cell_type": "code",
   "execution_count": 29,
   "metadata": {},
   "outputs": [
    {
     "data": {
      "text/html": [
       "<div>\n",
       "<style scoped>\n",
       "    .dataframe tbody tr th:only-of-type {\n",
       "        vertical-align: middle;\n",
       "    }\n",
       "\n",
       "    .dataframe tbody tr th {\n",
       "        vertical-align: top;\n",
       "    }\n",
       "\n",
       "    .dataframe thead th {\n",
       "        text-align: right;\n",
       "    }\n",
       "</style>\n",
       "<table border=\"1\" class=\"dataframe\">\n",
       "  <thead>\n",
       "    <tr style=\"text-align: right;\">\n",
       "      <th></th>\n",
       "      <th>User-ID</th>\n",
       "      <th>ISBN</th>\n",
       "      <th>Book-Rating</th>\n",
       "      <th>Book-Title</th>\n",
       "      <th>Book-Author</th>\n",
       "      <th>Year-Of-Publication</th>\n",
       "      <th>Publisher</th>\n",
       "    </tr>\n",
       "  </thead>\n",
       "  <tbody>\n",
       "    <tr>\n",
       "      <th>703628</th>\n",
       "      <td>171118</td>\n",
       "      <td>0000913154</td>\n",
       "      <td>8</td>\n",
       "      <td>The Way Things Work: An Illustrated Encycloped...</td>\n",
       "      <td>C. van Amerongen (translator)</td>\n",
       "      <td>1967.0</td>\n",
       "      <td>Simon &amp;amp; Schuster</td>\n",
       "    </tr>\n",
       "    <tr>\n",
       "      <th>866078</th>\n",
       "      <td>209516</td>\n",
       "      <td>0001010565</td>\n",
       "      <td>0</td>\n",
       "      <td>Mog's Christmas</td>\n",
       "      <td>Judith Kerr</td>\n",
       "      <td>1992.0</td>\n",
       "      <td>Collins</td>\n",
       "    </tr>\n",
       "    <tr>\n",
       "      <th>103677</th>\n",
       "      <td>23902</td>\n",
       "      <td>0001046438</td>\n",
       "      <td>9</td>\n",
       "      <td>Liar</td>\n",
       "      <td>Stephen Fry</td>\n",
       "      <td>0.0</td>\n",
       "      <td>Harpercollins Uk</td>\n",
       "    </tr>\n",
       "    <tr>\n",
       "      <th>807953</th>\n",
       "      <td>196149</td>\n",
       "      <td>0001046713</td>\n",
       "      <td>0</td>\n",
       "      <td>Twopence to Cross the Mersey</td>\n",
       "      <td>Helen Forrester</td>\n",
       "      <td>1992.0</td>\n",
       "      <td>HarperCollins Publishers</td>\n",
       "    </tr>\n",
       "    <tr>\n",
       "      <th>103678</th>\n",
       "      <td>23902</td>\n",
       "      <td>000104687X</td>\n",
       "      <td>6</td>\n",
       "      <td>T.S. Eliot Reading \\The Wasteland\\\" and Other ...</td>\n",
       "      <td>T.S. Eliot</td>\n",
       "      <td>1993.0</td>\n",
       "      <td>HarperCollins Publishers</td>\n",
       "    </tr>\n",
       "    <tr>\n",
       "      <th>...</th>\n",
       "      <td>...</td>\n",
       "      <td>...</td>\n",
       "      <td>...</td>\n",
       "      <td>...</td>\n",
       "      <td>...</td>\n",
       "      <td>...</td>\n",
       "      <td>...</td>\n",
       "    </tr>\n",
       "    <tr>\n",
       "      <th>1100731</th>\n",
       "      <td>264317</td>\n",
       "      <td>B000234N76</td>\n",
       "      <td>0</td>\n",
       "      <td>Falling Angels</td>\n",
       "      <td>Tracy Chevalier</td>\n",
       "      <td>2001.0</td>\n",
       "      <td>E P Dutton</td>\n",
       "    </tr>\n",
       "    <tr>\n",
       "      <th>423108</th>\n",
       "      <td>100906</td>\n",
       "      <td>B000234NC6</td>\n",
       "      <td>0</td>\n",
       "      <td>It Must've Been Something I Ate: The Return of...</td>\n",
       "      <td>Jeffrey Steingarten</td>\n",
       "      <td>2002.0</td>\n",
       "      <td>Knopf</td>\n",
       "    </tr>\n",
       "    <tr>\n",
       "      <th>419279</th>\n",
       "      <td>100088</td>\n",
       "      <td>B00029DGGO</td>\n",
       "      <td>0</td>\n",
       "      <td>Good Wife Strikes Back, The</td>\n",
       "      <td>Elizabeth Buchan</td>\n",
       "      <td>0.0</td>\n",
       "      <td>Viking Adult</td>\n",
       "    </tr>\n",
       "    <tr>\n",
       "      <th>743545</th>\n",
       "      <td>179791</td>\n",
       "      <td>B0002JV9PY</td>\n",
       "      <td>0</td>\n",
       "      <td>The Blockade Runners</td>\n",
       "      <td>Jules Verne</td>\n",
       "      <td>0.0</td>\n",
       "      <td>Digireads.com</td>\n",
       "    </tr>\n",
       "    <tr>\n",
       "      <th>743546</th>\n",
       "      <td>179791</td>\n",
       "      <td>B0002K6K8O</td>\n",
       "      <td>0</td>\n",
       "      <td>The Underground City</td>\n",
       "      <td>Jules Verne</td>\n",
       "      <td>0.0</td>\n",
       "      <td>Digireads.com</td>\n",
       "    </tr>\n",
       "  </tbody>\n",
       "</table>\n",
       "<p>270145 rows × 7 columns</p>\n",
       "</div>"
      ],
      "text/plain": [
       "         User-ID        ISBN  Book-Rating  \\\n",
       "703628    171118  0000913154            8   \n",
       "866078    209516  0001010565            0   \n",
       "103677     23902  0001046438            9   \n",
       "807953    196149  0001046713            0   \n",
       "103678     23902  000104687X            6   \n",
       "...          ...         ...          ...   \n",
       "1100731   264317  B000234N76            0   \n",
       "423108    100906  B000234NC6            0   \n",
       "419279    100088  B00029DGGO            0   \n",
       "743545    179791  B0002JV9PY            0   \n",
       "743546    179791  B0002K6K8O            0   \n",
       "\n",
       "                                                Book-Title  \\\n",
       "703628   The Way Things Work: An Illustrated Encycloped...   \n",
       "866078                                     Mog's Christmas   \n",
       "103677                                                Liar   \n",
       "807953                        Twopence to Cross the Mersey   \n",
       "103678   T.S. Eliot Reading \\The Wasteland\\\" and Other ...   \n",
       "...                                                    ...   \n",
       "1100731                                     Falling Angels   \n",
       "423108   It Must've Been Something I Ate: The Return of...   \n",
       "419279                         Good Wife Strikes Back, The   \n",
       "743545                                The Blockade Runners   \n",
       "743546                                The Underground City   \n",
       "\n",
       "                           Book-Author  Year-Of-Publication  \\\n",
       "703628   C. van Amerongen (translator)               1967.0   \n",
       "866078                     Judith Kerr               1992.0   \n",
       "103677                     Stephen Fry                  0.0   \n",
       "807953                 Helen Forrester               1992.0   \n",
       "103678                      T.S. Eliot               1993.0   \n",
       "...                                ...                  ...   \n",
       "1100731                Tracy Chevalier               2001.0   \n",
       "423108             Jeffrey Steingarten               2002.0   \n",
       "419279                Elizabeth Buchan                  0.0   \n",
       "743545                     Jules Verne                  0.0   \n",
       "743546                     Jules Verne                  0.0   \n",
       "\n",
       "                        Publisher  \n",
       "703628       Simon &amp; Schuster  \n",
       "866078                    Collins  \n",
       "103677           Harpercollins Uk  \n",
       "807953   HarperCollins Publishers  \n",
       "103678   HarperCollins Publishers  \n",
       "...                           ...  \n",
       "1100731                E P Dutton  \n",
       "423108                      Knopf  \n",
       "419279               Viking Adult  \n",
       "743545              Digireads.com  \n",
       "743546              Digireads.com  \n",
       "\n",
       "[270145 rows x 7 columns]"
      ]
     },
     "execution_count": 29,
     "metadata": {},
     "output_type": "execute_result"
    }
   ],
   "source": [
    "preparation = fix_books.drop_duplicates('ISBN')\n",
    "preparation"
   ]
  },
  {
   "cell_type": "markdown",
   "metadata": {},
   "source": [
    "Setelah itu, kita lakukan proses pengecekan kembali jumlah data dari ISBN, judul buku (Book-Title), dan nama penulis buku (Book-Author). Dilakukan proses konversi data series menjadi list dengan fungsi [tolist()](https://numpy.org/doc/stable/reference/generated/numpy.ndarray.tolist.html) dari library. Implementasikan kode berikut."
   ]
  },
  {
   "cell_type": "code",
   "execution_count": 30,
   "metadata": {},
   "outputs": [
    {
     "name": "stdout",
     "output_type": "stream",
     "text": [
      "270145\n",
      "270145\n",
      "270145\n",
      "270145\n",
      "270145\n"
     ]
    }
   ],
   "source": [
    "# konversi data series 'ISBN' menjadi bentuk list\n",
    "isbn_id = preparation['ISBN'].tolist()\n",
    "\n",
    "# konversi data series 'Book-Title' menjadi bentuk list\n",
    "book_title = preparation['Book-Title'].tolist()\n",
    "\n",
    "# konversi data series 'Book-Author' menjadi bentuk list\n",
    "book_author = preparation['Book-Author'].tolist()\n",
    "\n",
    "# konversi data series 'Year-Of-Publication' menjadi bentuk list\n",
    "year_of_publication = preparation['Year-Of-Publication'].tolist()\n",
    "\n",
    "# konversi data series 'Publisher' menjadi bentuk list\n",
    "publisher = preparation['Publisher'].tolist()\n",
    "\n",
    "print(len(isbn_id))\n",
    "print(len(book_title))\n",
    "print(len(book_author))\n",
    "print(len(year_of_publication))\n",
    "print(len(publisher))"
   ]
  },
  {
   "cell_type": "markdown",
   "metadata": {},
   "source": [
    "Berdasarkan output diatas, diketahui bahwa sekarang jumlah data dari ISBN, judul buku, nama penulis buku, tahun publikasi dan nama penerbit sudah sama atau sudah merupakan data unik dan dataset hanya tersisa 270.145 baris data setelah melewati proses penghilangan duplikasi nilai. Tahap berikutnya yaitu pembuatan dictionary untuk menentukan pasangan key-value pada data isbn_id, book_title, book_author, year_of_publication, dan publihser yang sudah disiapkan sebelumnya untuk proses pengembangan model sistem rekomendasi berbasis konten (content-based filtering)."
   ]
  },
  {
   "cell_type": "code",
   "execution_count": 31,
   "metadata": {},
   "outputs": [
    {
     "data": {
      "text/html": [
       "<div>\n",
       "<style scoped>\n",
       "    .dataframe tbody tr th:only-of-type {\n",
       "        vertical-align: middle;\n",
       "    }\n",
       "\n",
       "    .dataframe tbody tr th {\n",
       "        vertical-align: top;\n",
       "    }\n",
       "\n",
       "    .dataframe thead th {\n",
       "        text-align: right;\n",
       "    }\n",
       "</style>\n",
       "<table border=\"1\" class=\"dataframe\">\n",
       "  <thead>\n",
       "    <tr style=\"text-align: right;\">\n",
       "      <th></th>\n",
       "      <th>isbn</th>\n",
       "      <th>book_title</th>\n",
       "      <th>book_author</th>\n",
       "      <th>year_of_publication</th>\n",
       "      <th>publisher</th>\n",
       "    </tr>\n",
       "  </thead>\n",
       "  <tbody>\n",
       "    <tr>\n",
       "      <th>0</th>\n",
       "      <td>0000913154</td>\n",
       "      <td>The Way Things Work: An Illustrated Encycloped...</td>\n",
       "      <td>C. van Amerongen (translator)</td>\n",
       "      <td>1967.0</td>\n",
       "      <td>Simon &amp;amp; Schuster</td>\n",
       "    </tr>\n",
       "    <tr>\n",
       "      <th>1</th>\n",
       "      <td>0001010565</td>\n",
       "      <td>Mog's Christmas</td>\n",
       "      <td>Judith Kerr</td>\n",
       "      <td>1992.0</td>\n",
       "      <td>Collins</td>\n",
       "    </tr>\n",
       "    <tr>\n",
       "      <th>2</th>\n",
       "      <td>0001046438</td>\n",
       "      <td>Liar</td>\n",
       "      <td>Stephen Fry</td>\n",
       "      <td>0.0</td>\n",
       "      <td>Harpercollins Uk</td>\n",
       "    </tr>\n",
       "    <tr>\n",
       "      <th>3</th>\n",
       "      <td>0001046713</td>\n",
       "      <td>Twopence to Cross the Mersey</td>\n",
       "      <td>Helen Forrester</td>\n",
       "      <td>1992.0</td>\n",
       "      <td>HarperCollins Publishers</td>\n",
       "    </tr>\n",
       "    <tr>\n",
       "      <th>4</th>\n",
       "      <td>000104687X</td>\n",
       "      <td>T.S. Eliot Reading \\The Wasteland\\\" and Other ...</td>\n",
       "      <td>T.S. Eliot</td>\n",
       "      <td>1993.0</td>\n",
       "      <td>HarperCollins Publishers</td>\n",
       "    </tr>\n",
       "    <tr>\n",
       "      <th>...</th>\n",
       "      <td>...</td>\n",
       "      <td>...</td>\n",
       "      <td>...</td>\n",
       "      <td>...</td>\n",
       "      <td>...</td>\n",
       "    </tr>\n",
       "    <tr>\n",
       "      <th>270140</th>\n",
       "      <td>B000234N76</td>\n",
       "      <td>Falling Angels</td>\n",
       "      <td>Tracy Chevalier</td>\n",
       "      <td>2001.0</td>\n",
       "      <td>E P Dutton</td>\n",
       "    </tr>\n",
       "    <tr>\n",
       "      <th>270141</th>\n",
       "      <td>B000234NC6</td>\n",
       "      <td>It Must've Been Something I Ate: The Return of...</td>\n",
       "      <td>Jeffrey Steingarten</td>\n",
       "      <td>2002.0</td>\n",
       "      <td>Knopf</td>\n",
       "    </tr>\n",
       "    <tr>\n",
       "      <th>270142</th>\n",
       "      <td>B00029DGGO</td>\n",
       "      <td>Good Wife Strikes Back, The</td>\n",
       "      <td>Elizabeth Buchan</td>\n",
       "      <td>0.0</td>\n",
       "      <td>Viking Adult</td>\n",
       "    </tr>\n",
       "    <tr>\n",
       "      <th>270143</th>\n",
       "      <td>B0002JV9PY</td>\n",
       "      <td>The Blockade Runners</td>\n",
       "      <td>Jules Verne</td>\n",
       "      <td>0.0</td>\n",
       "      <td>Digireads.com</td>\n",
       "    </tr>\n",
       "    <tr>\n",
       "      <th>270144</th>\n",
       "      <td>B0002K6K8O</td>\n",
       "      <td>The Underground City</td>\n",
       "      <td>Jules Verne</td>\n",
       "      <td>0.0</td>\n",
       "      <td>Digireads.com</td>\n",
       "    </tr>\n",
       "  </tbody>\n",
       "</table>\n",
       "<p>270145 rows × 5 columns</p>\n",
       "</div>"
      ],
      "text/plain": [
       "              isbn                                         book_title  \\\n",
       "0       0000913154  The Way Things Work: An Illustrated Encycloped...   \n",
       "1       0001010565                                    Mog's Christmas   \n",
       "2       0001046438                                               Liar   \n",
       "3       0001046713                       Twopence to Cross the Mersey   \n",
       "4       000104687X  T.S. Eliot Reading \\The Wasteland\\\" and Other ...   \n",
       "...            ...                                                ...   \n",
       "270140  B000234N76                                     Falling Angels   \n",
       "270141  B000234NC6  It Must've Been Something I Ate: The Return of...   \n",
       "270142  B00029DGGO                        Good Wife Strikes Back, The   \n",
       "270143  B0002JV9PY                               The Blockade Runners   \n",
       "270144  B0002K6K8O                               The Underground City   \n",
       "\n",
       "                          book_author  year_of_publication  \\\n",
       "0       C. van Amerongen (translator)               1967.0   \n",
       "1                         Judith Kerr               1992.0   \n",
       "2                         Stephen Fry                  0.0   \n",
       "3                     Helen Forrester               1992.0   \n",
       "4                          T.S. Eliot               1993.0   \n",
       "...                               ...                  ...   \n",
       "270140                Tracy Chevalier               2001.0   \n",
       "270141            Jeffrey Steingarten               2002.0   \n",
       "270142               Elizabeth Buchan                  0.0   \n",
       "270143                    Jules Verne                  0.0   \n",
       "270144                    Jules Verne                  0.0   \n",
       "\n",
       "                       publisher  \n",
       "0           Simon &amp; Schuster  \n",
       "1                        Collins  \n",
       "2               Harpercollins Uk  \n",
       "3       HarperCollins Publishers  \n",
       "4       HarperCollins Publishers  \n",
       "...                          ...  \n",
       "270140                E P Dutton  \n",
       "270141                     Knopf  \n",
       "270142              Viking Adult  \n",
       "270143             Digireads.com  \n",
       "270144             Digireads.com  \n",
       "\n",
       "[270145 rows x 5 columns]"
      ]
     },
     "execution_count": 31,
     "metadata": {},
     "output_type": "execute_result"
    }
   ],
   "source": [
    "# Membuat dictionary untuk data ‘isbn_id’, ‘book_title’, ‘book_author’, 'year_of_publication', dan 'publisher'\n",
    "books_new = pd.DataFrame({\n",
    "    'isbn': isbn_id,\n",
    "    'book_title': book_title,\n",
    "    'book_author': book_author,\n",
    "    'year_of_publication': year_of_publication,\n",
    "    'publisher': publisher\n",
    "\n",
    "})\n",
    "\n",
    "books_new"
   ]
  },
  {
   "cell_type": "markdown",
   "metadata": {},
   "source": [
    "Karena dataset yang dimiliki terlalu banyak dan secara otomatis alokasi memori yang digunakan nantinya akan sangat banyak untuk memproses seluruh data pada pengembangan model, maka pada proyek ini hanya akan mengambil data pertama hingga data ke 20.000 (exlude data ke 20.000)."
   ]
  },
  {
   "cell_type": "code",
   "execution_count": 32,
   "metadata": {},
   "outputs": [],
   "source": [
    "books_new = books_new[:20000]"
   ]
  },
  {
   "cell_type": "code",
   "execution_count": 33,
   "metadata": {},
   "outputs": [
    {
     "data": {
      "text/html": [
       "<div>\n",
       "<style scoped>\n",
       "    .dataframe tbody tr th:only-of-type {\n",
       "        vertical-align: middle;\n",
       "    }\n",
       "\n",
       "    .dataframe tbody tr th {\n",
       "        vertical-align: top;\n",
       "    }\n",
       "\n",
       "    .dataframe thead th {\n",
       "        text-align: right;\n",
       "    }\n",
       "</style>\n",
       "<table border=\"1\" class=\"dataframe\">\n",
       "  <thead>\n",
       "    <tr style=\"text-align: right;\">\n",
       "      <th></th>\n",
       "      <th>isbn</th>\n",
       "      <th>book_title</th>\n",
       "      <th>book_author</th>\n",
       "      <th>year_of_publication</th>\n",
       "      <th>publisher</th>\n",
       "    </tr>\n",
       "  </thead>\n",
       "  <tbody>\n",
       "    <tr>\n",
       "      <th>0</th>\n",
       "      <td>0000913154</td>\n",
       "      <td>The Way Things Work: An Illustrated Encycloped...</td>\n",
       "      <td>C. van Amerongen (translator)</td>\n",
       "      <td>1967.0</td>\n",
       "      <td>Simon &amp;amp; Schuster</td>\n",
       "    </tr>\n",
       "    <tr>\n",
       "      <th>1</th>\n",
       "      <td>0001010565</td>\n",
       "      <td>Mog's Christmas</td>\n",
       "      <td>Judith Kerr</td>\n",
       "      <td>1992.0</td>\n",
       "      <td>Collins</td>\n",
       "    </tr>\n",
       "    <tr>\n",
       "      <th>2</th>\n",
       "      <td>0001046438</td>\n",
       "      <td>Liar</td>\n",
       "      <td>Stephen Fry</td>\n",
       "      <td>0.0</td>\n",
       "      <td>Harpercollins Uk</td>\n",
       "    </tr>\n",
       "    <tr>\n",
       "      <th>3</th>\n",
       "      <td>0001046713</td>\n",
       "      <td>Twopence to Cross the Mersey</td>\n",
       "      <td>Helen Forrester</td>\n",
       "      <td>1992.0</td>\n",
       "      <td>HarperCollins Publishers</td>\n",
       "    </tr>\n",
       "    <tr>\n",
       "      <th>4</th>\n",
       "      <td>000104687X</td>\n",
       "      <td>T.S. Eliot Reading \\The Wasteland\\\" and Other ...</td>\n",
       "      <td>T.S. Eliot</td>\n",
       "      <td>1993.0</td>\n",
       "      <td>HarperCollins Publishers</td>\n",
       "    </tr>\n",
       "    <tr>\n",
       "      <th>...</th>\n",
       "      <td>...</td>\n",
       "      <td>...</td>\n",
       "      <td>...</td>\n",
       "      <td>...</td>\n",
       "      <td>...</td>\n",
       "    </tr>\n",
       "    <tr>\n",
       "      <th>19995</th>\n",
       "      <td>0140444696</td>\n",
       "      <td>The Kreutzer Sonata and Other Stories (Penguin...</td>\n",
       "      <td>Leo Tolstoy</td>\n",
       "      <td>1986.0</td>\n",
       "      <td>Penguin Books</td>\n",
       "    </tr>\n",
       "    <tr>\n",
       "      <th>19996</th>\n",
       "      <td>014044470X</td>\n",
       "      <td>The Fiancee and Other Stories (Penguin Classics)</td>\n",
       "      <td>Anton Pavlovich Chekhov</td>\n",
       "      <td>1986.0</td>\n",
       "      <td>Penguin Books</td>\n",
       "    </tr>\n",
       "    <tr>\n",
       "      <th>19997</th>\n",
       "      <td>0140444726</td>\n",
       "      <td>Jacques the Fatalist and His Master (Penguin C...</td>\n",
       "      <td>Denis Diderot</td>\n",
       "      <td>1986.0</td>\n",
       "      <td>Penguin Books</td>\n",
       "    </tr>\n",
       "    <tr>\n",
       "      <th>19998</th>\n",
       "      <td>0140444742</td>\n",
       "      <td>Seven Viking Romances (Penguin Classics)</td>\n",
       "      <td>Hermann Palsson</td>\n",
       "      <td>1986.0</td>\n",
       "      <td>Penguin Books</td>\n",
       "    </tr>\n",
       "    <tr>\n",
       "      <th>19999</th>\n",
       "      <td>0140444750</td>\n",
       "      <td>Early Christian Writings: The Apostolic Father...</td>\n",
       "      <td>Maxwell Staniforth</td>\n",
       "      <td>1987.0</td>\n",
       "      <td>Penguin Books</td>\n",
       "    </tr>\n",
       "  </tbody>\n",
       "</table>\n",
       "<p>20000 rows × 5 columns</p>\n",
       "</div>"
      ],
      "text/plain": [
       "             isbn                                         book_title  \\\n",
       "0      0000913154  The Way Things Work: An Illustrated Encycloped...   \n",
       "1      0001010565                                    Mog's Christmas   \n",
       "2      0001046438                                               Liar   \n",
       "3      0001046713                       Twopence to Cross the Mersey   \n",
       "4      000104687X  T.S. Eliot Reading \\The Wasteland\\\" and Other ...   \n",
       "...           ...                                                ...   \n",
       "19995  0140444696  The Kreutzer Sonata and Other Stories (Penguin...   \n",
       "19996  014044470X   The Fiancee and Other Stories (Penguin Classics)   \n",
       "19997  0140444726  Jacques the Fatalist and His Master (Penguin C...   \n",
       "19998  0140444742           Seven Viking Romances (Penguin Classics)   \n",
       "19999  0140444750  Early Christian Writings: The Apostolic Father...   \n",
       "\n",
       "                         book_author  year_of_publication  \\\n",
       "0      C. van Amerongen (translator)               1967.0   \n",
       "1                        Judith Kerr               1992.0   \n",
       "2                        Stephen Fry                  0.0   \n",
       "3                    Helen Forrester               1992.0   \n",
       "4                         T.S. Eliot               1993.0   \n",
       "...                              ...                  ...   \n",
       "19995                    Leo Tolstoy               1986.0   \n",
       "19996        Anton Pavlovich Chekhov               1986.0   \n",
       "19997                  Denis Diderot               1986.0   \n",
       "19998                Hermann Palsson               1986.0   \n",
       "19999             Maxwell Staniforth               1987.0   \n",
       "\n",
       "                      publisher  \n",
       "0          Simon &amp; Schuster  \n",
       "1                       Collins  \n",
       "2              Harpercollins Uk  \n",
       "3      HarperCollins Publishers  \n",
       "4      HarperCollins Publishers  \n",
       "...                         ...  \n",
       "19995             Penguin Books  \n",
       "19996             Penguin Books  \n",
       "19997             Penguin Books  \n",
       "19998             Penguin Books  \n",
       "19999             Penguin Books  \n",
       "\n",
       "[20000 rows x 5 columns]"
      ]
     },
     "execution_count": 33,
     "metadata": {},
     "output_type": "execute_result"
    }
   ],
   "source": [
    "books_new"
   ]
  },
  {
   "cell_type": "markdown",
   "metadata": {},
   "source": [
    "Inilah data yang akan digunakan pada proses pengembangan model dengan teknik content based filtering."
   ]
  },
  {
   "cell_type": "markdown",
   "metadata": {},
   "source": [
    "## Data Preparation Untuk Model Pengembangan dengan Collaborative Filtering"
   ]
  },
  {
   "cell_type": "markdown",
   "metadata": {},
   "source": [
    "Pada model pengembangan dengan collaborative filtering, data nantinya akan dibagi menjadi data training dan data validasi dalam proses pelatihan model, sebelum di bagi menjadi data training dan data validasi, data harus dipersiapkan terlebih dahulu. Data rating harus diubah ke dalam bentuk matriks numerik agar nantinya mempermudah proses pelatihan model sehingga model menjadi mudah mengenali/mempelajari data tersebut. Sebelum itu dilakukan, Pada tahap ini di dilakukan beberapa teknik untuk mempersiapkan data seperti menyandikan (encode) fitur 'User-ID' dan 'ISBN' ke dalam indeks integer, memetakan 'User-ID' dan 'ISBN'ke dataframe yang berkaitan, dan yang terakhir mengecek beberapa hal dalam data seperti jumlah pengguna, jumlah buku, kemudian mengubah nilai rating menjadi float agar bisa digunakan pada proses pelatihan model."
   ]
  },
  {
   "cell_type": "markdown",
   "metadata": {},
   "source": [
    "Pertama, dilakukan proses menyandikan (encode) fitur 'User-ID' dan 'ISBN' ke dalam indeks integer. Terapkan kode berikut."
   ]
  },
  {
   "cell_type": "code",
   "execution_count": 34,
   "metadata": {},
   "outputs": [
    {
     "name": "stdout",
     "output_type": "stream",
     "text": [
      "list userID:  [276725, 276726, 276727, 276729, 276733, 276736, 276737, 276744, 276745, 276746, 276747, 276748, 276751, 276754, 276755, 276760, 276762, 276765, 276768, 276772, 276774, 276780, 276786, 276788, 276796, 276798, 276800, 276803, 276804, 276806, 276808, 276811, 276812, 276813, 276814, 276817, 276820, 276822, 276827, 276828, 276830, 276832, 276833, 276835, 276837, 276838, 276840, 276842, 276847, 276848, 276850, 276852, 276853, 276854, 276856, 276857, 276859, 276861, 276862, 276863, 276866, 276869, 276870, 276872, 276873, 276875, 276878, 276879, 276884, 276887, 276888, 276889, 276890, 276896, 276904, 276905, 276911, 276912, 276915, 276916, 276925, 276927, 276928, 276929, 276934, 276936, 276939, 276943, 276946, 276949, 276950, 276953, 276954, 276957, 276959, 276963, 276964, 276965, 276975, 276981, 276984, 276986, 276988, 276989, 276990, 276992, 276994, 276997, 276998, 277002, 277007, 277009, 277010, 277012, 277018, 277019, 277022, 277023, 277028, 277031, 277032, 277035, 277036, 277040, 277042, 277048, 277051, 277052, 277053, 277056, 277058, 277064, 277065, 277072, 277073, 277074, 277075, 277079, 277085, 277087, 277090, 277094, 277096, 277102, 277107, 277109, 277114, 277116, 277123, 277124, 277128, 277129, 277134, 277135, 277139, 277142, 277143, 277149, 277155, 277157, 277159, 277165, 277168, 277170, 277171, 277176, 277179, 277180, 277183, 277186, 277187, 277188, 277189, 277195, 277196, 277197, 277203, 277205, 277209, 277212, 277220, 277221, 277228, 277229, 277230, 277231, 277232, 277235, 277237, 277240, 277242, 277243, 277244, 277245, 277246, 277249, 277253, 277256, 277257, 277261, 277262, 277265, 277267, 277268, 277269, 277271, 277272, 277274, 277281, 277284, 277285, 277288, 277291, 277292, 277293, 277305, 277314, 277315, 277317, 277330, 277334, 277338, 277339, 277340, 277341, 277343, 277348, 277351, 277353, 277358, 277359, 277363, 277364, 277367, 277369, 277371, 277374, 277375, 277378, 277379, 277380, 277384, 277388, 277389, 277392, 277397, 277399, 277400, 277402, 277405, 277408, 277411, 277413, 277424, 277425, 277427, 277432, 277433, 277434, 277435, 277436, 277439, 277444, 277453, 277457, 277461, 277462, 277466, 277469, 277470, 277471, 277473, 277474, 277478, 277479, 277486, 277488, 277489, 277502, 277506, 277508, 277509, 277513, 277514, 277516, 277517, 277518, 277519, 277523, 277525, 277526, 277527, 277528, 277529, 277530, 277532, 277533, 277535, 277538, 277544, 277547, 277548, 277554, 277556, 277559, 277560, 277562, 277563, 277565, 277568, 277569, 277574, 277575, 277579, 277585, 277586, 277588, 277589, 277590, 277594, 277595, 277596, 277598, 277601, 277605, 277610, 277619, 277622, 277623, 277627, 277629, 277632, 277633, 277636, 277638, 277639, 277641, 277643, 277646, 277647, 277648, 277650, 277651, 277657, 277660, 277662, 277665, 277667, 277680, 277681, 277682, 277687, 277688, 277689, 277691, 277696, 277697, 277698, 277700, 277701, 277705, 277706, 277710, 277711, 277712, 277714, 277716, 277720, 277722, 277727, 277728, 277737, 277740, 277741, 277743, 277744, 277746, 277748, 277752, 277753, 277756, 277759, 277761, 277764, 277765, 277767, 277768, 277769, 277774, 277775, 277776, 277777, 277778, 277779, 277781, 277782, 277783, 277784, 277786, 277787, 277788, 277790, 277791, 277793, 277794, 277795, 277797, 277798, 277799, 277800, 277801, 277802, 277803, 277807, 277808, 277809, 277811, 277812, 277813, 277814, 277816, 277817, 277818, 277819, 277820, 277823, 277824, 277825, 277826, 277827, 277828, 277830, 277831, 277832, 277833, 277834, 277835, 277837, 277838, 277840, 277841, 277842, 277843, 277844, 277845, 277847, 277853, 277856, 277862, 277864, 277867, 277872, 277873, 277877, 277879, 277882, 277884, 277888, 277891, 277892, 277894, 277895, 277898, 277901, 277903, 277904, 277908, 277909, 277911, 277913, 277915, 277918, 277919, 277921, 277922, 277923, 277928, 277929, 277930, 277932, 277934, 277937, 277938, 277941, 277945, 277946, 277947, 277953, 277954, 277958, 277959, 277962, 277964, 277965, 277969, 277975, 277978, 277982, 277984, 277987, 277988, 277989, 277992, 277993, 277996, 277997, 277998, 278002, 278004, 278007, 278008, 278009, 278012, 278013, 278014, 278017, 278019, 278020, 278021, 278022, 278023, 278024, 278026, 278030, 278034, 278036, 278043, 278044, 278048, 278054, 278056, 278057, 278058, 278063, 278064, 278065, 278066, 278069, 278070, 278074, 278075, 278079, 278085, 278089, 278092, 278094, 278095, 278096, 278097, 278098, 278100, 278104, 278106, 278107, 278110, 278111, 278112, 278117, 278119, 278120, 278122, 278126, 278130, 278131, 278137, 278139, 278140, 278144, 278148, 278149, 278153, 278155, 278156, 278158, 278159, 278160, 278161, 278162, 278167, 278168, 278172, 278176, 278177, 278181, 278183, 278184, 278185, 278188, 278193, 278194, 278197, 278199, 278200, 278202, 278203, 278204, 278206, 278207, 278209, 278212, 278213, 278215, 278216, 278218, 278220, 278221, 278224, 278227, 278229, 278235, 278237, 278238, 278242, 278243, 278244, 278245, 278246, 278248, 278249, 278250, 278251, 278253, 278254, 278255, 278257, 278259, 278260, 278263, 278264, 278270, 278274, 278279, 278280, 278297, 278300, 278302, 278307, 278310, 278311, 278313, 278314, 278316, 278319, 278325, 278328, 278330, 278332, 278333, 278334, 278336, 278342, 278345, 278346, 278350, 278355, 278356, 278357, 278358, 278361, 278364, 278365, 278368, 278373, 278376, 278377, 278378, 278388, 278389, 278390, 278394, 278396, 278398, 278400, 278401, 278407, 278409, 278411, 278413, 278418]\n",
      "encoded userID:  {276725: 0, 276726: 1, 276727: 2, 276729: 3, 276733: 4, 276736: 5, 276737: 6, 276744: 7, 276745: 8, 276746: 9, 276747: 10, 276748: 11, 276751: 12, 276754: 13, 276755: 14, 276760: 15, 276762: 16, 276765: 17, 276768: 18, 276772: 19, 276774: 20, 276780: 21, 276786: 22, 276788: 23, 276796: 24, 276798: 25, 276800: 26, 276803: 27, 276804: 28, 276806: 29, 276808: 30, 276811: 31, 276812: 32, 276813: 33, 276814: 34, 276817: 35, 276820: 36, 276822: 37, 276827: 38, 276828: 39, 276830: 40, 276832: 41, 276833: 42, 276835: 43, 276837: 44, 276838: 45, 276840: 46, 276842: 47, 276847: 48, 276848: 49, 276850: 50, 276852: 51, 276853: 52, 276854: 53, 276856: 54, 276857: 55, 276859: 56, 276861: 57, 276862: 58, 276863: 59, 276866: 60, 276869: 61, 276870: 62, 276872: 63, 276873: 64, 276875: 65, 276878: 66, 276879: 67, 276884: 68, 276887: 69, 276888: 70, 276889: 71, 276890: 72, 276896: 73, 276904: 74, 276905: 75, 276911: 76, 276912: 77, 276915: 78, 276916: 79, 276925: 80, 276927: 81, 276928: 82, 276929: 83, 276934: 84, 276936: 85, 276939: 86, 276943: 87, 276946: 88, 276949: 89, 276950: 90, 276953: 91, 276954: 92, 276957: 93, 276959: 94, 276963: 95, 276964: 96, 276965: 97, 276975: 98, 276981: 99, 276984: 100, 276986: 101, 276988: 102, 276989: 103, 276990: 104, 276992: 105, 276994: 106, 276997: 107, 276998: 108, 277002: 109, 277007: 110, 277009: 111, 277010: 112, 277012: 113, 277018: 114, 277019: 115, 277022: 116, 277023: 117, 277028: 118, 277031: 119, 277032: 120, 277035: 121, 277036: 122, 277040: 123, 277042: 124, 277048: 125, 277051: 126, 277052: 127, 277053: 128, 277056: 129, 277058: 130, 277064: 131, 277065: 132, 277072: 133, 277073: 134, 277074: 135, 277075: 136, 277079: 137, 277085: 138, 277087: 139, 277090: 140, 277094: 141, 277096: 142, 277102: 143, 277107: 144, 277109: 145, 277114: 146, 277116: 147, 277123: 148, 277124: 149, 277128: 150, 277129: 151, 277134: 152, 277135: 153, 277139: 154, 277142: 155, 277143: 156, 277149: 157, 277155: 158, 277157: 159, 277159: 160, 277165: 161, 277168: 162, 277170: 163, 277171: 164, 277176: 165, 277179: 166, 277180: 167, 277183: 168, 277186: 169, 277187: 170, 277188: 171, 277189: 172, 277195: 173, 277196: 174, 277197: 175, 277203: 176, 277205: 177, 277209: 178, 277212: 179, 277220: 180, 277221: 181, 277228: 182, 277229: 183, 277230: 184, 277231: 185, 277232: 186, 277235: 187, 277237: 188, 277240: 189, 277242: 190, 277243: 191, 277244: 192, 277245: 193, 277246: 194, 277249: 195, 277253: 196, 277256: 197, 277257: 198, 277261: 199, 277262: 200, 277265: 201, 277267: 202, 277268: 203, 277269: 204, 277271: 205, 277272: 206, 277274: 207, 277281: 208, 277284: 209, 277285: 210, 277288: 211, 277291: 212, 277292: 213, 277293: 214, 277305: 215, 277314: 216, 277315: 217, 277317: 218, 277330: 219, 277334: 220, 277338: 221, 277339: 222, 277340: 223, 277341: 224, 277343: 225, 277348: 226, 277351: 227, 277353: 228, 277358: 229, 277359: 230, 277363: 231, 277364: 232, 277367: 233, 277369: 234, 277371: 235, 277374: 236, 277375: 237, 277378: 238, 277379: 239, 277380: 240, 277384: 241, 277388: 242, 277389: 243, 277392: 244, 277397: 245, 277399: 246, 277400: 247, 277402: 248, 277405: 249, 277408: 250, 277411: 251, 277413: 252, 277424: 253, 277425: 254, 277427: 255, 277432: 256, 277433: 257, 277434: 258, 277435: 259, 277436: 260, 277439: 261, 277444: 262, 277453: 263, 277457: 264, 277461: 265, 277462: 266, 277466: 267, 277469: 268, 277470: 269, 277471: 270, 277473: 271, 277474: 272, 277478: 273, 277479: 274, 277486: 275, 277488: 276, 277489: 277, 277502: 278, 277506: 279, 277508: 280, 277509: 281, 277513: 282, 277514: 283, 277516: 284, 277517: 285, 277518: 286, 277519: 287, 277523: 288, 277525: 289, 277526: 290, 277527: 291, 277528: 292, 277529: 293, 277530: 294, 277532: 295, 277533: 296, 277535: 297, 277538: 298, 277544: 299, 277547: 300, 277548: 301, 277554: 302, 277556: 303, 277559: 304, 277560: 305, 277562: 306, 277563: 307, 277565: 308, 277568: 309, 277569: 310, 277574: 311, 277575: 312, 277579: 313, 277585: 314, 277586: 315, 277588: 316, 277589: 317, 277590: 318, 277594: 319, 277595: 320, 277596: 321, 277598: 322, 277601: 323, 277605: 324, 277610: 325, 277619: 326, 277622: 327, 277623: 328, 277627: 329, 277629: 330, 277632: 331, 277633: 332, 277636: 333, 277638: 334, 277639: 335, 277641: 336, 277643: 337, 277646: 338, 277647: 339, 277648: 340, 277650: 341, 277651: 342, 277657: 343, 277660: 344, 277662: 345, 277665: 346, 277667: 347, 277680: 348, 277681: 349, 277682: 350, 277687: 351, 277688: 352, 277689: 353, 277691: 354, 277696: 355, 277697: 356, 277698: 357, 277700: 358, 277701: 359, 277705: 360, 277706: 361, 277710: 362, 277711: 363, 277712: 364, 277714: 365, 277716: 366, 277720: 367, 277722: 368, 277727: 369, 277728: 370, 277737: 371, 277740: 372, 277741: 373, 277743: 374, 277744: 375, 277746: 376, 277748: 377, 277752: 378, 277753: 379, 277756: 380, 277759: 381, 277761: 382, 277764: 383, 277765: 384, 277767: 385, 277768: 386, 277769: 387, 277774: 388, 277775: 389, 277776: 390, 277777: 391, 277778: 392, 277779: 393, 277781: 394, 277782: 395, 277783: 396, 277784: 397, 277786: 398, 277787: 399, 277788: 400, 277790: 401, 277791: 402, 277793: 403, 277794: 404, 277795: 405, 277797: 406, 277798: 407, 277799: 408, 277800: 409, 277801: 410, 277802: 411, 277803: 412, 277807: 413, 277808: 414, 277809: 415, 277811: 416, 277812: 417, 277813: 418, 277814: 419, 277816: 420, 277817: 421, 277818: 422, 277819: 423, 277820: 424, 277823: 425, 277824: 426, 277825: 427, 277826: 428, 277827: 429, 277828: 430, 277830: 431, 277831: 432, 277832: 433, 277833: 434, 277834: 435, 277835: 436, 277837: 437, 277838: 438, 277840: 439, 277841: 440, 277842: 441, 277843: 442, 277844: 443, 277845: 444, 277847: 445, 277853: 446, 277856: 447, 277862: 448, 277864: 449, 277867: 450, 277872: 451, 277873: 452, 277877: 453, 277879: 454, 277882: 455, 277884: 456, 277888: 457, 277891: 458, 277892: 459, 277894: 460, 277895: 461, 277898: 462, 277901: 463, 277903: 464, 277904: 465, 277908: 466, 277909: 467, 277911: 468, 277913: 469, 277915: 470, 277918: 471, 277919: 472, 277921: 473, 277922: 474, 277923: 475, 277928: 476, 277929: 477, 277930: 478, 277932: 479, 277934: 480, 277937: 481, 277938: 482, 277941: 483, 277945: 484, 277946: 485, 277947: 486, 277953: 487, 277954: 488, 277958: 489, 277959: 490, 277962: 491, 277964: 492, 277965: 493, 277969: 494, 277975: 495, 277978: 496, 277982: 497, 277984: 498, 277987: 499, 277988: 500, 277989: 501, 277992: 502, 277993: 503, 277996: 504, 277997: 505, 277998: 506, 278002: 507, 278004: 508, 278007: 509, 278008: 510, 278009: 511, 278012: 512, 278013: 513, 278014: 514, 278017: 515, 278019: 516, 278020: 517, 278021: 518, 278022: 519, 278023: 520, 278024: 521, 278026: 522, 278030: 523, 278034: 524, 278036: 525, 278043: 526, 278044: 527, 278048: 528, 278054: 529, 278056: 530, 278057: 531, 278058: 532, 278063: 533, 278064: 534, 278065: 535, 278066: 536, 278069: 537, 278070: 538, 278074: 539, 278075: 540, 278079: 541, 278085: 542, 278089: 543, 278092: 544, 278094: 545, 278095: 546, 278096: 547, 278097: 548, 278098: 549, 278100: 550, 278104: 551, 278106: 552, 278107: 553, 278110: 554, 278111: 555, 278112: 556, 278117: 557, 278119: 558, 278120: 559, 278122: 560, 278126: 561, 278130: 562, 278131: 563, 278137: 564, 278139: 565, 278140: 566, 278144: 567, 278148: 568, 278149: 569, 278153: 570, 278155: 571, 278156: 572, 278158: 573, 278159: 574, 278160: 575, 278161: 576, 278162: 577, 278167: 578, 278168: 579, 278172: 580, 278176: 581, 278177: 582, 278181: 583, 278183: 584, 278184: 585, 278185: 586, 278188: 587, 278193: 588, 278194: 589, 278197: 590, 278199: 591, 278200: 592, 278202: 593, 278203: 594, 278204: 595, 278206: 596, 278207: 597, 278209: 598, 278212: 599, 278213: 600, 278215: 601, 278216: 602, 278218: 603, 278220: 604, 278221: 605, 278224: 606, 278227: 607, 278229: 608, 278235: 609, 278237: 610, 278238: 611, 278242: 612, 278243: 613, 278244: 614, 278245: 615, 278246: 616, 278248: 617, 278249: 618, 278250: 619, 278251: 620, 278253: 621, 278254: 622, 278255: 623, 278257: 624, 278259: 625, 278260: 626, 278263: 627, 278264: 628, 278270: 629, 278274: 630, 278279: 631, 278280: 632, 278297: 633, 278300: 634, 278302: 635, 278307: 636, 278310: 637, 278311: 638, 278313: 639, 278314: 640, 278316: 641, 278319: 642, 278325: 643, 278328: 644, 278330: 645, 278332: 646, 278333: 647, 278334: 648, 278336: 649, 278342: 650, 278345: 651, 278346: 652, 278350: 653, 278355: 654, 278356: 655, 278357: 656, 278358: 657, 278361: 658, 278364: 659, 278365: 660, 278368: 661, 278373: 662, 278376: 663, 278377: 664, 278378: 665, 278388: 666, 278389: 667, 278390: 668, 278394: 669, 278396: 670, 278398: 671, 278400: 672, 278401: 673, 278407: 674, 278409: 675, 278411: 676, 278413: 677, 278418: 678}\n",
      "encoded angka ke userID:  {0: 276725, 1: 276726, 2: 276727, 3: 276729, 4: 276733, 5: 276736, 6: 276737, 7: 276744, 8: 276745, 9: 276746, 10: 276747, 11: 276748, 12: 276751, 13: 276754, 14: 276755, 15: 276760, 16: 276762, 17: 276765, 18: 276768, 19: 276772, 20: 276774, 21: 276780, 22: 276786, 23: 276788, 24: 276796, 25: 276798, 26: 276800, 27: 276803, 28: 276804, 29: 276806, 30: 276808, 31: 276811, 32: 276812, 33: 276813, 34: 276814, 35: 276817, 36: 276820, 37: 276822, 38: 276827, 39: 276828, 40: 276830, 41: 276832, 42: 276833, 43: 276835, 44: 276837, 45: 276838, 46: 276840, 47: 276842, 48: 276847, 49: 276848, 50: 276850, 51: 276852, 52: 276853, 53: 276854, 54: 276856, 55: 276857, 56: 276859, 57: 276861, 58: 276862, 59: 276863, 60: 276866, 61: 276869, 62: 276870, 63: 276872, 64: 276873, 65: 276875, 66: 276878, 67: 276879, 68: 276884, 69: 276887, 70: 276888, 71: 276889, 72: 276890, 73: 276896, 74: 276904, 75: 276905, 76: 276911, 77: 276912, 78: 276915, 79: 276916, 80: 276925, 81: 276927, 82: 276928, 83: 276929, 84: 276934, 85: 276936, 86: 276939, 87: 276943, 88: 276946, 89: 276949, 90: 276950, 91: 276953, 92: 276954, 93: 276957, 94: 276959, 95: 276963, 96: 276964, 97: 276965, 98: 276975, 99: 276981, 100: 276984, 101: 276986, 102: 276988, 103: 276989, 104: 276990, 105: 276992, 106: 276994, 107: 276997, 108: 276998, 109: 277002, 110: 277007, 111: 277009, 112: 277010, 113: 277012, 114: 277018, 115: 277019, 116: 277022, 117: 277023, 118: 277028, 119: 277031, 120: 277032, 121: 277035, 122: 277036, 123: 277040, 124: 277042, 125: 277048, 126: 277051, 127: 277052, 128: 277053, 129: 277056, 130: 277058, 131: 277064, 132: 277065, 133: 277072, 134: 277073, 135: 277074, 136: 277075, 137: 277079, 138: 277085, 139: 277087, 140: 277090, 141: 277094, 142: 277096, 143: 277102, 144: 277107, 145: 277109, 146: 277114, 147: 277116, 148: 277123, 149: 277124, 150: 277128, 151: 277129, 152: 277134, 153: 277135, 154: 277139, 155: 277142, 156: 277143, 157: 277149, 158: 277155, 159: 277157, 160: 277159, 161: 277165, 162: 277168, 163: 277170, 164: 277171, 165: 277176, 166: 277179, 167: 277180, 168: 277183, 169: 277186, 170: 277187, 171: 277188, 172: 277189, 173: 277195, 174: 277196, 175: 277197, 176: 277203, 177: 277205, 178: 277209, 179: 277212, 180: 277220, 181: 277221, 182: 277228, 183: 277229, 184: 277230, 185: 277231, 186: 277232, 187: 277235, 188: 277237, 189: 277240, 190: 277242, 191: 277243, 192: 277244, 193: 277245, 194: 277246, 195: 277249, 196: 277253, 197: 277256, 198: 277257, 199: 277261, 200: 277262, 201: 277265, 202: 277267, 203: 277268, 204: 277269, 205: 277271, 206: 277272, 207: 277274, 208: 277281, 209: 277284, 210: 277285, 211: 277288, 212: 277291, 213: 277292, 214: 277293, 215: 277305, 216: 277314, 217: 277315, 218: 277317, 219: 277330, 220: 277334, 221: 277338, 222: 277339, 223: 277340, 224: 277341, 225: 277343, 226: 277348, 227: 277351, 228: 277353, 229: 277358, 230: 277359, 231: 277363, 232: 277364, 233: 277367, 234: 277369, 235: 277371, 236: 277374, 237: 277375, 238: 277378, 239: 277379, 240: 277380, 241: 277384, 242: 277388, 243: 277389, 244: 277392, 245: 277397, 246: 277399, 247: 277400, 248: 277402, 249: 277405, 250: 277408, 251: 277411, 252: 277413, 253: 277424, 254: 277425, 255: 277427, 256: 277432, 257: 277433, 258: 277434, 259: 277435, 260: 277436, 261: 277439, 262: 277444, 263: 277453, 264: 277457, 265: 277461, 266: 277462, 267: 277466, 268: 277469, 269: 277470, 270: 277471, 271: 277473, 272: 277474, 273: 277478, 274: 277479, 275: 277486, 276: 277488, 277: 277489, 278: 277502, 279: 277506, 280: 277508, 281: 277509, 282: 277513, 283: 277514, 284: 277516, 285: 277517, 286: 277518, 287: 277519, 288: 277523, 289: 277525, 290: 277526, 291: 277527, 292: 277528, 293: 277529, 294: 277530, 295: 277532, 296: 277533, 297: 277535, 298: 277538, 299: 277544, 300: 277547, 301: 277548, 302: 277554, 303: 277556, 304: 277559, 305: 277560, 306: 277562, 307: 277563, 308: 277565, 309: 277568, 310: 277569, 311: 277574, 312: 277575, 313: 277579, 314: 277585, 315: 277586, 316: 277588, 317: 277589, 318: 277590, 319: 277594, 320: 277595, 321: 277596, 322: 277598, 323: 277601, 324: 277605, 325: 277610, 326: 277619, 327: 277622, 328: 277623, 329: 277627, 330: 277629, 331: 277632, 332: 277633, 333: 277636, 334: 277638, 335: 277639, 336: 277641, 337: 277643, 338: 277646, 339: 277647, 340: 277648, 341: 277650, 342: 277651, 343: 277657, 344: 277660, 345: 277662, 346: 277665, 347: 277667, 348: 277680, 349: 277681, 350: 277682, 351: 277687, 352: 277688, 353: 277689, 354: 277691, 355: 277696, 356: 277697, 357: 277698, 358: 277700, 359: 277701, 360: 277705, 361: 277706, 362: 277710, 363: 277711, 364: 277712, 365: 277714, 366: 277716, 367: 277720, 368: 277722, 369: 277727, 370: 277728, 371: 277737, 372: 277740, 373: 277741, 374: 277743, 375: 277744, 376: 277746, 377: 277748, 378: 277752, 379: 277753, 380: 277756, 381: 277759, 382: 277761, 383: 277764, 384: 277765, 385: 277767, 386: 277768, 387: 277769, 388: 277774, 389: 277775, 390: 277776, 391: 277777, 392: 277778, 393: 277779, 394: 277781, 395: 277782, 396: 277783, 397: 277784, 398: 277786, 399: 277787, 400: 277788, 401: 277790, 402: 277791, 403: 277793, 404: 277794, 405: 277795, 406: 277797, 407: 277798, 408: 277799, 409: 277800, 410: 277801, 411: 277802, 412: 277803, 413: 277807, 414: 277808, 415: 277809, 416: 277811, 417: 277812, 418: 277813, 419: 277814, 420: 277816, 421: 277817, 422: 277818, 423: 277819, 424: 277820, 425: 277823, 426: 277824, 427: 277825, 428: 277826, 429: 277827, 430: 277828, 431: 277830, 432: 277831, 433: 277832, 434: 277833, 435: 277834, 436: 277835, 437: 277837, 438: 277838, 439: 277840, 440: 277841, 441: 277842, 442: 277843, 443: 277844, 444: 277845, 445: 277847, 446: 277853, 447: 277856, 448: 277862, 449: 277864, 450: 277867, 451: 277872, 452: 277873, 453: 277877, 454: 277879, 455: 277882, 456: 277884, 457: 277888, 458: 277891, 459: 277892, 460: 277894, 461: 277895, 462: 277898, 463: 277901, 464: 277903, 465: 277904, 466: 277908, 467: 277909, 468: 277911, 469: 277913, 470: 277915, 471: 277918, 472: 277919, 473: 277921, 474: 277922, 475: 277923, 476: 277928, 477: 277929, 478: 277930, 479: 277932, 480: 277934, 481: 277937, 482: 277938, 483: 277941, 484: 277945, 485: 277946, 486: 277947, 487: 277953, 488: 277954, 489: 277958, 490: 277959, 491: 277962, 492: 277964, 493: 277965, 494: 277969, 495: 277975, 496: 277978, 497: 277982, 498: 277984, 499: 277987, 500: 277988, 501: 277989, 502: 277992, 503: 277993, 504: 277996, 505: 277997, 506: 277998, 507: 278002, 508: 278004, 509: 278007, 510: 278008, 511: 278009, 512: 278012, 513: 278013, 514: 278014, 515: 278017, 516: 278019, 517: 278020, 518: 278021, 519: 278022, 520: 278023, 521: 278024, 522: 278026, 523: 278030, 524: 278034, 525: 278036, 526: 278043, 527: 278044, 528: 278048, 529: 278054, 530: 278056, 531: 278057, 532: 278058, 533: 278063, 534: 278064, 535: 278065, 536: 278066, 537: 278069, 538: 278070, 539: 278074, 540: 278075, 541: 278079, 542: 278085, 543: 278089, 544: 278092, 545: 278094, 546: 278095, 547: 278096, 548: 278097, 549: 278098, 550: 278100, 551: 278104, 552: 278106, 553: 278107, 554: 278110, 555: 278111, 556: 278112, 557: 278117, 558: 278119, 559: 278120, 560: 278122, 561: 278126, 562: 278130, 563: 278131, 564: 278137, 565: 278139, 566: 278140, 567: 278144, 568: 278148, 569: 278149, 570: 278153, 571: 278155, 572: 278156, 573: 278158, 574: 278159, 575: 278160, 576: 278161, 577: 278162, 578: 278167, 579: 278168, 580: 278172, 581: 278176, 582: 278177, 583: 278181, 584: 278183, 585: 278184, 586: 278185, 587: 278188, 588: 278193, 589: 278194, 590: 278197, 591: 278199, 592: 278200, 593: 278202, 594: 278203, 595: 278204, 596: 278206, 597: 278207, 598: 278209, 599: 278212, 600: 278213, 601: 278215, 602: 278216, 603: 278218, 604: 278220, 605: 278221, 606: 278224, 607: 278227, 608: 278229, 609: 278235, 610: 278237, 611: 278238, 612: 278242, 613: 278243, 614: 278244, 615: 278245, 616: 278246, 617: 278248, 618: 278249, 619: 278250, 620: 278251, 621: 278253, 622: 278254, 623: 278255, 624: 278257, 625: 278259, 626: 278260, 627: 278263, 628: 278264, 629: 278270, 630: 278274, 631: 278279, 632: 278280, 633: 278297, 634: 278300, 635: 278302, 636: 278307, 637: 278310, 638: 278311, 639: 278313, 640: 278314, 641: 278316, 642: 278319, 643: 278325, 644: 278328, 645: 278330, 646: 278332, 647: 278333, 648: 278334, 649: 278336, 650: 278342, 651: 278345, 652: 278346, 653: 278350, 654: 278355, 655: 278356, 656: 278357, 657: 278358, 658: 278361, 659: 278364, 660: 278365, 661: 278368, 662: 278373, 663: 278376, 664: 278377, 665: 278378, 666: 278388, 667: 278389, 668: 278390, 669: 278394, 670: 278396, 671: 278398, 672: 278400, 673: 278401, 674: 278407, 675: 278409, 676: 278411, 677: 278413, 678: 278418}\n"
     ]
    }
   ],
   "source": [
    "# mengubah User-ID menjadi list tanpa nilai yang sama\n",
    "user_ids = df_rating['User-ID'].unique().tolist()\n",
    "print('list userID: ', user_ids)\n",
    "\n",
    "# melakukan encoding User-ID\n",
    "user_to_user_encoded = {x: i for i, x in enumerate(user_ids)}\n",
    "print('encoded userID: ', user_to_user_encoded)\n",
    "\n",
    "# melakukan proses encoding angka ke User-ID\n",
    "user_encoded_to_user = {i: x for i, x in enumerate(user_ids)}\n",
    "print('encoded angka ke userID: ', user_encoded_to_user)"
   ]
  },
  {
   "cell_type": "markdown",
   "metadata": {},
   "source": [
    "Selanjutnya, lakukan hal yang sama pada 'ISBN'."
   ]
  },
  {
   "cell_type": "code",
   "execution_count": 35,
   "metadata": {},
   "outputs": [],
   "source": [
    "# mengubah ISBN menjadi list tanpa nilai yang sama\n",
    "isbn_id = df_rating['ISBN'].unique().tolist()\n",
    "\n",
    "# melakukan encoding ISBN\n",
    "isbn_to_isbn_encoded = {x: i for i, x in enumerate(isbn_id)}\n",
    "\n",
    "# melakukan proses encoding angka ke ISBN\n",
    "isbn_encoded_to_isbn = {i: x for i, x in enumerate(isbn_id)}"
   ]
  },
  {
   "cell_type": "markdown",
   "metadata": {},
   "source": [
    "Berikutnya, petakan User-ID dan ISBN ke dataframe yang berkaitan."
   ]
  },
  {
   "cell_type": "code",
   "execution_count": 36,
   "metadata": {},
   "outputs": [],
   "source": [
    "# Menonaktifkan peringatan SettingWithCopyWarning\n",
    "pd.options.mode.chained_assignment = None  # \"warn\" atau \"raise\" untuk menyalakannya kembali\n",
    "\n",
    "# Mapping User-ID ke dataframe user\n",
    "df_rating['user'] = df_rating['User-ID'].map(user_to_user_encoded)\n",
    "\n",
    "# Mapping ISBN ke dataframe judul buku\n",
    "df_rating['book_title'] = df_rating['ISBN'].map(isbn_to_isbn_encoded)"
   ]
  },
  {
   "cell_type": "markdown",
   "metadata": {},
   "source": [
    "Cek beberapa hal dalam data seperti jumlah user, jumlah judul buku, dan mengubah nilai rating menjadi float."
   ]
  },
  {
   "cell_type": "code",
   "execution_count": 37,
   "metadata": {},
   "outputs": [
    {
     "name": "stdout",
     "output_type": "stream",
     "text": [
      "679\n",
      "4688\n",
      "Number of User: 679, Number of Resto: 4688, Min Rating: 0.0, Max Rating: 10.0\n"
     ]
    }
   ],
   "source": [
    "# mendapatkan jumlah user\n",
    "num_users = len(user_to_user_encoded)\n",
    "print(num_users)\n",
    "\n",
    "# mendapatkan jumlah judul buku\n",
    "num_book_title = len(isbn_to_isbn_encoded)\n",
    "print(num_book_title)\n",
    "\n",
    "# mengubah rating menjadi nilai float\n",
    "df_rating['Book-Rating'] = df_rating['Book-Rating'].values.astype(np.float32)\n",
    "\n",
    "# nilai minimum rating\n",
    "min_rating = min(df_rating['Book-Rating'])\n",
    "\n",
    "# nilai maksimum rating\n",
    "max_rating = max(df_rating['Book-Rating'])\n",
    "\n",
    "print('Number of User: {}, Number of Resto: {}, Min Rating: {}, Max Rating: {}'.format(\n",
    "    num_users, num_book_title, min_rating, max_rating\n",
    "))"
   ]
  },
  {
   "cell_type": "markdown",
   "metadata": {},
   "source": [
    "Tahap persiapan data sudah selesai. Data sudah siap untuk digunakan nantinya pada proses pembagian menjadi data training dan data validasi pada proses pengembangan model dengan collaborative filtering."
   ]
  },
  {
   "cell_type": "markdown",
   "metadata": {},
   "source": [
    "# Modeling"
   ]
  },
  {
   "cell_type": "markdown",
   "metadata": {},
   "source": [
    "## Model Development dengan Content Based Filtering"
   ]
  },
  {
   "cell_type": "markdown",
   "metadata": {},
   "source": [
    "Pada tahap ini, akan dikembangkan model dengan teknik Content Based Filtering. Content Based Filtering adalah salah satu pendekatan dalam sistem rekomendasi yang menggunakan informasi atau \"konten\" dari item atau pengguna untuk membuat rekomendasi. Ide dasarnya adalah mencocokkan preferensi pengguna dengan karakteristik atau konten dari item yang telah dilihat atau disukai oleh pengguna sebelumnya. Misalkan, jika seorang pengguna menyukai atau pernah membeli buku dengan judul \"Introduction to Machine Learning\" dan buku tersebut memiliki fitur berupa nama penulis buku yaitu \"Alex Smola\", maka sistem akan mencari buku lain dengan fitur serupa dan merekomendasikannya dalam bentuk top-N recommendation kepada pengguna tersebut.\n",
    "\n",
    "Pada proses pengembangan model dilakukan pencarian representasi fitur penting dari setiap judul buku dengan TF-IDF (Term Frequency - Inverse Document Frequency) Vectorizer. TF-IDF vectorizer adalah alat yang digunakan untuk mengonversi dokumen teks menjadi representasi vektor berdasarkan nilai TF-ID setiap kata dalam dokumen tersebut. TF (Term Frequency) mengukur seberapa sering suatu kata muncul dalam suatu dokumen. Sedangkan, IDF mengukur seberapa unik atau jarang suatu kata muncul dalam seluruh koleksi dokumen. Vektor ini nanti digunakan untuk melakukan proses pencarian representasi fitur penting dari setiap judul buku berdasarkan nama penulis buku pada model yang dikembangkan dengan teknik Content Based Filtering. Pada proyek ini digunakan fungsi [tfidfvectorizer()](https://scikit-learn.org/stable/modules/generated/sklearn.feature_extraction.text.TfidfVectorizer.html) dari library Sklearn.\n",
    "\n",
    "Sementara itu, untuk menghitung derajat kesamaan (similarity degree) antar judul buku digunakan teknik cosine similarity. Metode ini digunakan untuk mengukur sejauh mana kesamaan antar dua vektor dalam ruang berdimensi banyak. Cosine similarity mengukur sudut kosinus antara dua vektor, dan semakin kecil sudutnya, semakin besar kesamaan antara vektor - vektor tersebut. Pada proyek ini digunakan fungsi [cosine_similarity](https://scikit-learn.org/stable/modules/generated/sklearn.metrics.pairwise.cosine_similarity.html) dari library Sklearn."
   ]
  },
  {
   "cell_type": "markdown",
   "metadata": {},
   "source": [
    "Sebelum memulai proses pengembangan model dengan Content based Filtering, dilakukan pengecekan kembali dataset dan assign dataframe dari tahap sebelumnya ke dalam variabel \"data\"."
   ]
  },
  {
   "cell_type": "code",
   "execution_count": 38,
   "metadata": {},
   "outputs": [
    {
     "data": {
      "text/html": [
       "<div>\n",
       "<style scoped>\n",
       "    .dataframe tbody tr th:only-of-type {\n",
       "        vertical-align: middle;\n",
       "    }\n",
       "\n",
       "    .dataframe tbody tr th {\n",
       "        vertical-align: top;\n",
       "    }\n",
       "\n",
       "    .dataframe thead th {\n",
       "        text-align: right;\n",
       "    }\n",
       "</style>\n",
       "<table border=\"1\" class=\"dataframe\">\n",
       "  <thead>\n",
       "    <tr style=\"text-align: right;\">\n",
       "      <th></th>\n",
       "      <th>isbn</th>\n",
       "      <th>book_title</th>\n",
       "      <th>book_author</th>\n",
       "      <th>year_of_publication</th>\n",
       "      <th>publisher</th>\n",
       "    </tr>\n",
       "  </thead>\n",
       "  <tbody>\n",
       "    <tr>\n",
       "      <th>16393</th>\n",
       "      <td>0140124373</td>\n",
       "      <td>Red Dwarf</td>\n",
       "      <td>Grant Naylor</td>\n",
       "      <td>2005.0</td>\n",
       "      <td>Penguin Books Ltd</td>\n",
       "    </tr>\n",
       "    <tr>\n",
       "      <th>6285</th>\n",
       "      <td>0060603402</td>\n",
       "      <td>The Mezuzah in the Madonna's Foot: Marranos an...</td>\n",
       "      <td>Trudi Alexy</td>\n",
       "      <td>1994.0</td>\n",
       "      <td>HarperSanFrancisco</td>\n",
       "    </tr>\n",
       "    <tr>\n",
       "      <th>18705</th>\n",
       "      <td>0140327770</td>\n",
       "      <td>Games.... (Puffin Books)</td>\n",
       "      <td>Robin Klein</td>\n",
       "      <td>1988.0</td>\n",
       "      <td>Puffin Books</td>\n",
       "    </tr>\n",
       "    <tr>\n",
       "      <th>5069</th>\n",
       "      <td>0060254637</td>\n",
       "      <td>In Grandpa's House</td>\n",
       "      <td>Philip Sendak</td>\n",
       "      <td>1985.0</td>\n",
       "      <td>HarperCollins Publishers</td>\n",
       "    </tr>\n",
       "    <tr>\n",
       "      <th>15529</th>\n",
       "      <td>0140065008</td>\n",
       "      <td>The Deptford Trilogy (King Penguin S.)</td>\n",
       "      <td>Robertson Davies</td>\n",
       "      <td>1983.0</td>\n",
       "      <td>Penguin Books Ltd</td>\n",
       "    </tr>\n",
       "  </tbody>\n",
       "</table>\n",
       "</div>"
      ],
      "text/plain": [
       "             isbn                                         book_title  \\\n",
       "16393  0140124373                                          Red Dwarf   \n",
       "6285   0060603402  The Mezuzah in the Madonna's Foot: Marranos an...   \n",
       "18705  0140327770                           Games.... (Puffin Books)   \n",
       "5069   0060254637                                 In Grandpa's House   \n",
       "15529  0140065008             The Deptford Trilogy (King Penguin S.)   \n",
       "\n",
       "            book_author  year_of_publication                 publisher  \n",
       "16393      Grant Naylor               2005.0         Penguin Books Ltd  \n",
       "6285        Trudi Alexy               1994.0        HarperSanFrancisco  \n",
       "18705       Robin Klein               1988.0              Puffin Books  \n",
       "5069      Philip Sendak               1985.0  HarperCollins Publishers  \n",
       "15529  Robertson Davies               1983.0         Penguin Books Ltd  "
      ]
     },
     "execution_count": 38,
     "metadata": {},
     "output_type": "execute_result"
    }
   ],
   "source": [
    "data = books_new\n",
    "data.sample(5)"
   ]
  },
  {
   "cell_type": "markdown",
   "metadata": {},
   "source": [
    "### TF-IDF Vectorizer"
   ]
  },
  {
   "cell_type": "markdown",
   "metadata": {},
   "source": [
    "Import fungsi tfidfvectorizer() dari libray Sklearn."
   ]
  },
  {
   "cell_type": "code",
   "execution_count": 39,
   "metadata": {},
   "outputs": [
    {
     "data": {
      "text/plain": [
       "array(['1988', 'aaron', 'aarons', ..., 'zweifel', 'zwinger', 'â¼nter'],\n",
       "      dtype=object)"
      ]
     },
     "execution_count": 39,
     "metadata": {},
     "output_type": "execute_result"
    }
   ],
   "source": [
    "from sklearn.feature_extraction.text import TfidfVectorizer\n",
    "\n",
    "# Inisialisasi TfidfVectorizer\n",
    "tf = TfidfVectorizer()\n",
    "\n",
    "# Melakukan perhitungan idf pada data book_author\n",
    "tf.fit(data['book_author'])\n",
    "\n",
    "# Mapping array dari fitur index integer ke fitur nama\n",
    "tf.get_feature_names_out()"
   ]
  },
  {
   "cell_type": "markdown",
   "metadata": {},
   "source": [
    "Selanjutnya, lakukan fit dan transformasi ke dalam bentuk matriks."
   ]
  },
  {
   "cell_type": "code",
   "execution_count": 40,
   "metadata": {},
   "outputs": [
    {
     "data": {
      "text/plain": [
       "(20000, 8746)"
      ]
     },
     "execution_count": 40,
     "metadata": {},
     "output_type": "execute_result"
    }
   ],
   "source": [
    "# Melakukan fit lalu ditransformasikan ke bentuk matrix\n",
    "tfidf_matrix = tf.fit_transform(data['book_author']) \n",
    "\n",
    "# Melihat ukuran matrix tfidf\n",
    "tfidf_matrix.shape"
   ]
  },
  {
   "cell_type": "markdown",
   "metadata": {},
   "source": [
    "Berdasarkan output, matrik memiliki ukuran (20000, 8746). Nilai 20000 merupakan ukuran data dan 8746 merupakan matriks nama penulis buku. Untuk menghasilkan vektor tf-idf dalam bentuk matriks, gunakan fungsi todense()."
   ]
  },
  {
   "cell_type": "code",
   "execution_count": 41,
   "metadata": {},
   "outputs": [
    {
     "data": {
      "text/plain": [
       "matrix([[0., 0., 0., ..., 0., 0., 0.],\n",
       "        [0., 0., 0., ..., 0., 0., 0.],\n",
       "        [0., 0., 0., ..., 0., 0., 0.],\n",
       "        ...,\n",
       "        [0., 0., 0., ..., 0., 0., 0.],\n",
       "        [0., 0., 0., ..., 0., 0., 0.],\n",
       "        [0., 0., 0., ..., 0., 0., 0.]])"
      ]
     },
     "execution_count": 41,
     "metadata": {},
     "output_type": "execute_result"
    }
   ],
   "source": [
    "# Mengubah vektor tf-idf dalam bentuk matriks dengan fungsi todense()\n",
    "tfidf_matrix.todense()"
   ]
  },
  {
   "cell_type": "markdown",
   "metadata": {},
   "source": [
    "Selanjutnya, mari lihat matriks tf-idf untuk beberapa judul buku dan nama penulis buku dalam bentuk dataframe, dimana kolom diisi dengan nama penulis buku sedangkan baris diisi dengan judul buku."
   ]
  },
  {
   "cell_type": "code",
   "execution_count": 42,
   "metadata": {},
   "outputs": [
    {
     "data": {
      "text/html": [
       "<div>\n",
       "<style scoped>\n",
       "    .dataframe tbody tr th:only-of-type {\n",
       "        vertical-align: middle;\n",
       "    }\n",
       "\n",
       "    .dataframe tbody tr th {\n",
       "        vertical-align: top;\n",
       "    }\n",
       "\n",
       "    .dataframe thead th {\n",
       "        text-align: right;\n",
       "    }\n",
       "</style>\n",
       "<table border=\"1\" class=\"dataframe\">\n",
       "  <thead>\n",
       "    <tr style=\"text-align: right;\">\n",
       "      <th></th>\n",
       "      <th>phyllis</th>\n",
       "      <th>kinnaman</th>\n",
       "      <th>eldon</th>\n",
       "      <th>sanes</th>\n",
       "      <th>aguilera</th>\n",
       "      <th>lippman</th>\n",
       "      <th>nersesian</th>\n",
       "      <th>carrie</th>\n",
       "      <th>brin</th>\n",
       "      <th>hesse</th>\n",
       "      <th>randy</th>\n",
       "      <th>deci</th>\n",
       "      <th>smolan</th>\n",
       "      <th>bigham</th>\n",
       "      <th>dugan</th>\n",
       "    </tr>\n",
       "    <tr>\n",
       "      <th>book_title</th>\n",
       "      <th></th>\n",
       "      <th></th>\n",
       "      <th></th>\n",
       "      <th></th>\n",
       "      <th></th>\n",
       "      <th></th>\n",
       "      <th></th>\n",
       "      <th></th>\n",
       "      <th></th>\n",
       "      <th></th>\n",
       "      <th></th>\n",
       "      <th></th>\n",
       "      <th></th>\n",
       "      <th></th>\n",
       "      <th></th>\n",
       "    </tr>\n",
       "  </thead>\n",
       "  <tbody>\n",
       "    <tr>\n",
       "      <th>The Movies of My Life</th>\n",
       "      <td>0.0</td>\n",
       "      <td>0.0</td>\n",
       "      <td>0.0</td>\n",
       "      <td>0.0</td>\n",
       "      <td>0.0</td>\n",
       "      <td>0.0</td>\n",
       "      <td>0.0</td>\n",
       "      <td>0.0</td>\n",
       "      <td>0.0</td>\n",
       "      <td>0.0</td>\n",
       "      <td>0.0</td>\n",
       "      <td>0.0</td>\n",
       "      <td>0.0</td>\n",
       "      <td>0.0</td>\n",
       "      <td>0.0</td>\n",
       "    </tr>\n",
       "    <tr>\n",
       "      <th>The Bronze Horseman: A Novel</th>\n",
       "      <td>0.0</td>\n",
       "      <td>0.0</td>\n",
       "      <td>0.0</td>\n",
       "      <td>0.0</td>\n",
       "      <td>0.0</td>\n",
       "      <td>0.0</td>\n",
       "      <td>0.0</td>\n",
       "      <td>0.0</td>\n",
       "      <td>0.0</td>\n",
       "      <td>0.0</td>\n",
       "      <td>0.0</td>\n",
       "      <td>0.0</td>\n",
       "      <td>0.0</td>\n",
       "      <td>0.0</td>\n",
       "      <td>0.0</td>\n",
       "    </tr>\n",
       "    <tr>\n",
       "      <th>The Princess Diaries, Volume IV: Princess in Waiting (Princess Diaries)</th>\n",
       "      <td>0.0</td>\n",
       "      <td>0.0</td>\n",
       "      <td>0.0</td>\n",
       "      <td>0.0</td>\n",
       "      <td>0.0</td>\n",
       "      <td>0.0</td>\n",
       "      <td>0.0</td>\n",
       "      <td>0.0</td>\n",
       "      <td>0.0</td>\n",
       "      <td>0.0</td>\n",
       "      <td>0.0</td>\n",
       "      <td>0.0</td>\n",
       "      <td>0.0</td>\n",
       "      <td>0.0</td>\n",
       "      <td>0.0</td>\n",
       "    </tr>\n",
       "    <tr>\n",
       "      <th>Predictive astrology: Understanding transits as the key to the future</th>\n",
       "      <td>0.0</td>\n",
       "      <td>0.0</td>\n",
       "      <td>0.0</td>\n",
       "      <td>0.0</td>\n",
       "      <td>0.0</td>\n",
       "      <td>0.0</td>\n",
       "      <td>0.0</td>\n",
       "      <td>0.0</td>\n",
       "      <td>0.0</td>\n",
       "      <td>0.0</td>\n",
       "      <td>0.0</td>\n",
       "      <td>0.0</td>\n",
       "      <td>0.0</td>\n",
       "      <td>0.0</td>\n",
       "      <td>0.0</td>\n",
       "    </tr>\n",
       "    <tr>\n",
       "      <th>Nice Girls Finish Last (Viking Mystery Suspense)</th>\n",
       "      <td>0.0</td>\n",
       "      <td>0.0</td>\n",
       "      <td>0.0</td>\n",
       "      <td>0.0</td>\n",
       "      <td>0.0</td>\n",
       "      <td>0.0</td>\n",
       "      <td>0.0</td>\n",
       "      <td>0.0</td>\n",
       "      <td>0.0</td>\n",
       "      <td>0.0</td>\n",
       "      <td>0.0</td>\n",
       "      <td>0.0</td>\n",
       "      <td>0.0</td>\n",
       "      <td>0.0</td>\n",
       "      <td>0.0</td>\n",
       "    </tr>\n",
       "    <tr>\n",
       "      <th>Send Wendell,</th>\n",
       "      <td>0.0</td>\n",
       "      <td>0.0</td>\n",
       "      <td>0.0</td>\n",
       "      <td>0.0</td>\n",
       "      <td>0.0</td>\n",
       "      <td>0.0</td>\n",
       "      <td>0.0</td>\n",
       "      <td>0.0</td>\n",
       "      <td>0.0</td>\n",
       "      <td>0.0</td>\n",
       "      <td>0.0</td>\n",
       "      <td>0.0</td>\n",
       "      <td>0.0</td>\n",
       "      <td>0.0</td>\n",
       "      <td>0.0</td>\n",
       "    </tr>\n",
       "    <tr>\n",
       "      <th>Secrets of Closing Sales (Business Classics (Hardcover Prentice Hall))</th>\n",
       "      <td>0.0</td>\n",
       "      <td>0.0</td>\n",
       "      <td>0.0</td>\n",
       "      <td>0.0</td>\n",
       "      <td>0.0</td>\n",
       "      <td>0.0</td>\n",
       "      <td>0.0</td>\n",
       "      <td>0.0</td>\n",
       "      <td>0.0</td>\n",
       "      <td>0.0</td>\n",
       "      <td>0.0</td>\n",
       "      <td>0.0</td>\n",
       "      <td>0.0</td>\n",
       "      <td>0.0</td>\n",
       "      <td>0.0</td>\n",
       "    </tr>\n",
       "    <tr>\n",
       "      <th>Laughable Loves</th>\n",
       "      <td>0.0</td>\n",
       "      <td>0.0</td>\n",
       "      <td>0.0</td>\n",
       "      <td>0.0</td>\n",
       "      <td>0.0</td>\n",
       "      <td>0.0</td>\n",
       "      <td>0.0</td>\n",
       "      <td>0.0</td>\n",
       "      <td>0.0</td>\n",
       "      <td>0.0</td>\n",
       "      <td>0.0</td>\n",
       "      <td>0.0</td>\n",
       "      <td>0.0</td>\n",
       "      <td>0.0</td>\n",
       "      <td>0.0</td>\n",
       "    </tr>\n",
       "    <tr>\n",
       "      <th>DICTIONARY OF ANGELS: INCLUDING THE FALLEN ANGELS</th>\n",
       "      <td>0.0</td>\n",
       "      <td>0.0</td>\n",
       "      <td>0.0</td>\n",
       "      <td>0.0</td>\n",
       "      <td>0.0</td>\n",
       "      <td>0.0</td>\n",
       "      <td>0.0</td>\n",
       "      <td>0.0</td>\n",
       "      <td>0.0</td>\n",
       "      <td>0.0</td>\n",
       "      <td>0.0</td>\n",
       "      <td>0.0</td>\n",
       "      <td>0.0</td>\n",
       "      <td>0.0</td>\n",
       "      <td>0.0</td>\n",
       "    </tr>\n",
       "    <tr>\n",
       "      <th>Lifescripts: What to Say to Get What You Want in 101 of Life's Toughest Situations (Lifescripts)</th>\n",
       "      <td>0.0</td>\n",
       "      <td>0.0</td>\n",
       "      <td>0.0</td>\n",
       "      <td>0.0</td>\n",
       "      <td>0.0</td>\n",
       "      <td>0.0</td>\n",
       "      <td>0.0</td>\n",
       "      <td>0.0</td>\n",
       "      <td>0.0</td>\n",
       "      <td>0.0</td>\n",
       "      <td>0.0</td>\n",
       "      <td>0.0</td>\n",
       "      <td>0.0</td>\n",
       "      <td>0.0</td>\n",
       "      <td>0.0</td>\n",
       "    </tr>\n",
       "  </tbody>\n",
       "</table>\n",
       "</div>"
      ],
      "text/plain": [
       "                                                    phyllis  kinnaman  eldon  \\\n",
       "book_title                                                                     \n",
       "The Movies of My Life                                   0.0       0.0    0.0   \n",
       "The Bronze Horseman: A Novel                            0.0       0.0    0.0   \n",
       "The Princess Diaries, Volume IV: Princess in Wa...      0.0       0.0    0.0   \n",
       "Predictive astrology: Understanding transits as...      0.0       0.0    0.0   \n",
       "Nice Girls Finish Last (Viking Mystery Suspense)        0.0       0.0    0.0   \n",
       "Send Wendell,                                           0.0       0.0    0.0   \n",
       "Secrets of Closing Sales (Business Classics (Ha...      0.0       0.0    0.0   \n",
       "Laughable Loves                                         0.0       0.0    0.0   \n",
       "DICTIONARY OF ANGELS: INCLUDING THE FALLEN ANGELS       0.0       0.0    0.0   \n",
       "Lifescripts: What to Say to Get What You Want i...      0.0       0.0    0.0   \n",
       "\n",
       "                                                    sanes  aguilera  lippman  \\\n",
       "book_title                                                                     \n",
       "The Movies of My Life                                 0.0       0.0      0.0   \n",
       "The Bronze Horseman: A Novel                          0.0       0.0      0.0   \n",
       "The Princess Diaries, Volume IV: Princess in Wa...    0.0       0.0      0.0   \n",
       "Predictive astrology: Understanding transits as...    0.0       0.0      0.0   \n",
       "Nice Girls Finish Last (Viking Mystery Suspense)      0.0       0.0      0.0   \n",
       "Send Wendell,                                         0.0       0.0      0.0   \n",
       "Secrets of Closing Sales (Business Classics (Ha...    0.0       0.0      0.0   \n",
       "Laughable Loves                                       0.0       0.0      0.0   \n",
       "DICTIONARY OF ANGELS: INCLUDING THE FALLEN ANGELS     0.0       0.0      0.0   \n",
       "Lifescripts: What to Say to Get What You Want i...    0.0       0.0      0.0   \n",
       "\n",
       "                                                    nersesian  carrie  brin  \\\n",
       "book_title                                                                    \n",
       "The Movies of My Life                                     0.0     0.0   0.0   \n",
       "The Bronze Horseman: A Novel                              0.0     0.0   0.0   \n",
       "The Princess Diaries, Volume IV: Princess in Wa...        0.0     0.0   0.0   \n",
       "Predictive astrology: Understanding transits as...        0.0     0.0   0.0   \n",
       "Nice Girls Finish Last (Viking Mystery Suspense)          0.0     0.0   0.0   \n",
       "Send Wendell,                                             0.0     0.0   0.0   \n",
       "Secrets of Closing Sales (Business Classics (Ha...        0.0     0.0   0.0   \n",
       "Laughable Loves                                           0.0     0.0   0.0   \n",
       "DICTIONARY OF ANGELS: INCLUDING THE FALLEN ANGELS         0.0     0.0   0.0   \n",
       "Lifescripts: What to Say to Get What You Want i...        0.0     0.0   0.0   \n",
       "\n",
       "                                                    hesse  randy  deci  \\\n",
       "book_title                                                               \n",
       "The Movies of My Life                                 0.0    0.0   0.0   \n",
       "The Bronze Horseman: A Novel                          0.0    0.0   0.0   \n",
       "The Princess Diaries, Volume IV: Princess in Wa...    0.0    0.0   0.0   \n",
       "Predictive astrology: Understanding transits as...    0.0    0.0   0.0   \n",
       "Nice Girls Finish Last (Viking Mystery Suspense)      0.0    0.0   0.0   \n",
       "Send Wendell,                                         0.0    0.0   0.0   \n",
       "Secrets of Closing Sales (Business Classics (Ha...    0.0    0.0   0.0   \n",
       "Laughable Loves                                       0.0    0.0   0.0   \n",
       "DICTIONARY OF ANGELS: INCLUDING THE FALLEN ANGELS     0.0    0.0   0.0   \n",
       "Lifescripts: What to Say to Get What You Want i...    0.0    0.0   0.0   \n",
       "\n",
       "                                                    smolan  bigham  dugan  \n",
       "book_title                                                                 \n",
       "The Movies of My Life                                  0.0     0.0    0.0  \n",
       "The Bronze Horseman: A Novel                           0.0     0.0    0.0  \n",
       "The Princess Diaries, Volume IV: Princess in Wa...     0.0     0.0    0.0  \n",
       "Predictive astrology: Understanding transits as...     0.0     0.0    0.0  \n",
       "Nice Girls Finish Last (Viking Mystery Suspense)       0.0     0.0    0.0  \n",
       "Send Wendell,                                          0.0     0.0    0.0  \n",
       "Secrets of Closing Sales (Business Classics (Ha...     0.0     0.0    0.0  \n",
       "Laughable Loves                                        0.0     0.0    0.0  \n",
       "DICTIONARY OF ANGELS: INCLUDING THE FALLEN ANGELS      0.0     0.0    0.0  \n",
       "Lifescripts: What to Say to Get What You Want i...     0.0     0.0    0.0  "
      ]
     },
     "execution_count": 42,
     "metadata": {},
     "output_type": "execute_result"
    }
   ],
   "source": [
    "pd.DataFrame(\n",
    "    tfidf_matrix.todense(),\n",
    "    columns=tf.get_feature_names_out(),\n",
    "    index=data.book_title\n",
    ").sample(15, axis=1).sample(10, axis=0)"
   ]
  },
  {
   "cell_type": "markdown",
   "metadata": {},
   "source": [
    "Output dari matriks tf-idf berhasil mengidentifikasi representasi fitur penting dari setiap kategori judul buku dengan fungsi tfidfvectorizer. Pada Kasus ini dataset hanya ditampilkan berupa sampel data sehingga tidak terlihat keseluruhan matriks. Dari 20000 data hanya dipilih sampel data acak yang terdiri dari 10 judul buku pada baris vertikal dan 15 nama penulis buku pada baris horizontal."
   ]
  },
  {
   "cell_type": "markdown",
   "metadata": {},
   "source": [
    "### Cosine Similarity"
   ]
  },
  {
   "cell_type": "markdown",
   "metadata": {},
   "source": [
    "Pada tahap sebelumnya, sudah berhasil mengidentifikasi korelasi antara judul buku dengan penulis buku. Sekarang, akan dilakukan proses menghitung derajat kesamaan (similarity degree) antar judul buku dengan teknik cosine similarity."
   ]
  },
  {
   "cell_type": "code",
   "execution_count": 43,
   "metadata": {},
   "outputs": [
    {
     "data": {
      "text/plain": [
       "array([[1., 0., 0., ..., 0., 0., 0.],\n",
       "       [0., 1., 0., ..., 0., 0., 0.],\n",
       "       [0., 0., 1., ..., 0., 0., 0.],\n",
       "       ...,\n",
       "       [0., 0., 0., ..., 1., 0., 0.],\n",
       "       [0., 0., 0., ..., 0., 1., 0.],\n",
       "       [0., 0., 0., ..., 0., 0., 1.]])"
      ]
     },
     "execution_count": 43,
     "metadata": {},
     "output_type": "execute_result"
    }
   ],
   "source": [
    "from sklearn.metrics.pairwise import cosine_similarity\n",
    "\n",
    "# Menghitung cosine similarity pada matrix tf-idf\n",
    "cosine_sim = cosine_similarity(tfidf_matrix)\n",
    "cosine_sim"
   ]
  },
  {
   "cell_type": "markdown",
   "metadata": {},
   "source": [
    "Pada tahap ini, dilakukan proses perhitungan cosine similarity dataframe tfidf_matrix yang diperoleh pada tahapan sebelumnya. Dengan fungsi cosine_similarity dari library sklearn, didapat nilai kesamaan (similarity) antar judul buku. Kode diatas menghasilkan keluaran berupa matriks kesamaan dalam bentuk array."
   ]
  },
  {
   "cell_type": "markdown",
   "metadata": {},
   "source": [
    "Selanjutnya, mari lihat matriks kesamaan setiap judul buku dengan menampilkan nama judul buku dalam 5 sampel kolom (axis = 1) dan 10 sampel baris (axis = 0)."
   ]
  },
  {
   "cell_type": "code",
   "execution_count": 44,
   "metadata": {},
   "outputs": [
    {
     "name": "stdout",
     "output_type": "stream",
     "text": [
      "Shape: (20000, 20000)\n"
     ]
    },
    {
     "data": {
      "text/html": [
       "<div>\n",
       "<style scoped>\n",
       "    .dataframe tbody tr th:only-of-type {\n",
       "        vertical-align: middle;\n",
       "    }\n",
       "\n",
       "    .dataframe tbody tr th {\n",
       "        vertical-align: top;\n",
       "    }\n",
       "\n",
       "    .dataframe thead th {\n",
       "        text-align: right;\n",
       "    }\n",
       "</style>\n",
       "<table border=\"1\" class=\"dataframe\">\n",
       "  <thead>\n",
       "    <tr style=\"text-align: right;\">\n",
       "      <th>book_title</th>\n",
       "      <th>American Taboo : A Murder in the Peace Corps</th>\n",
       "      <th>The Trouble With a Bad Fit: A Novel of Food, Fashion, and Mystery (Simona Griffo Mysteries (Hardcover))</th>\n",
       "      <th>Barnaby Rudge (Penguin English Library)</th>\n",
       "      <th>Where's Dan Quayle?</th>\n",
       "      <th>Twas the Night Before: A Love Story</th>\n",
       "    </tr>\n",
       "    <tr>\n",
       "      <th>book_title</th>\n",
       "      <th></th>\n",
       "      <th></th>\n",
       "      <th></th>\n",
       "      <th></th>\n",
       "      <th></th>\n",
       "    </tr>\n",
       "  </thead>\n",
       "  <tbody>\n",
       "    <tr>\n",
       "      <th>How to Cook Everything: Simple Recipes for Great Food</th>\n",
       "      <td>0.0</td>\n",
       "      <td>0.0</td>\n",
       "      <td>0.0</td>\n",
       "      <td>0.0</td>\n",
       "      <td>0.0</td>\n",
       "    </tr>\n",
       "    <tr>\n",
       "      <th>What the Moon is Like (Let's-Read-and-Find-Out Science, Stage 2)</th>\n",
       "      <td>0.0</td>\n",
       "      <td>0.0</td>\n",
       "      <td>0.0</td>\n",
       "      <td>0.0</td>\n",
       "      <td>0.0</td>\n",
       "    </tr>\n",
       "    <tr>\n",
       "      <th>The Book of Changes: Stories</th>\n",
       "      <td>0.0</td>\n",
       "      <td>0.0</td>\n",
       "      <td>0.0</td>\n",
       "      <td>0.0</td>\n",
       "      <td>0.0</td>\n",
       "    </tr>\n",
       "    <tr>\n",
       "      <th>O'Leary Series: Microsoft Windows 98</th>\n",
       "      <td>0.0</td>\n",
       "      <td>0.0</td>\n",
       "      <td>0.0</td>\n",
       "      <td>0.0</td>\n",
       "      <td>0.0</td>\n",
       "    </tr>\n",
       "    <tr>\n",
       "      <th>Flight Lessons</th>\n",
       "      <td>0.0</td>\n",
       "      <td>0.0</td>\n",
       "      <td>0.0</td>\n",
       "      <td>0.0</td>\n",
       "      <td>0.0</td>\n",
       "    </tr>\n",
       "    <tr>\n",
       "      <th>Burning Houses</th>\n",
       "      <td>0.0</td>\n",
       "      <td>0.0</td>\n",
       "      <td>0.0</td>\n",
       "      <td>0.0</td>\n",
       "      <td>0.0</td>\n",
       "    </tr>\n",
       "    <tr>\n",
       "      <th>To Race a Dream</th>\n",
       "      <td>0.0</td>\n",
       "      <td>0.0</td>\n",
       "      <td>0.0</td>\n",
       "      <td>0.0</td>\n",
       "      <td>0.0</td>\n",
       "    </tr>\n",
       "    <tr>\n",
       "      <th>King, Warrior, Magician, Lover : Rediscovering the Archetypes of the Mature Masculine</th>\n",
       "      <td>0.0</td>\n",
       "      <td>0.0</td>\n",
       "      <td>0.0</td>\n",
       "      <td>0.0</td>\n",
       "      <td>0.0</td>\n",
       "    </tr>\n",
       "    <tr>\n",
       "      <th>In Search of Excellence: Lessons from America's Best-Run Companies</th>\n",
       "      <td>0.0</td>\n",
       "      <td>0.0</td>\n",
       "      <td>0.0</td>\n",
       "      <td>0.0</td>\n",
       "      <td>0.0</td>\n",
       "    </tr>\n",
       "    <tr>\n",
       "      <th>Introduction to drawing</th>\n",
       "      <td>0.0</td>\n",
       "      <td>0.0</td>\n",
       "      <td>0.0</td>\n",
       "      <td>0.0</td>\n",
       "      <td>0.0</td>\n",
       "    </tr>\n",
       "  </tbody>\n",
       "</table>\n",
       "</div>"
      ],
      "text/plain": [
       "book_title                                          American Taboo : A Murder in the Peace Corps  \\\n",
       "book_title                                                                                         \n",
       "How to Cook Everything: Simple Recipes for Grea...                                           0.0   \n",
       "What the Moon is Like (Let's-Read-and-Find-Out ...                                           0.0   \n",
       "The Book of Changes: Stories                                                                 0.0   \n",
       "O'Leary Series: Microsoft Windows 98                                                         0.0   \n",
       "Flight Lessons                                                                               0.0   \n",
       "Burning Houses                                                                               0.0   \n",
       "To Race a Dream                                                                              0.0   \n",
       "King, Warrior, Magician, Lover : Rediscovering ...                                           0.0   \n",
       "In Search of Excellence: Lessons from America's...                                           0.0   \n",
       "Introduction to drawing                                                                      0.0   \n",
       "\n",
       "book_title                                          The Trouble With a Bad Fit: A Novel of Food, Fashion, and Mystery (Simona Griffo Mysteries (Hardcover))  \\\n",
       "book_title                                                                                                                                                    \n",
       "How to Cook Everything: Simple Recipes for Grea...                                                0.0                                                         \n",
       "What the Moon is Like (Let's-Read-and-Find-Out ...                                                0.0                                                         \n",
       "The Book of Changes: Stories                                                                      0.0                                                         \n",
       "O'Leary Series: Microsoft Windows 98                                                              0.0                                                         \n",
       "Flight Lessons                                                                                    0.0                                                         \n",
       "Burning Houses                                                                                    0.0                                                         \n",
       "To Race a Dream                                                                                   0.0                                                         \n",
       "King, Warrior, Magician, Lover : Rediscovering ...                                                0.0                                                         \n",
       "In Search of Excellence: Lessons from America's...                                                0.0                                                         \n",
       "Introduction to drawing                                                                           0.0                                                         \n",
       "\n",
       "book_title                                          Barnaby Rudge (Penguin English Library)  \\\n",
       "book_title                                                                                    \n",
       "How to Cook Everything: Simple Recipes for Grea...                                      0.0   \n",
       "What the Moon is Like (Let's-Read-and-Find-Out ...                                      0.0   \n",
       "The Book of Changes: Stories                                                            0.0   \n",
       "O'Leary Series: Microsoft Windows 98                                                    0.0   \n",
       "Flight Lessons                                                                          0.0   \n",
       "Burning Houses                                                                          0.0   \n",
       "To Race a Dream                                                                         0.0   \n",
       "King, Warrior, Magician, Lover : Rediscovering ...                                      0.0   \n",
       "In Search of Excellence: Lessons from America's...                                      0.0   \n",
       "Introduction to drawing                                                                 0.0   \n",
       "\n",
       "book_title                                          Where's Dan Quayle?  \\\n",
       "book_title                                                                \n",
       "How to Cook Everything: Simple Recipes for Grea...                  0.0   \n",
       "What the Moon is Like (Let's-Read-and-Find-Out ...                  0.0   \n",
       "The Book of Changes: Stories                                        0.0   \n",
       "O'Leary Series: Microsoft Windows 98                                0.0   \n",
       "Flight Lessons                                                      0.0   \n",
       "Burning Houses                                                      0.0   \n",
       "To Race a Dream                                                     0.0   \n",
       "King, Warrior, Magician, Lover : Rediscovering ...                  0.0   \n",
       "In Search of Excellence: Lessons from America's...                  0.0   \n",
       "Introduction to drawing                                             0.0   \n",
       "\n",
       "book_title                                          Twas the Night Before: A Love Story  \n",
       "book_title                                                                               \n",
       "How to Cook Everything: Simple Recipes for Grea...                                  0.0  \n",
       "What the Moon is Like (Let's-Read-and-Find-Out ...                                  0.0  \n",
       "The Book of Changes: Stories                                                        0.0  \n",
       "O'Leary Series: Microsoft Windows 98                                                0.0  \n",
       "Flight Lessons                                                                      0.0  \n",
       "Burning Houses                                                                      0.0  \n",
       "To Race a Dream                                                                     0.0  \n",
       "King, Warrior, Magician, Lover : Rediscovering ...                                  0.0  \n",
       "In Search of Excellence: Lessons from America's...                                  0.0  \n",
       "Introduction to drawing                                                             0.0  "
      ]
     },
     "execution_count": 44,
     "metadata": {},
     "output_type": "execute_result"
    }
   ],
   "source": [
    "# Membuat dataframe dari variabel cosine_sim dengan baris dan kolom berupa nama judul buku\n",
    "cosine_sim_df = pd.DataFrame(cosine_sim, index=data['book_title'], columns=data['book_title'])\n",
    "print('Shape:', cosine_sim_df.shape)\n",
    "\n",
    "# Melihat similarity matrix pada setiap judul buku\n",
    "cosine_sim_df.sample(5, axis=1).sample(10, axis=0)"
   ]
  },
  {
   "cell_type": "markdown",
   "metadata": {},
   "source": [
    "Dengan cosine similarity, berhasil mengidentifikasi kesamaan antara satu judul buku dengan judul buku lainnya. Shape (20000, 20000) merupakan ukuran matriks similarity dari data. Berdasarkan data yang ada, matriks diatas sebenarnya berukuran 20000 judul buku x 20000 judul buku (masing - masing dalam sumbu X dan Y). Artinya, telah berhasil mengidentifikasi tingkat kesamaan pada 20000 judul buku. Tapi disini tidak bisa menampilkan semua datanya. Oleh karena itu, hanya dipilih 10 judul buku pada baris vertikal dan 5 judul buku pada baris horizontal. Dengan data kesamaan (similarity) judul buku yang diperoleh sebelumnya, akan dilakukan proses rekomendasi daftar judul buku yang mirip dengan judul buku yang sebelumnya pernah dibeli atau dibaca oleh pengguna."
   ]
  },
  {
   "cell_type": "markdown",
   "metadata": {},
   "source": [
    "### Mendapatkan Rekomendasi"
   ]
  },
  {
   "cell_type": "markdown",
   "metadata": {},
   "source": [
    "Pada tahap ini, akan dibuatkan sebuah fungsi bernama book_recommendations dengan beberapa parameter sebagai berikut:\n",
    "- book_title : nama judul buku (index kemiripan dataframe).\n",
    "- similarity_data : Dataframe mengenai similarity yang telah didefinisikan sebelumnya.\n",
    "- items : Nama dan fitur yang digunakan untuk mendefinisikan kemiripan, dalam hal ini adalah 'book_title' dan 'book_author'.\n",
    "- k : Jumlah top-N recommendation yang diberikan oleh sistem rekomendasi. Secara default, k bernilai 5.\n",
    "\n",
    "Sebelum menulis kode, perlu diingat bahwa definisi dari sistem rekomendasi yang menyatakan bahwa keluaran sistem adalah berupa top-N recommendation. Oleh karena itu, perlu diberikan sejumlah rekomendasi judul buku pada pengguna yang diatur pada parameter k."
   ]
  },
  {
   "cell_type": "code",
   "execution_count": 45,
   "metadata": {},
   "outputs": [],
   "source": [
    "def book_recommendation(book_title, similarity_data=cosine_sim_df, items=data[['book_title', 'book_author']], k=5):\n",
    "    # Mengambil data dengan menggunakan argpartition untuk melakukan partisi secara tidak langsung sepanjang sumbu yang diberikan    \n",
    "    # Dataframe diubah menjadi numpy\n",
    "    # Range(start, stop, step)\n",
    "    index = similarity_data.loc[:,book_title].to_numpy().argpartition(range(-1, -k, -1))\n",
    "\n",
    "    # Mengambil data dengan similarity terbesar dari index yang ada\n",
    "    closest = similarity_data.columns[index[-1:-(k+2):-1]]\n",
    "    \n",
    "    # Drop book_title agar nama buku yang dicari tidak muncul dalam daftar rekomendasi\n",
    "    closest = closest.drop(book_title, errors='ignore')\n",
    "\n",
    "    return pd.DataFrame(closest).merge(items).head(k)"
   ]
  },
  {
   "cell_type": "markdown",
   "metadata": {},
   "source": [
    "Perhatikan, dengan menggunakan argpartition dilakukan proses pengambilan sejumlah nilai k tertinggi dari similarity data (dalam kasus ini: dataframe cosine_sim_df). Selanjutnya, mengambil data dari bobot (tingkat kesamaan) tertinggi ke terendah. Data ini dimasukkan ke dalam variabel closest. Berikutnya, perlu dihapus book_title yang dicari agar tidak muncul dalam daftar rekomendasi. Dalam kasus ini, akan dicari judul buku yang mirip dengan judul buku yang nanti di input dalam book_title, sehingga perlu drop book_title agar tidak muncul dalam daftar rekomendasi yang diberikan nanti."
   ]
  },
  {
   "cell_type": "markdown",
   "metadata": {},
   "source": [
    "Gunakan fungsi book_recommendation tersebut untuk membuat rekomendasi 5 buku teratas yang direkomendasikan oleh sistem."
   ]
  },
  {
   "cell_type": "code",
   "execution_count": 46,
   "metadata": {},
   "outputs": [
    {
     "data": {
      "text/html": [
       "<div>\n",
       "<style scoped>\n",
       "    .dataframe tbody tr th:only-of-type {\n",
       "        vertical-align: middle;\n",
       "    }\n",
       "\n",
       "    .dataframe tbody tr th {\n",
       "        vertical-align: top;\n",
       "    }\n",
       "\n",
       "    .dataframe thead th {\n",
       "        text-align: right;\n",
       "    }\n",
       "</style>\n",
       "<table border=\"1\" class=\"dataframe\">\n",
       "  <thead>\n",
       "    <tr style=\"text-align: right;\">\n",
       "      <th></th>\n",
       "      <th>isbn</th>\n",
       "      <th>book_title</th>\n",
       "      <th>book_author</th>\n",
       "      <th>year_of_publication</th>\n",
       "      <th>publisher</th>\n",
       "    </tr>\n",
       "  </thead>\n",
       "  <tbody>\n",
       "    <tr>\n",
       "      <th>6448</th>\n",
       "      <td>0060654775</td>\n",
       "      <td>Entering the Silence : Becoming a Monk and a W...</td>\n",
       "      <td>Thomas Merton</td>\n",
       "      <td>1997.0</td>\n",
       "      <td>HarperSanFrancisco</td>\n",
       "    </tr>\n",
       "  </tbody>\n",
       "</table>\n",
       "</div>"
      ],
      "text/plain": [
       "            isbn                                         book_title  \\\n",
       "6448  0060654775  Entering the Silence : Becoming a Monk and a W...   \n",
       "\n",
       "        book_author  year_of_publication           publisher  \n",
       "6448  Thomas Merton               1997.0  HarperSanFrancisco  "
      ]
     },
     "execution_count": 46,
     "metadata": {},
     "output_type": "execute_result"
    }
   ],
   "source": [
    "book_title_test = \"Entering the Silence : Becoming a Monk and a Writer (The Journals of Thomas Merton, V. 2)\" # contoh judul buku\n",
    "\n",
    "data[data.book_title.eq(book_title_test)]"
   ]
  },
  {
   "cell_type": "markdown",
   "metadata": {},
   "source": [
    "Perhatikan, bahwa judul buku 'Entering the Silence : Becoming a Monk and a Writer (The Journals of Thomas Merton, V. 2)' ditulis oleh 'Thomas Merton'. Sekarang, gunakan fungsi book_recommendation untuk mendapatkan rekomendasi berdasarkan judul buku tersebut."
   ]
  },
  {
   "cell_type": "code",
   "execution_count": 47,
   "metadata": {},
   "outputs": [
    {
     "data": {
      "text/html": [
       "<div>\n",
       "<style scoped>\n",
       "    .dataframe tbody tr th:only-of-type {\n",
       "        vertical-align: middle;\n",
       "    }\n",
       "\n",
       "    .dataframe tbody tr th {\n",
       "        vertical-align: top;\n",
       "    }\n",
       "\n",
       "    .dataframe thead th {\n",
       "        text-align: right;\n",
       "    }\n",
       "</style>\n",
       "<table border=\"1\" class=\"dataframe\">\n",
       "  <thead>\n",
       "    <tr style=\"text-align: right;\">\n",
       "      <th></th>\n",
       "      <th>book_title</th>\n",
       "      <th>book_author</th>\n",
       "    </tr>\n",
       "  </thead>\n",
       "  <tbody>\n",
       "    <tr>\n",
       "      <th>0</th>\n",
       "      <td>Dancing in the Water of Life: Seeking Peace in...</td>\n",
       "      <td>Thomas Merton</td>\n",
       "    </tr>\n",
       "    <tr>\n",
       "      <th>1</th>\n",
       "      <td>Dialogues with Silence: Prayers and Drawings</td>\n",
       "      <td>Thomas Merton</td>\n",
       "    </tr>\n",
       "    <tr>\n",
       "      <th>2</th>\n",
       "      <td>The Other Side of the Mountain: The End of the...</td>\n",
       "      <td>Thomas Merton</td>\n",
       "    </tr>\n",
       "    <tr>\n",
       "      <th>3</th>\n",
       "      <td>Run to the Mountain : The Story of a VocationT...</td>\n",
       "      <td>Thomas Merton</td>\n",
       "    </tr>\n",
       "    <tr>\n",
       "      <th>4</th>\n",
       "      <td>Turning Toward the World: The Pivotal Years (T...</td>\n",
       "      <td>Thomas Merton</td>\n",
       "    </tr>\n",
       "  </tbody>\n",
       "</table>\n",
       "</div>"
      ],
      "text/plain": [
       "                                          book_title    book_author\n",
       "0  Dancing in the Water of Life: Seeking Peace in...  Thomas Merton\n",
       "1       Dialogues with Silence: Prayers and Drawings  Thomas Merton\n",
       "2  The Other Side of the Mountain: The End of the...  Thomas Merton\n",
       "3  Run to the Mountain : The Story of a VocationT...  Thomas Merton\n",
       "4  Turning Toward the World: The Pivotal Years (T...  Thomas Merton"
      ]
     },
     "execution_count": 47,
     "metadata": {},
     "output_type": "execute_result"
    }
   ],
   "source": [
    "# Mendapatkan rekomendasi judul buku yang mirip\n",
    "book_recommendation(book_title_test)"
   ]
  },
  {
   "cell_type": "markdown",
   "metadata": {},
   "source": [
    "Berdasarkan output diatas, sistem berhasil merekomendasikan 5 judul buku teratas dengan kategori nama penulis (book_author) yaitu 'Thomas Merton'."
   ]
  },
  {
   "cell_type": "markdown",
   "metadata": {},
   "source": [
    "## Model Development dengan Collaborative Filtering"
   ]
  },
  {
   "cell_type": "markdown",
   "metadata": {},
   "source": [
    "Pada proses pengembangan model kali ini, akan diterapkan teknik collaborative filtering untuk membuat sistem rekomendasi. Teknik ini membutuhkan data rating dari pengguna atau pembaca. Collaborative filtering adalah salah satu metode dalam sistem rekomendasi yang memprediksi preferensi atau minat pengguna terhadap item berdasarkan informasi dari pengguna lain (kolaborasi). Ide dasar dibalik collaborative filtering adalah bahwa pengguna yang memiliki preferensi serupa dalam masa lalu cenderung memiliki preferensi serupa untuk item di masa depan. Pada proyek ini akan dibuat model collaborative filtering berdasarkan kesamaan antar pengguna (User-Based Collaborative Filtering).\n",
    "\n",
    "Pengembangan model dengan Collaborative filtering pada proyek ini akan menghasilkan rekomendasi sejumlah judul buku yang sesuai dengan preferensi pengguna berdasarkan rating yang telah diberikan sebelumnya. Dari data rating pengguna, akan diidentifikasi nama - nama judul buku yang mirip dan belum pernah dibaca atau dibeli oleh pengguna untuk direkomendasikan. \n",
    "\n",
    "Setelah tahapan persiapan data untuk pengembangan model ini sudah dilakukan di bagian data preparation sebelumnya, langkah selanjutnya dilakukan pembagian data untuk data training dan data validasi, kemudian dilanjutkan dengan proses training model. Pada proses training, model menghitung skor kecocokan antara pengguna dan judul buku dengan teknik embedding. Pertama, dilakukan proses embedding terhadap data pengguna dan judul buku. Selanjutnya, lakukan operasi perkalian dot product antara embedding pengguna dan judul buku. Selain itu, ditambahkan bias untuk setiap pengguna dan judul buku. Skor kecocokan ditetapkan dalam skala [0,1] dengan fungsi aktivasi sigmoid. Model dibuatkan class RecommenderNet dengan [keras Model class](https://keras.io/api/models/model/). Kode class RecommenderNet ini terinspirasi dari tutorial dalam situs [keras](https://keras.io/examples/structured_data/collaborative_filtering_movielens/) dengan beberapa adaptasi layer yang menyesuaikan dengan kasus yang sedang dikerjakan. Model akan menggunakan Binary Crossentropy untuk menghitung loss function, Adam (Adaptive Moment Estimation) sebagai optimizer, dan Root Mean Squared Error (RMSE) sebagai metrik evaluasi."
   ]
  },
  {
   "cell_type": "markdown",
   "metadata": {},
   "source": [
    "### Membagi data untuk Training dan Validasi"
   ]
  },
  {
   "cell_type": "markdown",
   "metadata": {},
   "source": [
    "Sebelum dilakukan pembagian data menjadi training dan validasi, data terlebih dahulu diacak agar distribusinya menjadi random."
   ]
  },
  {
   "cell_type": "code",
   "execution_count": 54,
   "metadata": {},
   "outputs": [
    {
     "data": {
      "text/html": [
       "<div>\n",
       "<style scoped>\n",
       "    .dataframe tbody tr th:only-of-type {\n",
       "        vertical-align: middle;\n",
       "    }\n",
       "\n",
       "    .dataframe tbody tr th {\n",
       "        vertical-align: top;\n",
       "    }\n",
       "\n",
       "    .dataframe thead th {\n",
       "        text-align: right;\n",
       "    }\n",
       "</style>\n",
       "<table border=\"1\" class=\"dataframe\">\n",
       "  <thead>\n",
       "    <tr style=\"text-align: right;\">\n",
       "      <th></th>\n",
       "      <th>User-ID</th>\n",
       "      <th>ISBN</th>\n",
       "      <th>Book-Rating</th>\n",
       "      <th>user</th>\n",
       "      <th>book_title</th>\n",
       "    </tr>\n",
       "  </thead>\n",
       "  <tbody>\n",
       "    <tr>\n",
       "      <th>1501</th>\n",
       "      <td>277427</td>\n",
       "      <td>0201000822</td>\n",
       "      <td>10.0</td>\n",
       "      <td>255</td>\n",
       "      <td>1470</td>\n",
       "    </tr>\n",
       "    <tr>\n",
       "      <th>2586</th>\n",
       "      <td>277639</td>\n",
       "      <td>0453008739</td>\n",
       "      <td>0.0</td>\n",
       "      <td>335</td>\n",
       "      <td>2487</td>\n",
       "    </tr>\n",
       "    <tr>\n",
       "      <th>2653</th>\n",
       "      <td>277639</td>\n",
       "      <td>0671509144</td>\n",
       "      <td>0.0</td>\n",
       "      <td>335</td>\n",
       "      <td>2550</td>\n",
       "    </tr>\n",
       "    <tr>\n",
       "      <th>1055</th>\n",
       "      <td>277187</td>\n",
       "      <td>0553281089</td>\n",
       "      <td>0.0</td>\n",
       "      <td>170</td>\n",
       "      <td>1041</td>\n",
       "    </tr>\n",
       "    <tr>\n",
       "      <th>705</th>\n",
       "      <td>276964</td>\n",
       "      <td>0886774829</td>\n",
       "      <td>8.0</td>\n",
       "      <td>96</td>\n",
       "      <td>696</td>\n",
       "    </tr>\n",
       "    <tr>\n",
       "      <th>...</th>\n",
       "      <td>...</td>\n",
       "      <td>...</td>\n",
       "      <td>...</td>\n",
       "      <td>...</td>\n",
       "      <td>...</td>\n",
       "    </tr>\n",
       "    <tr>\n",
       "      <th>4426</th>\n",
       "      <td>278418</td>\n",
       "      <td>0061091464</td>\n",
       "      <td>0.0</td>\n",
       "      <td>678</td>\n",
       "      <td>4127</td>\n",
       "    </tr>\n",
       "    <tr>\n",
       "      <th>466</th>\n",
       "      <td>276925</td>\n",
       "      <td>3775713328</td>\n",
       "      <td>0.0</td>\n",
       "      <td>80</td>\n",
       "      <td>461</td>\n",
       "    </tr>\n",
       "    <tr>\n",
       "      <th>3092</th>\n",
       "      <td>277928</td>\n",
       "      <td>0937247065</td>\n",
       "      <td>7.0</td>\n",
       "      <td>476</td>\n",
       "      <td>2935</td>\n",
       "    </tr>\n",
       "    <tr>\n",
       "      <th>3772</th>\n",
       "      <td>278159</td>\n",
       "      <td>0385318073</td>\n",
       "      <td>5.0</td>\n",
       "      <td>574</td>\n",
       "      <td>3549</td>\n",
       "    </tr>\n",
       "    <tr>\n",
       "      <th>860</th>\n",
       "      <td>277087</td>\n",
       "      <td>8472230082</td>\n",
       "      <td>5.0</td>\n",
       "      <td>139</td>\n",
       "      <td>850</td>\n",
       "    </tr>\n",
       "  </tbody>\n",
       "</table>\n",
       "<p>5000 rows × 5 columns</p>\n",
       "</div>"
      ],
      "text/plain": [
       "      User-ID        ISBN  Book-Rating  user  book_title\n",
       "1501   277427  0201000822         10.0   255        1470\n",
       "2586   277639  0453008739          0.0   335        2487\n",
       "2653   277639  0671509144          0.0   335        2550\n",
       "1055   277187  0553281089          0.0   170        1041\n",
       "705    276964  0886774829          8.0    96         696\n",
       "...       ...         ...          ...   ...         ...\n",
       "4426   278418  0061091464          0.0   678        4127\n",
       "466    276925  3775713328          0.0    80         461\n",
       "3092   277928  0937247065          7.0   476        2935\n",
       "3772   278159  0385318073          5.0   574        3549\n",
       "860    277087  8472230082          5.0   139         850\n",
       "\n",
       "[5000 rows x 5 columns]"
      ]
     },
     "execution_count": 54,
     "metadata": {},
     "output_type": "execute_result"
    }
   ],
   "source": [
    "# mengacak dataset\n",
    "df_rating = df_rating.sample(frac=1, random_state=42)\n",
    "df_rating"
   ]
  },
  {
   "cell_type": "markdown",
   "metadata": {},
   "source": [
    "Selanjutnya, dilakukan proses pembagian data menjadi data train dan validasi dengan komposisi 90:10. Namun sebelumnya, perlu dipetakan (mapping) data user dan judul buku menjadi satu value terlebih dahulu. Kemudian, dibuat rating dalam skala 0 sampai 1 agar mudah dalam melakukan proses training."
   ]
  },
  {
   "cell_type": "code",
   "execution_count": 55,
   "metadata": {},
   "outputs": [
    {
     "name": "stdout",
     "output_type": "stream",
     "text": [
      "[[ 255 1470]\n",
      " [ 335 2487]\n",
      " [ 335 2550]\n",
      " ...\n",
      " [ 476 2935]\n",
      " [ 574 3549]\n",
      " [ 139  850]] [1.  0.  0.  ... 0.7 0.5 0.5]\n"
     ]
    }
   ],
   "source": [
    "# membuat variabel x untuk mencocokkan data user dan judul buku menjadi satu value\n",
    "x = df_rating[['user', 'book_title']].values\n",
    "\n",
    "# membuat variabel y untuk membuat rating dari hasil\n",
    "y = df_rating['Book-Rating'].apply(lambda x: (x - min_rating) / (max_rating - min_rating)).values\n",
    "\n",
    "# membagi menjadi 80% data train dan 10% data validasi\n",
    "\n",
    "train_indices = int(0.9 * df_rating.shape[0])\n",
    "x_train, x_val, y_train, y_val = (\n",
    "    x[:train_indices],\n",
    "    x[train_indices:],\n",
    "    y[:train_indices],\n",
    "    y[train_indices:]\n",
    ")\n",
    "\n",
    "print(x, y)"
   ]
  },
  {
   "cell_type": "markdown",
   "metadata": {},
   "source": [
    "Sampai proses ini, data sudah siap untuk dimasukkan ke dalam pengembangan model dengan collaborative filtering."
   ]
  },
  {
   "cell_type": "markdown",
   "metadata": {},
   "source": [
    "### Proses training"
   ]
  },
  {
   "cell_type": "markdown",
   "metadata": {},
   "source": [
    "Pada proses training model, model akan menghitung skor kecocokan antara pengguna dan judul buku dengan teknik embedding. Pertama, dilakukan proses embedding terhadap data user dan book_title. Selanjutnya, lakukan operasi perkalian dot product antara embedding user dan book_title. Selain itu, juga dapat menambahkan bias untuk setiap user dan book_title. Skor kecocokan ditetapkan dalam skala [0, 1] dengan fungsi aktivasi sigmoid.\n",
    "\n",
    "Di sini, Model dibuatkan class RecommenderNet dengan [keras Model class](https://keras.io/api/models/model/). Kode class RecommenderNet ini terinspirasi dari tutorial dalam situs [keras](https://keras.io/examples/structured_data/collaborative_filtering_movielens/) dengan beberapa adaptasi layer yang menyesuaikan dengan kasus yang sedang dikerjakan."
   ]
  },
  {
   "cell_type": "code",
   "execution_count": 59,
   "metadata": {},
   "outputs": [],
   "source": [
    "class RecommenderNet(tf.keras.Model):\n",
    "\n",
    "    # inisialisasi fungsi\n",
    "    def __init__(self, num_users, num_book_title, embedding_size, **kwargs):\n",
    "        super(RecommenderNet, self).__init__(**kwargs)\n",
    "        self.num_users = num_users\n",
    "        self.num_book_title = num_book_title\n",
    "        self.embedding_size = embedding_size\n",
    "        self.user_embedding = layers.Embedding( # layer embedding user\n",
    "            num_users,\n",
    "            embedding_size,\n",
    "            embeddings_initializer = 'he_normal',\n",
    "            embeddings_regularizer = keras.regularizers.l2(1e-6)\n",
    "        )\n",
    "        self.user_bias = layers.Embedding(num_users, 1) # layer embedding user bias\n",
    "\n",
    "        self.book_title_embedding = layers.Embedding( # layer embedding book_title\n",
    "            num_book_title,\n",
    "            embedding_size,\n",
    "            embeddings_initializer = 'he_normal',\n",
    "            embeddings_regularizer = keras.regularizers.l2(1e-6)\n",
    "        )\n",
    "        self.book_title_bias = layers.Embedding(num_book_title, 1) # layer embedding book_title bias\n",
    "    \n",
    "    def call(self, inputs):\n",
    "        user_vector = self.user_embedding(inputs[:, 0]) # memanggil layer embedding 1\n",
    "        user_bias = self.user_bias(inputs[:, 0]) # memanggil layer embedding 2\n",
    "        book_title_vector = self.book_title_embedding(inputs[:, 1]) # memanggil layer embedding 3\n",
    "        book_title_bias = self.book_title_bias(inputs[:, 1]) # memanggil layer embedding 4\n",
    "\n",
    "        dot_user_book_title = tf.tensordot(user_vector, book_title_vector, 2) # perkalian dot product\n",
    "\n",
    "        x = dot_user_book_title + user_bias + book_title_bias\n",
    "\n",
    "        return tf.nn.sigmoid(x) # activation sigmoid"
   ]
  },
  {
   "cell_type": "markdown",
   "metadata": {},
   "source": [
    "Selanjutnya, lakukan proses compile terhadap model."
   ]
  },
  {
   "cell_type": "code",
   "execution_count": 60,
   "metadata": {},
   "outputs": [],
   "source": [
    "model = RecommenderNet(num_users, num_book_title, 50) # inisialisasi model\n",
    "\n",
    "# model compile\n",
    "model.compile(\n",
    "    loss = tf.keras.losses.BinaryCrossentropy(),\n",
    "    optimizer = keras.optimizers.Adam(learning_rate=0.001),\n",
    "    metrics = [tf.keras.metrics.RootMeanSquaredError()]\n",
    ")"
   ]
  },
  {
   "cell_type": "markdown",
   "metadata": {},
   "source": [
    "Model ini menggunakan Binary Crossentropy untuk menghitung loss function, Adam (Adaptive Moment Estimation) sebagai optimizer, dan root mean squared error (RMSE) sebagai metrics evaluation."
   ]
  },
  {
   "cell_type": "code",
   "execution_count": 61,
   "metadata": {},
   "outputs": [
    {
     "name": "stdout",
     "output_type": "stream",
     "text": [
      "Epoch 1/50\n",
      "282/282 [==============================] - 5s 10ms/step - loss: 0.6791 - root_mean_squared_error: 0.4292 - val_loss: 0.6644 - val_root_mean_squared_error: 0.4199\n",
      "Epoch 2/50\n",
      "282/282 [==============================] - 3s 9ms/step - loss: 0.5847 - root_mean_squared_error: 0.3734 - val_loss: 0.6458 - val_root_mean_squared_error: 0.4088\n",
      "Epoch 3/50\n",
      "282/282 [==============================] - 3s 10ms/step - loss: 0.5623 - root_mean_squared_error: 0.3623 - val_loss: 0.6341 - val_root_mean_squared_error: 0.4019\n",
      "Epoch 4/50\n",
      "282/282 [==============================] - 3s 9ms/step - loss: 0.5469 - root_mean_squared_error: 0.3526 - val_loss: 0.6208 - val_root_mean_squared_error: 0.3940\n",
      "Epoch 5/50\n",
      "282/282 [==============================] - 3s 9ms/step - loss: 0.5358 - root_mean_squared_error: 0.3469 - val_loss: 0.6095 - val_root_mean_squared_error: 0.3873\n",
      "Epoch 6/50\n",
      "282/282 [==============================] - 3s 9ms/step - loss: 0.5178 - root_mean_squared_error: 0.3358 - val_loss: 0.5995 - val_root_mean_squared_error: 0.3816\n",
      "Epoch 7/50\n",
      "282/282 [==============================] - 3s 9ms/step - loss: 0.5097 - root_mean_squared_error: 0.3315 - val_loss: 0.5906 - val_root_mean_squared_error: 0.3765\n",
      "Epoch 8/50\n",
      "282/282 [==============================] - 3s 9ms/step - loss: 0.4954 - root_mean_squared_error: 0.3228 - val_loss: 0.5826 - val_root_mean_squared_error: 0.3721\n",
      "Epoch 9/50\n",
      "282/282 [==============================] - 3s 9ms/step - loss: 0.4881 - root_mean_squared_error: 0.3178 - val_loss: 0.5750 - val_root_mean_squared_error: 0.3680\n",
      "Epoch 10/50\n",
      "282/282 [==============================] - 3s 9ms/step - loss: 0.4793 - root_mean_squared_error: 0.3132 - val_loss: 0.5690 - val_root_mean_squared_error: 0.3649\n",
      "Epoch 11/50\n",
      "282/282 [==============================] - 3s 9ms/step - loss: 0.4706 - root_mean_squared_error: 0.3074 - val_loss: 0.5636 - val_root_mean_squared_error: 0.3622\n",
      "Epoch 12/50\n",
      "282/282 [==============================] - 3s 10ms/step - loss: 0.4627 - root_mean_squared_error: 0.3028 - val_loss: 0.5588 - val_root_mean_squared_error: 0.3597\n",
      "Epoch 13/50\n",
      "282/282 [==============================] - 3s 10ms/step - loss: 0.4550 - root_mean_squared_error: 0.2980 - val_loss: 0.5547 - val_root_mean_squared_error: 0.3577\n",
      "Epoch 14/50\n",
      "282/282 [==============================] - 3s 9ms/step - loss: 0.4491 - root_mean_squared_error: 0.2939 - val_loss: 0.5512 - val_root_mean_squared_error: 0.3560\n",
      "Epoch 15/50\n",
      "282/282 [==============================] - 3s 10ms/step - loss: 0.4441 - root_mean_squared_error: 0.2909 - val_loss: 0.5480 - val_root_mean_squared_error: 0.3544\n",
      "Epoch 16/50\n",
      "282/282 [==============================] - 3s 10ms/step - loss: 0.4350 - root_mean_squared_error: 0.2853 - val_loss: 0.5454 - val_root_mean_squared_error: 0.3533\n",
      "Epoch 17/50\n",
      "282/282 [==============================] - 3s 9ms/step - loss: 0.4272 - root_mean_squared_error: 0.2795 - val_loss: 0.5430 - val_root_mean_squared_error: 0.3521\n",
      "Epoch 18/50\n",
      "282/282 [==============================] - 3s 10ms/step - loss: 0.4237 - root_mean_squared_error: 0.2771 - val_loss: 0.5409 - val_root_mean_squared_error: 0.3511\n",
      "Epoch 19/50\n",
      "282/282 [==============================] - 3s 9ms/step - loss: 0.4192 - root_mean_squared_error: 0.2742 - val_loss: 0.5389 - val_root_mean_squared_error: 0.3502\n",
      "Epoch 20/50\n",
      "282/282 [==============================] - 3s 10ms/step - loss: 0.4153 - root_mean_squared_error: 0.2716 - val_loss: 0.5372 - val_root_mean_squared_error: 0.3493\n",
      "Epoch 21/50\n",
      "282/282 [==============================] - 3s 9ms/step - loss: 0.4090 - root_mean_squared_error: 0.2673 - val_loss: 0.5359 - val_root_mean_squared_error: 0.3487\n",
      "Epoch 22/50\n",
      "282/282 [==============================] - 3s 9ms/step - loss: 0.4054 - root_mean_squared_error: 0.2647 - val_loss: 0.5348 - val_root_mean_squared_error: 0.3482\n",
      "Epoch 23/50\n",
      "282/282 [==============================] - 3s 9ms/step - loss: 0.4002 - root_mean_squared_error: 0.2608 - val_loss: 0.5336 - val_root_mean_squared_error: 0.3476\n",
      "Epoch 24/50\n",
      "282/282 [==============================] - 3s 9ms/step - loss: 0.3969 - root_mean_squared_error: 0.2593 - val_loss: 0.5328 - val_root_mean_squared_error: 0.3473\n",
      "Epoch 25/50\n",
      "282/282 [==============================] - 3s 9ms/step - loss: 0.3938 - root_mean_squared_error: 0.2564 - val_loss: 0.5318 - val_root_mean_squared_error: 0.3468\n",
      "Epoch 26/50\n",
      "282/282 [==============================] - 3s 9ms/step - loss: 0.3909 - root_mean_squared_error: 0.2539 - val_loss: 0.5310 - val_root_mean_squared_error: 0.3464\n",
      "Epoch 27/50\n",
      "282/282 [==============================] - 3s 10ms/step - loss: 0.3860 - root_mean_squared_error: 0.2505 - val_loss: 0.5298 - val_root_mean_squared_error: 0.3457\n",
      "Epoch 28/50\n",
      "282/282 [==============================] - 3s 10ms/step - loss: 0.3813 - root_mean_squared_error: 0.2475 - val_loss: 0.5292 - val_root_mean_squared_error: 0.3454\n",
      "Epoch 29/50\n",
      "282/282 [==============================] - 3s 10ms/step - loss: 0.3801 - root_mean_squared_error: 0.2461 - val_loss: 0.5285 - val_root_mean_squared_error: 0.3450\n",
      "Epoch 30/50\n",
      "282/282 [==============================] - 3s 9ms/step - loss: 0.3760 - root_mean_squared_error: 0.2429 - val_loss: 0.5284 - val_root_mean_squared_error: 0.3449\n",
      "Epoch 31/50\n",
      "282/282 [==============================] - 3s 9ms/step - loss: 0.3718 - root_mean_squared_error: 0.2398 - val_loss: 0.5281 - val_root_mean_squared_error: 0.3448\n",
      "Epoch 32/50\n",
      "282/282 [==============================] - 3s 9ms/step - loss: 0.3702 - root_mean_squared_error: 0.2389 - val_loss: 0.5276 - val_root_mean_squared_error: 0.3445\n",
      "Epoch 33/50\n",
      "282/282 [==============================] - 3s 9ms/step - loss: 0.3676 - root_mean_squared_error: 0.2361 - val_loss: 0.5272 - val_root_mean_squared_error: 0.3442\n",
      "Epoch 34/50\n",
      "282/282 [==============================] - 3s 10ms/step - loss: 0.3645 - root_mean_squared_error: 0.2341 - val_loss: 0.5267 - val_root_mean_squared_error: 0.3439\n",
      "Epoch 35/50\n",
      "282/282 [==============================] - 3s 9ms/step - loss: 0.3602 - root_mean_squared_error: 0.2313 - val_loss: 0.5263 - val_root_mean_squared_error: 0.3437\n",
      "Epoch 36/50\n",
      "282/282 [==============================] - 3s 9ms/step - loss: 0.3589 - root_mean_squared_error: 0.2299 - val_loss: 0.5259 - val_root_mean_squared_error: 0.3435\n",
      "Epoch 37/50\n",
      "282/282 [==============================] - 3s 9ms/step - loss: 0.3546 - root_mean_squared_error: 0.2263 - val_loss: 0.5258 - val_root_mean_squared_error: 0.3434\n",
      "Epoch 38/50\n",
      "282/282 [==============================] - 3s 9ms/step - loss: 0.3537 - root_mean_squared_error: 0.2256 - val_loss: 0.5256 - val_root_mean_squared_error: 0.3432\n",
      "Epoch 39/50\n",
      "282/282 [==============================] - 3s 9ms/step - loss: 0.3505 - root_mean_squared_error: 0.2229 - val_loss: 0.5254 - val_root_mean_squared_error: 0.3431\n",
      "Epoch 40/50\n",
      "282/282 [==============================] - 3s 9ms/step - loss: 0.3471 - root_mean_squared_error: 0.2196 - val_loss: 0.5251 - val_root_mean_squared_error: 0.3429\n",
      "Epoch 41/50\n",
      "282/282 [==============================] - 3s 9ms/step - loss: 0.3452 - root_mean_squared_error: 0.2189 - val_loss: 0.5251 - val_root_mean_squared_error: 0.3429\n",
      "Epoch 42/50\n",
      "282/282 [==============================] - 3s 10ms/step - loss: 0.3437 - root_mean_squared_error: 0.2168 - val_loss: 0.5251 - val_root_mean_squared_error: 0.3428\n",
      "Epoch 43/50\n",
      "282/282 [==============================] - 3s 9ms/step - loss: 0.3404 - root_mean_squared_error: 0.2146 - val_loss: 0.5249 - val_root_mean_squared_error: 0.3427\n",
      "Epoch 44/50\n",
      "282/282 [==============================] - 3s 10ms/step - loss: 0.3368 - root_mean_squared_error: 0.2119 - val_loss: 0.5249 - val_root_mean_squared_error: 0.3426\n",
      "Epoch 45/50\n",
      "282/282 [==============================] - 3s 9ms/step - loss: 0.3350 - root_mean_squared_error: 0.2098 - val_loss: 0.5247 - val_root_mean_squared_error: 0.3425\n",
      "Epoch 46/50\n",
      "282/282 [==============================] - 3s 9ms/step - loss: 0.3321 - root_mean_squared_error: 0.2072 - val_loss: 0.5248 - val_root_mean_squared_error: 0.3425\n",
      "Epoch 47/50\n",
      "282/282 [==============================] - 3s 9ms/step - loss: 0.3313 - root_mean_squared_error: 0.2063 - val_loss: 0.5244 - val_root_mean_squared_error: 0.3422\n",
      "Epoch 48/50\n",
      "282/282 [==============================] - 3s 9ms/step - loss: 0.3276 - root_mean_squared_error: 0.2033 - val_loss: 0.5247 - val_root_mean_squared_error: 0.3424\n",
      "Epoch 49/50\n",
      "282/282 [==============================] - 3s 9ms/step - loss: 0.3262 - root_mean_squared_error: 0.2029 - val_loss: 0.5246 - val_root_mean_squared_error: 0.3423\n",
      "Epoch 50/50\n",
      "282/282 [==============================] - 3s 9ms/step - loss: 0.3248 - root_mean_squared_error: 0.2007 - val_loss: 0.5249 - val_root_mean_squared_error: 0.3424\n"
     ]
    }
   ],
   "source": [
    "# memulai training\n",
    "\n",
    "history = model.fit(\n",
    "    x = x_train,\n",
    "    y = y_train,\n",
    "    batch_size = 16,\n",
    "    epochs = 50,\n",
    "    validation_data = (x_val, y_val)\n",
    ")"
   ]
  },
  {
   "cell_type": "markdown",
   "metadata": {},
   "source": [
    "Berdasarkan hasil proses training model, didapat hasil yang cukup memuaskan dan model konvergen pada epochs sekitar 50. Dari proses ini, diperoleh nilai Root Mean Squared Error (RMSE) sebesar sekitar 0.2007 dan RMSE pada data validasi sebesar 0.3424. Nilai ini cukup bagus untuk sistem rekomendasi. Untuk mengetahui hasil dari pengembangan model, langkah selanjutnya adalah mendapatkan rekomendasi judul buku berdasarkan model yang dikembangan."
   ]
  },
  {
   "cell_type": "markdown",
   "metadata": {},
   "source": [
    "### Mendapatkan Rekomendasi Judul Buku"
   ]
  },
  {
   "cell_type": "markdown",
   "metadata": {},
   "source": [
    "Untuk mendapatkan rekomendasi judul buku, pertama diambil sampel user secara acak dan definisikan variabel `book_not_readed` yang merupakan daftar buku yang belum pernah dibaca atau dibeli oleh pengguna. variabel `book_not_readed` inilah yang akan menjadi judul buku yang direkomendasikan oleh sistem.\n",
    "\n",
    "Variabel `book_bot_visited` diperoleh dengan menggunakan operator bitwise (~) pada variabel `book_readed_by_user`."
   ]
  },
  {
   "cell_type": "code",
   "execution_count": 68,
   "metadata": {},
   "outputs": [],
   "source": [
    "book_df = books_new\n",
    "\n",
    "# mengambil sampel user\n",
    "user_id = df_rating['User-ID'].sample(1).iloc[0]\n",
    "book_readed_by_user = df_rating[df_rating['User-ID'] == user_id]\n",
    "\n",
    "# membuat variabel book_not_readed\n",
    "book_not_readed = book_df[~book_df['isbn'].isin(book_readed_by_user['ISBN'].values)]['isbn']\n",
    "book_not_readed = list(\n",
    "    set(book_not_readed)\n",
    "    .intersection(set(isbn_to_isbn_encoded.keys()))\n",
    ")\n",
    "\n",
    "book_not_readed = [[isbn_to_isbn_encoded.get(x)] for x in book_not_readed]\n",
    "user_encoder = user_to_user_encoded.get(user_id)\n",
    "user_book_array = np.hstack(\n",
    "    ([[user_encoder]] * len(book_not_readed), book_not_readed)\n",
    ")"
   ]
  },
  {
   "cell_type": "markdown",
   "metadata": {},
   "source": [
    "Selanjutnya, untuk memperoleh rekomendasi judul buku, gunakan fungsi model.predict() dari library Keras."
   ]
  },
  {
   "cell_type": "code",
   "execution_count": 69,
   "metadata": {},
   "outputs": [
    {
     "name": "stdout",
     "output_type": "stream",
     "text": [
      "13/14 [==========================>...] - ETA: 0s"
     ]
    },
    {
     "name": "stdout",
     "output_type": "stream",
     "text": [
      "14/14 [==============================] - 0s 4ms/step\n",
      "Showing recommendation for users: 276798\n",
      "===========================\n",
      "Book with high ratings from user\n",
      "--------------------------------\n",
      "                  Book Title      Book Author\n",
      "0  My \\Star Trek\\\" Memories\"  William Shatner\n",
      "--------------------------------\n",
      "Top 10 books recommendation\n",
      "--------------------------------\n"
     ]
    },
    {
     "data": {
      "text/html": [
       "<div>\n",
       "<style scoped>\n",
       "    .dataframe tbody tr th:only-of-type {\n",
       "        vertical-align: middle;\n",
       "    }\n",
       "\n",
       "    .dataframe tbody tr th {\n",
       "        vertical-align: top;\n",
       "    }\n",
       "\n",
       "    .dataframe thead th {\n",
       "        text-align: right;\n",
       "    }\n",
       "</style>\n",
       "<table border=\"1\" class=\"dataframe\">\n",
       "  <thead>\n",
       "    <tr style=\"text-align: right;\">\n",
       "      <th></th>\n",
       "      <th>Book Title</th>\n",
       "      <th>Book Author</th>\n",
       "    </tr>\n",
       "  </thead>\n",
       "  <tbody>\n",
       "    <tr>\n",
       "      <th>0</th>\n",
       "      <td>Silence of the Sirens</td>\n",
       "      <td>Adel Garcia Morales</td>\n",
       "    </tr>\n",
       "    <tr>\n",
       "      <th>1</th>\n",
       "      <td>Politically Correct Bedtime Stories: Modern Ta...</td>\n",
       "      <td>James Finn Garner</td>\n",
       "    </tr>\n",
       "    <tr>\n",
       "      <th>2</th>\n",
       "      <td>On Writing Well, 25th Anniversary : The Classi...</td>\n",
       "      <td>William Zinsser</td>\n",
       "    </tr>\n",
       "    <tr>\n",
       "      <th>3</th>\n",
       "      <td>Get Shorty</td>\n",
       "      <td>Elmore Leonard</td>\n",
       "    </tr>\n",
       "    <tr>\n",
       "      <th>4</th>\n",
       "      <td>One for the Money (Stephanie Plum Novels (Pape...</td>\n",
       "      <td>Janet Evanovich</td>\n",
       "    </tr>\n",
       "    <tr>\n",
       "      <th>5</th>\n",
       "      <td>Junky</td>\n",
       "      <td>William Burroughs</td>\n",
       "    </tr>\n",
       "    <tr>\n",
       "      <th>6</th>\n",
       "      <td>The Oranging of America and Other Stories</td>\n",
       "      <td>Max Apple</td>\n",
       "    </tr>\n",
       "    <tr>\n",
       "      <th>7</th>\n",
       "      <td>Joke</td>\n",
       "      <td>Milan Kundera</td>\n",
       "    </tr>\n",
       "    <tr>\n",
       "      <th>8</th>\n",
       "      <td>Tales of Mystery and Terror (Puffin Classics)</td>\n",
       "      <td>Edgar Allan Poe</td>\n",
       "    </tr>\n",
       "    <tr>\n",
       "      <th>9</th>\n",
       "      <td>War and Peace (Penguin Classics)</td>\n",
       "      <td>Leo Tolstoy</td>\n",
       "    </tr>\n",
       "  </tbody>\n",
       "</table>\n",
       "</div>"
      ],
      "text/plain": [
       "                                          Book Title          Book Author\n",
       "0                              Silence of the Sirens  Adel Garcia Morales\n",
       "1  Politically Correct Bedtime Stories: Modern Ta...    James Finn Garner\n",
       "2  On Writing Well, 25th Anniversary : The Classi...      William Zinsser\n",
       "3                                         Get Shorty       Elmore Leonard\n",
       "4  One for the Money (Stephanie Plum Novels (Pape...      Janet Evanovich\n",
       "5                                              Junky    William Burroughs\n",
       "6          The Oranging of America and Other Stories            Max Apple\n",
       "7                                               Joke        Milan Kundera\n",
       "8      Tales of Mystery and Terror (Puffin Classics)      Edgar Allan Poe\n",
       "9                   War and Peace (Penguin Classics)          Leo Tolstoy"
      ]
     },
     "execution_count": 69,
     "metadata": {},
     "output_type": "execute_result"
    }
   ],
   "source": [
    "ratings_model = model.predict(user_book_array).flatten()\n",
    "\n",
    "top_ratings_indices = ratings_model.argsort()[-10:][::-1]\n",
    "\n",
    "recommended_book_ids = [\n",
    "    isbn_encoded_to_isbn.get(book_not_readed[x][0]) for x in top_ratings_indices\n",
    "]\n",
    "\n",
    "top_book_user = (\n",
    "    book_readed_by_user.sort_values(\n",
    "        by='Book-Rating',\n",
    "        ascending=False\n",
    "    )\n",
    "    .head(10)['ISBN'].values\n",
    ")\n",
    "\n",
    "book_df_rows = book_df[book_df['isbn'].isin(top_book_user)]\n",
    "\n",
    "# Menampilkan rekomendasi buku dalam bentuk DataFrame\n",
    "book_df_rows_data = []\n",
    "for row in book_df_rows.itertuples():\n",
    "    book_df_rows_data.append([row.book_title, row.book_author])\n",
    "\n",
    "recommended_book = book_df[book_df['isbn'].isin(recommended_book_ids)]\n",
    "\n",
    "recommended_book_data = []\n",
    "for row in recommended_book.itertuples():\n",
    "    recommended_book_data.append([row.book_title, row.book_author])\n",
    "\n",
    "# Membuat DataFrame untuk output\n",
    "output_columns = ['Book Title', 'Book Author']\n",
    "df_book_readed_by_user = pd.DataFrame(book_df_rows_data, columns=output_columns)\n",
    "df_recommended_books = pd.DataFrame(recommended_book_data, columns=output_columns)\n",
    "\n",
    "# Menampilkan hasil rekomendasi dalam bentuk DataFrame\n",
    "print(\"Showing recommendation for users: {}\".format(user_id))\n",
    "print(\"===\" * 9)\n",
    "print(\"Book with high ratings from user\")\n",
    "print(\"----\" * 8)\n",
    "print(df_book_readed_by_user)\n",
    "print(\"----\" * 8)\n",
    "print(\"Top 10 books recommendation\")\n",
    "print(\"----\" * 8)\n",
    "df_recommended_books\n"
   ]
  },
  {
   "cell_type": "markdown",
   "metadata": {},
   "source": [
    "Berdasarkan output diatas, telah berhasil dibuat rekomendasi kepada user. Hasil di atas adalah rekomendasi untuk user dengan id 276798. Dari output tersebut, dapat dibandingkan antara 'Book with high ratings from user' dan 'Top 10 books recomendation' untuk user.\n",
    "\n",
    "Perhatikan, beberapa judul buku rekomendasi menyediakan nama penulis bukunya juga yang sesuai dengan rating user. Diperoleh 10 top rekomendasi buku yang disertai juga dengan nama penulisnya untuk user tersebut serta terdapat 1 judul buku yang merupakan buku dengan rating tertinggi dari user."
   ]
  },
  {
   "cell_type": "markdown",
   "metadata": {},
   "source": [
    "# Evaluation"
   ]
  },
  {
   "cell_type": "markdown",
   "metadata": {},
   "source": [
    "## Evaluasi Model dengan Content Based Filtering"
   ]
  },
  {
   "cell_type": "markdown",
   "metadata": {},
   "source": [
    "Metrik yang digunakan untuk evaluasi model dengan content based filtering di proyek kali ini adalah Precision, Recall, dan F1-Score. Metrik ini adalah metrik yang umum digunakan untuk mengukur kinerja model. Precision merupakan rasio item yang revelan yang dihasilkan oleh model terhadap total item yang dihasilkan. Recall merupakan rasio item relevan yang dihasilkan oleh model terhadap total item yang seharusnya direkomendasikan. Sedangkan, F1 Score adalah gabungan dari Precision dan Recall, memberikan nilai tunggal yang mengukur keseimbangan antara keduanya.\n",
    "\n",
    "Sebelum menghitung nilai evaluasi metrik menggunakan precision, recall dan f1 score, diperlukan sebuah data yang terdiri dari label sebenarnya dan digunakan untuk menilai hasil prediksi model, data ini disebut sebagai data **ground truth**. Data ground truth pada proyek ini dibuat menggunakan hasil derajat kesamaan yang dihitung menggunakan teknik cosine similarity, dimana setiap baris dan kolom mewakili judul buku, dan nilai di setiap sel pada dataframe mewakili label. Angka 1 untuk similar, dan angka 0 untuk tidak similar. Perlu ditetapkan juga sebuah nilai ambang batas atau threshold untuk memutuskan apakah nilai similarity antara dua item harus dianggap 1 (similar) atau 0 (tidak similar)."
   ]
  },
  {
   "cell_type": "code",
   "execution_count": 70,
   "metadata": {},
   "outputs": [],
   "source": [
    "# Menentukan threshold untuk mengkategorikan similarity sebagai 1 atau 0\n",
    "threshold = 0.5\n",
    "\n",
    "# Membuat ground truth data dengan asumsi threshold\n",
    "ground_truth = np.where(cosine_sim >= threshold, 1, 0)\n",
    "\n",
    "# Menampilkan beberapa nilai pada ground truth matrix\n",
    "ground_truth_df = pd.DataFrame(ground_truth, index=data['book_title'], columns=data['book_title']).sample(5, axis=1).sample(10, axis=0)"
   ]
  },
  {
   "cell_type": "markdown",
   "metadata": {},
   "source": [
    "Pada kode diatas, ditetapkan nilai ambang batas atau threshold sebesar 0.5. Nilai threshold ini disesuaikan dengan kebutuhan dan karakteristik setelah melihat hasil rekomendasi sebelumnya. Lalu dibuatkan matriks ground truth menggunakan fungsi np.where() dari NumPy. Matriks ini akan memiliki nilai 1 di posisi di mana nilai cosine similarity antara dua item lebih besar atau sama dengan nilai threshold yang ditetapkan, dan nilai 0 di posisi di mana nilai similarity di bawah threshold. Kemudian, setelah matriks dibuat, hasilnya disajikan dalam bentuk dataframe. Baris dan kolom Dataframe ground truth ini diindeks menggunakan judul buku dari data. Berikut tampilan dari dataframe ground truth."
   ]
  },
  {
   "cell_type": "code",
   "execution_count": 71,
   "metadata": {},
   "outputs": [
    {
     "data": {
      "text/html": [
       "<div>\n",
       "<style scoped>\n",
       "    .dataframe tbody tr th:only-of-type {\n",
       "        vertical-align: middle;\n",
       "    }\n",
       "\n",
       "    .dataframe tbody tr th {\n",
       "        vertical-align: top;\n",
       "    }\n",
       "\n",
       "    .dataframe thead th {\n",
       "        text-align: right;\n",
       "    }\n",
       "</style>\n",
       "<table border=\"1\" class=\"dataframe\">\n",
       "  <thead>\n",
       "    <tr style=\"text-align: right;\">\n",
       "      <th>book_title</th>\n",
       "      <th>Just Xml</th>\n",
       "      <th>Stonehenge Decoded</th>\n",
       "      <th>Fear of Falling: The Inner Life of the Middle Class</th>\n",
       "      <th>Evolutionary biology</th>\n",
       "      <th>Jaguar Woman and the Wisdom of the Butterfly Tree</th>\n",
       "    </tr>\n",
       "    <tr>\n",
       "      <th>book_title</th>\n",
       "      <th></th>\n",
       "      <th></th>\n",
       "      <th></th>\n",
       "      <th></th>\n",
       "      <th></th>\n",
       "    </tr>\n",
       "  </thead>\n",
       "  <tbody>\n",
       "    <tr>\n",
       "      <th>The Road to Oz (Puffin Classics)</th>\n",
       "      <td>0</td>\n",
       "      <td>0</td>\n",
       "      <td>0</td>\n",
       "      <td>0</td>\n",
       "      <td>0</td>\n",
       "    </tr>\n",
       "    <tr>\n",
       "      <th>Roofworld</th>\n",
       "      <td>0</td>\n",
       "      <td>0</td>\n",
       "      <td>0</td>\n",
       "      <td>0</td>\n",
       "      <td>0</td>\n",
       "    </tr>\n",
       "    <tr>\n",
       "      <th>How to be a very important person (McGraw-Hill paperbacks)</th>\n",
       "      <td>0</td>\n",
       "      <td>0</td>\n",
       "      <td>0</td>\n",
       "      <td>0</td>\n",
       "      <td>0</td>\n",
       "    </tr>\n",
       "    <tr>\n",
       "      <th>Hot Type: Our Most Celebrated Writers Introduce the Next Word in Contemporary American Fiction (Collier Fiction)</th>\n",
       "      <td>0</td>\n",
       "      <td>0</td>\n",
       "      <td>0</td>\n",
       "      <td>0</td>\n",
       "      <td>0</td>\n",
       "    </tr>\n",
       "    <tr>\n",
       "      <th>The Jungle (The Penguin American Library)</th>\n",
       "      <td>0</td>\n",
       "      <td>0</td>\n",
       "      <td>0</td>\n",
       "      <td>0</td>\n",
       "      <td>0</td>\n",
       "    </tr>\n",
       "    <tr>\n",
       "      <th>The Adoption Resource Book</th>\n",
       "      <td>0</td>\n",
       "      <td>0</td>\n",
       "      <td>0</td>\n",
       "      <td>0</td>\n",
       "      <td>0</td>\n",
       "    </tr>\n",
       "    <tr>\n",
       "      <th>Safe Place</th>\n",
       "      <td>0</td>\n",
       "      <td>0</td>\n",
       "      <td>0</td>\n",
       "      <td>0</td>\n",
       "      <td>0</td>\n",
       "    </tr>\n",
       "    <tr>\n",
       "      <th>The Thurber Carnival (Harper Colophon Books)</th>\n",
       "      <td>0</td>\n",
       "      <td>0</td>\n",
       "      <td>0</td>\n",
       "      <td>0</td>\n",
       "      <td>0</td>\n",
       "    </tr>\n",
       "    <tr>\n",
       "      <th>Bingo Brown's Guide to Romance</th>\n",
       "      <td>0</td>\n",
       "      <td>0</td>\n",
       "      <td>0</td>\n",
       "      <td>0</td>\n",
       "      <td>0</td>\n",
       "    </tr>\n",
       "    <tr>\n",
       "      <th>Volunteer Slavery: My Authentic Negro Experience</th>\n",
       "      <td>0</td>\n",
       "      <td>0</td>\n",
       "      <td>0</td>\n",
       "      <td>0</td>\n",
       "      <td>0</td>\n",
       "    </tr>\n",
       "  </tbody>\n",
       "</table>\n",
       "</div>"
      ],
      "text/plain": [
       "book_title                                          Just Xml  \\\n",
       "book_title                                                     \n",
       "The Road to Oz (Puffin Classics)                           0   \n",
       "Roofworld                                                  0   \n",
       "How to be a very important person (McGraw-Hill ...         0   \n",
       "Hot Type: Our Most Celebrated Writers Introduce...         0   \n",
       "The Jungle (The Penguin American Library)                  0   \n",
       "The Adoption Resource Book                                 0   \n",
       "Safe Place                                                 0   \n",
       "The Thurber Carnival (Harper Colophon Books)               0   \n",
       "Bingo Brown's Guide to Romance                             0   \n",
       "Volunteer Slavery: My Authentic Negro Experience           0   \n",
       "\n",
       "book_title                                          Stonehenge Decoded  \\\n",
       "book_title                                                               \n",
       "The Road to Oz (Puffin Classics)                                     0   \n",
       "Roofworld                                                            0   \n",
       "How to be a very important person (McGraw-Hill ...                   0   \n",
       "Hot Type: Our Most Celebrated Writers Introduce...                   0   \n",
       "The Jungle (The Penguin American Library)                            0   \n",
       "The Adoption Resource Book                                           0   \n",
       "Safe Place                                                           0   \n",
       "The Thurber Carnival (Harper Colophon Books)                         0   \n",
       "Bingo Brown's Guide to Romance                                       0   \n",
       "Volunteer Slavery: My Authentic Negro Experience                     0   \n",
       "\n",
       "book_title                                          Fear of Falling: The Inner Life of the Middle Class  \\\n",
       "book_title                                                                                                \n",
       "The Road to Oz (Puffin Classics)                                                                    0     \n",
       "Roofworld                                                                                           0     \n",
       "How to be a very important person (McGraw-Hill ...                                                  0     \n",
       "Hot Type: Our Most Celebrated Writers Introduce...                                                  0     \n",
       "The Jungle (The Penguin American Library)                                                           0     \n",
       "The Adoption Resource Book                                                                          0     \n",
       "Safe Place                                                                                          0     \n",
       "The Thurber Carnival (Harper Colophon Books)                                                        0     \n",
       "Bingo Brown's Guide to Romance                                                                      0     \n",
       "Volunteer Slavery: My Authentic Negro Experience                                                    0     \n",
       "\n",
       "book_title                                          Evolutionary biology  \\\n",
       "book_title                                                                 \n",
       "The Road to Oz (Puffin Classics)                                       0   \n",
       "Roofworld                                                              0   \n",
       "How to be a very important person (McGraw-Hill ...                     0   \n",
       "Hot Type: Our Most Celebrated Writers Introduce...                     0   \n",
       "The Jungle (The Penguin American Library)                              0   \n",
       "The Adoption Resource Book                                             0   \n",
       "Safe Place                                                             0   \n",
       "The Thurber Carnival (Harper Colophon Books)                           0   \n",
       "Bingo Brown's Guide to Romance                                         0   \n",
       "Volunteer Slavery: My Authentic Negro Experience                       0   \n",
       "\n",
       "book_title                                          Jaguar Woman and the Wisdom of the Butterfly Tree  \n",
       "book_title                                                                                             \n",
       "The Road to Oz (Puffin Classics)                                                                    0  \n",
       "Roofworld                                                                                           0  \n",
       "How to be a very important person (McGraw-Hill ...                                                  0  \n",
       "Hot Type: Our Most Celebrated Writers Introduce...                                                  0  \n",
       "The Jungle (The Penguin American Library)                                                           0  \n",
       "The Adoption Resource Book                                                                          0  \n",
       "Safe Place                                                                                          0  \n",
       "The Thurber Carnival (Harper Colophon Books)                                                        0  \n",
       "Bingo Brown's Guide to Romance                                                                      0  \n",
       "Volunteer Slavery: My Authentic Negro Experience                                                    0  "
      ]
     },
     "execution_count": 71,
     "metadata": {},
     "output_type": "execute_result"
    }
   ],
   "source": [
    "ground_truth_df"
   ]
  },
  {
   "cell_type": "markdown",
   "metadata": {},
   "source": [
    "Setelah dibuatkan matriks ground truth yang berisi label sebenarnya dari hasil cosine similarity. Selanjutnya, dilakukan proses perhitungan evaluasi model dengan metrik precision, recall, dan f1 score. Pertama, mengimport fungsi `precision_recall_fscore_support` dari [library Sklearn](https://scikit-learn.org/stable/modules/generated/sklearn.metrics.precision_recall_fscore_support.html) yang digunakan untuk menghitung precision, recall dan f1 score. Lalu karena keterbatasan alokasi memori pada perangkat, data hanya diambil sekitar 10000 sampel dari cosine similarity dan ground truth matriks. Hal ini dilakukan untuk mempercepat proses perhitungan, terutama karena ukuran matriks yang cukup besar. Kemudian, matriks cosine similarity dan ground truth dikonversi menjadi array satu dimensi agar mempermudah perbandingan dan perhitungan metrik evaluasi. \n",
    "\n",
    "Digunakan juga threshold untuk mengkategorikan nilai cosine similarity sebagai 1 atau 0. Jika nilai similarity di atas atau sama dengan threshold, dianggap sebagai 1 (positif), dan jika di bawah threshold, dianggap sebagai 0 (negatif). Hasilnya disimpan dalam array `predictions`. Terakhir, digunakan fungsi `precision_recall_fscore_support` untuk menghitung precision, recall, dan f1 score. Parameter average='binary' digunakan karena sedang mengukur kinerja dalam konteks klasifikasi biner (1 atau 0). Parameter 'zero_division=1' digunakan untuk menghindari pembagian dengan nol jika ada kelas yang tidak terdapat di prediksi. Implementasi kode berikut:"
   ]
  },
  {
   "cell_type": "code",
   "execution_count": 72,
   "metadata": {},
   "outputs": [
    {
     "name": "stdout",
     "output_type": "stream",
     "text": [
      "Precision: 1.0\n",
      "Recall: 1.0\n",
      "F1-score: 1.0\n"
     ]
    }
   ],
   "source": [
    "from sklearn.metrics import precision_recall_fscore_support\n",
    "\n",
    "# Mengambil sebagian kecil dari cosine similarity matrix dan ground truth matrix\n",
    "sample_size = 10000\n",
    "cosine_sim_sample = cosine_sim[:sample_size, :sample_size]\n",
    "ground_truth_sample = ground_truth[:sample_size, :sample_size]\n",
    "\n",
    "# Mengonversi cosine similarity matrix menjadi array satu dimensi untuk perbandingan\n",
    "cosine_sim_flat = cosine_sim_sample.flatten()\n",
    "\n",
    "# Mengonversi ground truth matrix menjadi array satu dimensi\n",
    "ground_truth_flat = ground_truth_sample.flatten()\n",
    "\n",
    "# Menghitung metrik evaluasi\n",
    "predictions = (cosine_sim_flat >= threshold).astype(int)\n",
    "precision, recall, f1, _ = precision_recall_fscore_support(\n",
    "    ground_truth_flat, predictions, average='binary', zero_division=1\n",
    ")\n",
    "\n",
    "print(\"Precision:\", precision)\n",
    "print(\"Recall:\", recall)\n",
    "print(\"F1-score:\", f1)"
   ]
  },
  {
   "cell_type": "markdown",
   "metadata": {},
   "source": [
    "Berdasarkan hasil evaluasi, didapat nilai dari masing - masing metrik evaluasi yaitu precision, recall dan F1 Score. Nilai Precision didapat sebesar 1.0, artinya semua prediksi positif model adalah benar dan tidak terdapat false positive. Nilai recall didapat nilai 1.0 menunjukkan bahwa model berhasil mengidentifikasi sekitar 100% dari semua item yang sebenarnya relevan. Nilai F1 Score didapat sekitar 1.0 juga, ini menunjukkan keseimbangan yang baik antara precision dan recall dan model cenderung memberikan hasil yang sangat baik untuk kedua kelas (positif dan negatif). Kesimpulannya, berdasarkan hasil metrik evaluasi tersebut model bekerja dengan sangat baik dalam memberikan rekomendasi item dengan content based filtering."
   ]
  },
  {
   "cell_type": "markdown",
   "metadata": {},
   "source": [
    "## Evaluasi Model dengan Collaborative Filtering"
   ]
  },
  {
   "cell_type": "markdown",
   "metadata": {},
   "source": [
    "Seperti yang sudah dilihat pada proses pelatihan model di bagian modeling. Metrik yang digunakan untuk melakukan evaluasi model pada model dengan Collaborative Filtering di proyek ini adalah [Root Mean Squared Error (RMSE)](https://www.statisticshowto.com/probability-and-statistics/regression-analysis/rmse-root-mean-square-error/). RMSE adalah metrik evaluasi yang umum digunakan untuk mengukur seberapa baik model memprediksi nilai kontinu dengan membandingkan nilai prediksi dengan nilai sebenarnya. Dalam konteks collaborative filtering, RMSE biasanya digunakan untuk mengukur seberapa baik model kolaboratif dalam memprediksi preferensi pengguna terhadap item.\n",
    "\n",
    "Berdasarkan hasil proses training model pada tahap modeling, diperoleh hasil pelatihan berupa informasi RMSE di data train dan validasi. Untuk melihat visualisai proses training model, dilakukan proses plot metrik evaluasi dengan matplotlib. Terapkan kode berikut. "
   ]
  },
  {
   "cell_type": "code",
   "execution_count": 73,
   "metadata": {},
   "outputs": [
    {
     "data": {
      "image/png": "[encoded data removed]",
      "text/plain": [
       "<Figure size 432x288 with 1 Axes>"
      ]
     },
     "metadata": {
      "needs_background": "light"
     },
     "output_type": "display_data"
    }
   ],
   "source": [
    "plt.plot(history.history['root_mean_squared_error'])\n",
    "plt.plot(history.history['val_root_mean_squared_error'])\n",
    "plt.title('model_metrics')\n",
    "plt.ylabel('root_mean_squared_error')\n",
    "plt.xlabel('epoch')\n",
    "plt.legend(['train', 'test'], loc='upper left')\n",
    "plt.show()"
   ]
  },
  {
   "cell_type": "markdown",
   "metadata": {},
   "source": [
    "Berdasarkan hasil visualisasi metrik evaluasi RMSE terhadap model yang dikembangkan, terlihat hasil model konvergen pada epochs sekitar 50 dan berdasarkan plot metriks model tidak ditemukan adanya indikasi model mengamali overfit atau underfit. Dari proses ini, diperoleh nilai error akhir sebesar 0.2007 dan error pada data validasi sebesar 0.3424. Nilai tersebut menunjukkan hasil yang cukup baik untuk sistem rekomendasi yang dihasilkan. Semakin kecil nilai RMSE, semakin baik model dalam memprediksi preferensi pengguna terhadap item. Hal inilah yang menyebabkan hasil rekomendasi dari model cukup akurat."
   ]
  },
  {
   "cell_type": "code",
   "execution_count": null,
   "metadata": {},
   "outputs": [],
   "source": []
  }
 ],
 "metadata": {
  "kernelspec": {
   "display_name": "Python 3",
   "language": "python",
   "name": "python3"
  },
  "language_info": {
   "codemirror_mode": {
    "name": "ipython",
    "version": 3
   },
   "file_extension": ".py",
   "mimetype": "text/x-python",
   "name": "python",
   "nbconvert_exporter": "python",
   "pygments_lexer": "ipython3",
   "version": "3.10.5"
  }
 },
 "nbformat": 4,
 "nbformat_minor": 2
}
